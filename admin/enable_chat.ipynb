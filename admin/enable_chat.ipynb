{
 "cells": [
  {
   "attachments": {},
   "cell_type": "markdown",
   "metadata": {},
   "source": [
    "# Create Chat Invitations\n",
    "\n",
    "To run, make sure you have your client PW stored as an env var locally, or replace with a hardcoded string. Also make sure to modify the `venue_ids` var with the list of venues you want to enable chat in."
   ]
  },
  {
   "cell_type": "code",
   "execution_count": 18,
   "metadata": {},
   "outputs": [],
   "source": [
    "# Imports\n",
    "\n",
    "from openreview.api import Invitation\n",
    "from openreview.api import OpenReviewClient\n",
    "from openreview import tools\n",
    "from os import getenv"
   ]
  },
  {
   "cell_type": "code",
   "execution_count": 19,
   "metadata": {},
   "outputs": [],
   "source": [
    "# Initialize clients\n",
    "\n",
    "local_client = OpenReviewClient(baseurl='http://localhost:3001', username='OpenReview.net', password=getenv('OR_SUPER_USER_PW'))\n",
    "# dev_client = OpenReviewClient(baseurl='https://devapi2.openreview.net', username='OpenReview.net', password=getenv('OR_DEV_SUPER_USER_PW'))\n",
    "# live_client = OpenReviewClient(baseurl='https://api2.openreview.net', username='OpenReview.net', password=getenv('OR_SUPER_USER_PW'))"
   ]
  },
  {
   "cell_type": "code",
   "execution_count": 20,
   "metadata": {},
   "outputs": [],
   "source": [
    "# Config vars\n",
    "\n",
    "venue_ids = ['ICML.cc/2023/Conference']\n",
    "client = local_client"
   ]
  },
  {
   "cell_type": "code",
   "execution_count": 22,
   "metadata": {},
   "outputs": [
    {
     "name": "stdout",
     "output_type": "stream",
     "text": [
      "Posting submission invitation edit...\n"
     ]
    },
    {
     "name": "stderr",
     "output_type": "stream",
     "text": [
      "Posting chat invitations for submissions...: 100%|██████████| 1000/1000 [00:10<00:00, 98.26it/s]\n"
     ]
    }
   ],
   "source": [
    "# Post invitation edits\n",
    "\n",
    "for venue_id in venue_ids:\n",
    "    # Post forum tab config\n",
    "    print('Posting submission invitation edit')\n",
    "    client.post_invitation_edit(\n",
    "        invitations=f'{venue_id}/-/Edit',\n",
    "        readers = [venue_id],\n",
    "        writers = [venue_id],\n",
    "        signatures = [venue_id],\n",
    "        invitation = Invitation(\n",
    "            id = f'{venue_id}/-/Submission',\n",
    "            reply_forum_views = [\n",
    "                {\n",
    "                    'id': 'all',\n",
    "                    'label': 'All'\n",
    "                },\n",
    "                {\n",
    "                    'id': 'discussion',\n",
    "                    'label': 'Discussion',\n",
    "                    'filter': f'-invitations:{venue_id}/Submission${{note.number}}/-/Chat',\n",
    "                    'nesting': 3,\n",
    "                    'sort': 'date-desc',\n",
    "                    'layout': 'default',\n",
    "                },\n",
    "                {\n",
    "                    'id': 'reviewers-chat',\n",
    "                    'label': 'Reviewers Chat',\n",
    "                    'filter': f'invitations:{venue_id}${{note.number}}/-/Chat,{venue_id}${{note.number}}/-/Official_Review',\n",
    "                    'nesting': 1,\n",
    "                    'sort': 'date-asc',\n",
    "                    'layout': 'chat',\n",
    "                    'live': True,\n",
    "                    'expandedInvitations': [f'{venue_id}/Submission${{note.number}}/-/Chat']\n",
    "                }\n",
    "            ]\n",
    "        )\n",
    "    )\n",
    "\n",
    "    # Get all submissions\n",
    "    submission_notes = client.get_notes(invitation=f'{venue_id}/-/Submission')\n",
    "\n",
    "    def post(note):\n",
    "        submission_group_id = f'{venue_id}/Submission{note.number}'\n",
    "        return client.post_invitation_edit(\n",
    "            invitations = f'{venue_id}/-/Edit',\n",
    "            readers = [venue_id],\n",
    "            writers = [venue_id],\n",
    "            signatures = [venue_id],\n",
    "            invitation = Invitation(\n",
    "                id = f'{submission_group_id}/-/Chat',\n",
    "                readers = ['everyone'],\n",
    "                writers = [venue_id],\n",
    "                signatures = [venue_id],\n",
    "                invitees = [\n",
    "                    f'{venue_id}/Program_Chairs', \n",
    "                    f'{submission_group_id}/Area_Chairs', \n",
    "                    f'{submission_group_id}/Reviewers'\n",
    "                ],\n",
    "                edit = {\n",
    "                    'readers': [venue_id, '${2/signatures}'],\n",
    "                    'writers': [venue_id],\n",
    "                    'signatures': {\n",
    "                        'param': {\n",
    "                            'enum': [\n",
    "                                f'{venue_id}/Program_Chairs',\n",
    "                                f'{submission_group_id}/Area_Chair_.*',\n",
    "                                f'{submission_group_id}/Reviewer_.*',\n",
    "                            ]\n",
    "                        }\n",
    "                    },\n",
    "                    'note': {\n",
    "                        'id': {\n",
    "                            'param': {\n",
    "                                'withInvitation': f'{submission_group_id}/-/Chat',\n",
    "                                'optional': True\n",
    "                            }\n",
    "                        },\n",
    "                        'readers': [\n",
    "                            f'{venue_id}/Program_Chairs', \n",
    "                            f'{submission_group_id}/Area_Chairs', \n",
    "                            f'{submission_group_id}/Reviewers'\n",
    "                        ],\n",
    "                        'writers': [venue_id],\n",
    "                        'signatures': ['${3/signatures}'],\n",
    "                        'ddate': {\n",
    "                            'param': {\n",
    "                                'range': [ 0, 9999999999999 ],\n",
    "                                'optional': True,\n",
    "                                'deletable': True\n",
    "                            }\n",
    "                        },\n",
    "                        'forum': note.id,\n",
    "                        'replyto': {\n",
    "                            'param': {\n",
    "                                'withForum': note.id\n",
    "                            }\n",
    "                        },\n",
    "                        'content': {\n",
    "                            'message': {\n",
    "                                'value': {\n",
    "                                    'param': {\n",
    "                                        'type': 'string',\n",
    "                                        'maxLength': 5000,\n",
    "                                        'markdown': True\n",
    "                                    }\n",
    "                                }\n",
    "                            }\n",
    "                        }\n",
    "                    }\n",
    "                }\n",
    "            )\n",
    "        )             \n",
    "    \n",
    "    tools.concurrent_requests(post, submission_notes, 'Posting chat invitations for submissions')\n",
    "   \n"
   ]
  }
 ],
 "metadata": {
  "kernelspec": {
   "display_name": "Python 3",
   "language": "python",
   "name": "python3"
  },
  "language_info": {
   "codemirror_mode": {
    "name": "ipython",
    "version": 3
   },
   "file_extension": ".py",
   "mimetype": "text/x-python",
   "name": "python",
   "nbconvert_exporter": "python",
   "pygments_lexer": "ipython3",
   "version": "3.10.9"
  },
  "orig_nbformat": 4
 },
 "nbformat": 4,
 "nbformat_minor": 2
}
