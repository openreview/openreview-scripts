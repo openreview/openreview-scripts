{
 "cells": [
  {
   "cell_type": "code",
   "execution_count": null,
   "metadata": {},
   "outputs": [],
   "source": [
    "import openreview\n",
    "import iclr19 as ICLR\n",
    "\n",
    "client = openreview.Client()\n",
    "print(client.baseurl)"
   ]
  },
  {
   "cell_type": "markdown",
   "metadata": {},
   "source": [
    "## Setup dev instance"
   ]
  },
  {
   "cell_type": "code",
   "execution_count": null,
   "metadata": {
    "collapsed": true
   },
   "outputs": [],
   "source": [
    "# create dummy users:\n",
    "# - author and co-author\n",
    "# - reviewer user \n",
    "# - areachair user \n",
    "# - pc user \n",
    "# - author and reviewer user \n",
    "# - author and area chair user \n",
    "\n",
    "pw = '1234'\n",
    "user_credentials = [\n",
    "    {'email': 'author@iclr19test.net', 'first': 'Author', 'last': 'ICLR', 'password': pw},\n",
    "    {'email': 'reviewer@iclr19test.net', 'first': 'Reviewer', 'last': 'ICLR', 'password': pw},\n",
    "    {'email': 'areachair@iclr19test.net', 'first': 'AreaChair', 'last': 'ICLR', 'password': pw},\n",
    "    {'email': 'programchair@iclr19test.net', 'first': 'ProgramChair', 'last': 'ICLR', 'password': pw},\n",
    "    {'email': 'authorreviewer@iclr19test.net', 'first': 'AuthorReviewer', 'last': 'ICLR', 'password': pw},\n",
    "    {'email': 'authorareachair@iclr19test.net', 'first': 'AuthorAreaChair', 'last': 'ICLR', 'password': pw}\n",
    "]\n",
    "\n",
    "for c in user_credentials:\n",
    "    response = client.register_user(**c)"
   ]
  },
  {
   "cell_type": "code",
   "execution_count": null,
   "metadata": {
    "collapsed": true
   },
   "outputs": [],
   "source": [
    "client.register_user(**{'email': 'newauthor@iclr19test.net', 'first': 'NewAuthor', 'last': 'ICLR', 'password': '1234'})"
   ]
  },
  {
   "cell_type": "code",
   "execution_count": null,
   "metadata": {
    "collapsed": true
   },
   "outputs": [],
   "source": [
    "ICLR.program_chairs.members=['programchair@iclr19test.net']\n",
    "client.post_group(ICLR.program_chairs)\n",
    "\n",
    "# post the groups in the conference's path\n",
    "iclr_groups = openreview.tools.build_groups(ICLR.conference.id)\n",
    "for group in iclr_groups:\n",
    "    try:\n",
    "        existing_group = client.get_group(group.id)\n",
    "    except openreview.OpenReviewException as e:\n",
    "        posted_group = client.post_group(group)\n",
    "        print(posted_group.id)\n",
    "\n",
    "# post the conference group with updated parameters\n",
    "client.post_group(ICLR.conference)"
   ]
  },
  {
   "cell_type": "markdown",
   "metadata": {},
   "source": [
    "## Webfield download/upload"
   ]
  },
  {
   "cell_type": "code",
   "execution_count": null,
   "metadata": {
    "collapsed": true
   },
   "outputs": [],
   "source": [
    "# # Download ICLR homepage\n",
    "# conf = client.get_group(ICLR.CONFERENCE_ID)\n",
    "# with open('../webfield/iclr-homepage.js','w') as f:\n",
    "#     f.write(conf.web)"
   ]
  },
  {
   "cell_type": "code",
   "execution_count": null,
   "metadata": {
    "collapsed": true
   },
   "outputs": [],
   "source": [
    "# # Download bid webfield\n",
    "# bid = client.get_invitation('ICLR.cc/2019/Conference/-/Add_Bid')\n",
    "# with open('../webfield/bidWebfield.js','w') as f:\n",
    "#     f.write(bid.web)"
   ]
  },
  {
   "cell_type": "code",
   "execution_count": null,
   "metadata": {
    "collapsed": true
   },
   "outputs": [],
   "source": [
    "# # Download area chair webfield\n",
    "# with open('../webfield/areachairWebfield.js','w') as f:\n",
    "#     f.write(client.get_group(ICLR.AREA_CHAIRS_ID).web)"
   ]
  },
  {
   "cell_type": "code",
   "execution_count": null,
   "metadata": {
    "collapsed": true
   },
   "outputs": [],
   "source": [
    "# Upload bid webfield\n",
    "bid = client.get_invitation('ICLR.cc/2019/Conference/-/Add_Bid')\n",
    "with open('../webfield/bidWebfield.js') as f:\n",
    "    bid.web = f.read()\n",
    "    client.post_invitation(bid)"
   ]
  },
  {
   "cell_type": "code",
   "execution_count": null,
   "metadata": {
    "collapsed": true
   },
   "outputs": [],
   "source": [
    "# Upload ICLR homepage\n",
    "conf = client.get_group(ICLR.CONFERENCE_ID)\n",
    "with open('../webfield/homepage.js') as f:\n",
    "    conf.web = f.read()\n",
    "    client.post_group(conf)"
   ]
  },
  {
   "cell_type": "code",
   "execution_count": null,
   "metadata": {
    "collapsed": true
   },
   "outputs": [],
   "source": [
    "# Upload reviewer webfield\n",
    "with open('../webfield/reviewerWebfield.js','r') as f:\n",
    "    reviewers = client.get_group('ICLR.cc/2019/Conference/Reviewers')\n",
    "    reviewers.web = f.read()\n",
    "    client.post_group(reviewers)"
   ]
  },
  {
   "cell_type": "code",
   "execution_count": null,
   "metadata": {
    "collapsed": true
   },
   "outputs": [],
   "source": [
    "# Upload areachair webfield\n",
    "with open('../webfield/areachairWebfield.js','r') as f:\n",
    "    areachairs = client.get_group('ICLR.cc/2019/Conference/Area_Chairs')\n",
    "    areachairs.web = f.read()\n",
    "    client.post_group(areachairs)"
   ]
  },
  {
   "cell_type": "code",
   "execution_count": null,
   "metadata": {
    "collapsed": true
   },
   "outputs": [],
   "source": [
    "# Upload author webfield\n",
    "with open('../webfield/authorWebfield.js','r') as f:\n",
    "    authors = client.get_group('ICLR.cc/2019/Conference/Authors')\n",
    "    authors.web = f.read()\n",
    "    client.post_group(authors)"
   ]
  },
  {
   "cell_type": "code",
   "execution_count": null,
   "metadata": {
    "collapsed": true
   },
   "outputs": [],
   "source": [
    "# Upload program chair webfield\n",
    "with open('../webfield/programchairWebfield.js','r') as f:\n",
    "    program_chairs = client.get_group('ICLR.cc/2019/Conference/Program_Chairs')\n",
    "    program_chairs.web = f.read()\n",
    "    client.post_group(program_chairs)"
   ]
  },
  {
   "cell_type": "code",
   "execution_count": null,
   "metadata": {
    "collapsed": true
   },
   "outputs": [],
   "source": []
  },
  {
   "cell_type": "markdown",
   "metadata": {},
   "source": [
    "# Demo Begins Here"
   ]
  },
  {
   "cell_type": "markdown",
   "metadata": {},
   "source": [
    "### Set up reviewer recruitment and registration"
   ]
  },
  {
   "cell_type": "code",
   "execution_count": null,
   "metadata": {
    "collapsed": true
   },
   "outputs": [],
   "source": [
    "# post reviewer groups that we can use to track those that were invited, \n",
    "# and those that accepted or declined the invitation.\n",
    "\n",
    "ICLR.reviewers.members = [\n",
    "    'melisabok@gmail.com',\n",
    "    'reviewer@iclr19test.net',\n",
    "    'authorreviewer@iclr19test.net'\n",
    "]\n",
    "\n",
    "client.post_group(ICLR.reviewers)\n",
    "client.post_group(ICLR.reviewers_invited)\n",
    "client.post_group(ICLR.reviewers_declined)"
   ]
  },
  {
   "cell_type": "code",
   "execution_count": null,
   "metadata": {
    "collapsed": true
   },
   "outputs": [],
   "source": [
    "client.get_notes(invitation='sdfa')"
   ]
  },
  {
   "cell_type": "code",
   "execution_count": null,
   "metadata": {
    "collapsed": true
   },
   "outputs": [],
   "source": [
    "# get existing roots\n",
    "existing_roots = client.get_notes(invitation=ICLR.registration_root_invitation.id)\n",
    "print(existing_roots)"
   ]
  },
  {
   "cell_type": "code",
   "execution_count": null,
   "metadata": {
    "collapsed": true
   },
   "outputs": [],
   "source": [
    "# post root registration invitation and note\n",
    "client.post_invitation(ICLR.registration_root_invitation)\n",
    "if existing_roots:\n",
    "    registration_root_note = existing_roots[0]\n",
    "else:    \n",
    "    registration_root_note = client.post_note(ICLR.registration_root_note)"
   ]
  },
  {
   "cell_type": "code",
   "execution_count": null,
   "metadata": {
    "collapsed": true
   },
   "outputs": [],
   "source": [
    "registration_root_note.id"
   ]
  },
  {
   "cell_type": "code",
   "execution_count": null,
   "metadata": {
    "collapsed": true
   },
   "outputs": [],
   "source": [
    "client.post_invitation(openreview.invitations.from_template(ICLR.data_consent_template, registration_root_note))\n",
    "client.post_invitation(openreview.invitations.from_template(ICLR.subject_areas_template, registration_root_note))\n",
    "client.post_invitation(openreview.invitations.from_template(ICLR.confirm_profile_template, registration_root_note))"
   ]
  },
  {
   "cell_type": "code",
   "execution_count": null,
   "metadata": {
    "collapsed": true
   },
   "outputs": [],
   "source": [
    "# do the same for area chairs.\n",
    "#ICLR.area_chairs.members = ['ICLRareachair@openreview.net']\n",
    "\n",
    "ICLR.area_chairs.members = [\n",
    "    'areachair@iclr19test.net',\n",
    "    'authorareachair@iclr19test.net'\n",
    "]\n",
    "\n",
    "client.post_group(ICLR.area_chairs)\n",
    "client.post_group(ICLR.area_chairs_invited)\n",
    "client.post_group(ICLR.area_chairs_declined)"
   ]
  },
  {
   "cell_type": "code",
   "execution_count": null,
   "metadata": {
    "collapsed": true
   },
   "outputs": [],
   "source": [
    "# update the Authors group with the per-paper author groups\n",
    "\n",
    "member_set = set()\n",
    "authorgroups = client.get_groups('/'.join([ICLR.CONFERENCE_ID, 'Paper.*', 'Authors']))\n",
    "for g in authorgroups:\n",
    "    member_set.update([g.id])\n",
    "    \n",
    "print(member_set)\n",
    "\n",
    "ICLR.authors.members = list(member_set)\n",
    "client.post_group(ICLR.authors)"
   ]
  },
  {
   "cell_type": "code",
   "execution_count": null,
   "metadata": {
    "collapsed": true
   },
   "outputs": [],
   "source": [
    "authors = client.get_group(ICLR.AUTHORS_ID)\n",
    "with open('../webfield/authorWebfield.js') as f:\n",
    "    authors.web = f.read()\n",
    "    client.post_group(authors)"
   ]
  },
  {
   "cell_type": "code",
   "execution_count": null,
   "metadata": {
    "collapsed": true
   },
   "outputs": [],
   "source": [
    "# post the recruitment invitations\n",
    "client.post_invitation(ICLR.recruit_reviewers)"
   ]
  },
  {
   "cell_type": "code",
   "execution_count": null,
   "metadata": {
    "collapsed": true
   },
   "outputs": [],
   "source": [
    "# define some potential reviewers and area chairs\n",
    "rev_email = 'spector@cs.umass.edu'\n",
    "rev_firstname = 'ICLR Reviewer'"
   ]
  },
  {
   "cell_type": "code",
   "execution_count": null,
   "metadata": {
    "collapsed": true
   },
   "outputs": [],
   "source": [
    "# deploy reviewer invitation\n",
    "openreview.tools.recruit_reviewer(client, rev_email, rev_firstname,\n",
    "                                 hash_seed = ICLR.HASH_SEED,\n",
    "                                 recruit_reviewers_id = ICLR.RECRUIT_REVIEWERS_ID,\n",
    "                                 recruit_message = ICLR.RECRUIT_REVIEWERS_MESSAGE,\n",
    "                                 recruit_message_subj = ICLR.RECRUIT_MESSAGE_SUBJ,\n",
    "                                 reviewers_invited_id = ICLR.REVIEWERS_INVITED_ID\n",
    "                                 )"
   ]
  },
  {
   "cell_type": "markdown",
   "metadata": {},
   "source": [
    "### Double-blind Paper Submission"
   ]
  },
  {
   "cell_type": "code",
   "execution_count": null,
   "metadata": {
    "collapsed": true
   },
   "outputs": [],
   "source": [
    "# post the submission and blind submission invitations\n",
    "posted_submission_inv = client.post_invitation(ICLR.submission_inv)\n",
    "posted_blind_inv = client.post_invitation(ICLR.blind_submission_inv)"
   ]
  },
  {
   "cell_type": "markdown",
   "metadata": {},
   "source": [
    "The following section is for the ICLR demo.\n",
    "\n",
    "It collects papers from ICLR 2018 and posts them as if they were ICLR 2019 submissions."
   ]
  },
  {
   "cell_type": "code",
   "execution_count": null,
   "metadata": {
    "collapsed": true
   },
   "outputs": [],
   "source": [
    "# collect old ICLR papers and post them\n",
    "old_iclr_papers = client.get_notes(invitation='ICLR.cc/2018/Conference/-/Submission', limit=5)\n",
    "print(len(old_iclr_papers))"
   ]
  },
  {
   "cell_type": "code",
   "execution_count": null,
   "metadata": {
    "collapsed": true
   },
   "outputs": [],
   "source": [
    "old_iclr_papers[0].writers"
   ]
  },
  {
   "cell_type": "code",
   "execution_count": null,
   "metadata": {
    "collapsed": true
   },
   "outputs": [],
   "source": [
    "# post the ICLR papers\n",
    "for paper in old_iclr_papers:\n",
    "    if 'ICLR.cc/2018/Conference' in paper.writers:\n",
    "        paper.writers.remove('ICLR.cc/2018/Conference')\n",
    "        paper.writers.append('ICLR.cc/2019/Conference')\n",
    "    if 'TL;DR' in paper.content:\n",
    "        paper.content.pop('TL;DR')\n",
    "    \n",
    "    posted_submission = client.post_note(openreview.Note.from_json({\n",
    "        'writers': paper.writers,\n",
    "        'readers': [ICLR.CONFERENCE_ID] + paper.content['authorids'] + paper.signatures,\n",
    "        'content': paper.content,\n",
    "        'invitation': ICLR.SUBMISSION_ID\n",
    "    }))\n",
    "    print(posted_submission.content['title'])\n",
    "    "
   ]
  },
  {
   "cell_type": "markdown",
   "metadata": {},
   "source": [
    "### Area Chair and Reviewer bidding"
   ]
  },
  {
   "cell_type": "code",
   "execution_count": null,
   "metadata": {
    "collapsed": true
   },
   "outputs": [],
   "source": [
    "# OpenReview lets area chairs and reviewers (and whoever else) bid on papers.\n",
    "ICLR.add_bid.invitees = [ICLR.REVIEWERS_ID, ICLR.AREA_CHAIRS_ID]\n",
    "client.post_invitation(ICLR.add_bid)\n",
    "# client.post_invitation(ICLR.add_wager)"
   ]
  },
  {
   "cell_type": "markdown",
   "metadata": {},
   "source": [
    "### Reviewer recommendations from area chairs"
   ]
  },
  {
   "cell_type": "code",
   "execution_count": null,
   "metadata": {
    "collapsed": true
   },
   "outputs": [],
   "source": []
  },
  {
   "cell_type": "code",
   "execution_count": null,
   "metadata": {
    "collapsed": true
   },
   "outputs": [],
   "source": [
    "# get all currently submitted papers\n",
    "ICLR_submissions = openreview.tools.get_all_notes(client, ICLR.BLIND_SUBMISSION_ID)\n",
    "\n",
    "# Add reviewer rec tag invitation to the last five papers\n",
    "for paper in ICLR_submissions[0:5]:\n",
    "    rec_inv = openreview.invitations.from_template(ICLR.ac_recommendation_template, paper)\n",
    "    rec_inv.invitees = ['ICLRareachair@openreview.net']\n",
    "    posted_inv = client.post_invitation(rec_inv)\n",
    "    print posted_inv.id"
   ]
  },
  {
   "cell_type": "code",
   "execution_count": null,
   "metadata": {
    "collapsed": true
   },
   "outputs": [],
   "source": [
    "# convert reviewers to canonical identities\n",
    "\n",
    "reviewers_group = client.get_group(ICLR.REVIEWERS_ID)\n",
    "for member in reviewers_group.members:\n",
    "    if '@' in member:\n",
    "        profile = client.get_profile(member)\n",
    "        client.remove_members_from_group(reviewers_group, member)\n",
    "        client.add_members_to_group(reviewers_group, profile.id)\n",
    "        "
   ]
  },
  {
   "cell_type": "code",
   "execution_count": null,
   "metadata": {
    "collapsed": true
   },
   "outputs": [],
   "source": [
    "ICLR.area_chairs.members"
   ]
  },
  {
   "cell_type": "markdown",
   "metadata": {},
   "source": [
    "### Official Reviews, Official Comments, and Open Comments"
   ]
  },
  {
   "cell_type": "code",
   "execution_count": null,
   "metadata": {
    "collapsed": true
   },
   "outputs": [],
   "source": [
    "# get all currently submitted papers\n",
    "ICLR_submissions = openreview.tools.iterget_notes(client, invitation=ICLR.BLIND_SUBMISSION_ID)\n",
    "area_chairs = client.get_group(id=ICLR.AREA_CHAIRS_ID)\n",
    "reviewers = client.get_group(id=ICLR.REVIEWERS_ID)\n",
    "# assign some papers\n",
    "\n",
    "for paper in ICLR_submissions:\n",
    "    for reviewer in reviewers.members:\n",
    "        openreview.tools.assign(client, paper.number, ICLR.CONFERENCE_ID,\n",
    "            reviewer_to_add = reviewer,\n",
    "            parent_label = 'Reviewers',\n",
    "            individual_label = 'AnonReviewer',\n",
    "            individual_group_params = {\n",
    "                'readers': [\n",
    "                    ICLR.AREA_CHAIRS_ID, \n",
    "                    ICLR.PROGRAM_CHAIRS_ID\n",
    "                ]\n",
    "            })\n",
    "    for areachair in area_chairs.members:\n",
    "        openreview.tools.assign(client, paper.number, ICLR.CONFERENCE_ID,\n",
    "            reviewer_to_add = areachair,\n",
    "            parent_label = 'Area_Chairs',\n",
    "            individual_label = 'Area_Chair',\n",
    "            individual_group_params = {\n",
    "                'readers': [\n",
    "                    ICLR.PROGRAM_CHAIRS_ID\n",
    "                ]\n",
    "            })"
   ]
  },
  {
   "cell_type": "code",
   "execution_count": null,
   "metadata": {
    "collapsed": true
   },
   "outputs": [],
   "source": [
    "anonreviewers = client.get_groups('ICLR.cc/2019/Conference/Paper.*/AnonReviewer.*')\n",
    "acs = client.get_groups('CLR.cc/2019/Conference/Paper.*/Area_Chair.*')\n",
    "\n",
    "for g in anonreviewers + acs:\n",
    "    g.readers += ['ICLR.cc/2019/Conference/Program_Chairs']\n",
    "    client.post_group(g)"
   ]
  },
  {
   "cell_type": "code",
   "execution_count": null,
   "metadata": {
    "collapsed": true
   },
   "outputs": [],
   "source": []
  },
  {
   "cell_type": "code",
   "execution_count": null,
   "metadata": {
    "collapsed": true
   },
   "outputs": [],
   "source": [
    "ICLR_submissions = openreview.tools.iterget_notes(client, invitation=ICLR.BLIND_SUBMISSION_ID)\n",
    "for paper in ICLR_submissions:\n",
    "    reviewer_group = client.get_group('/'.join([ICLR.CONFERENCE_ID, 'Paper{}'.format(paper.number), 'Reviewers']))\n",
    "    reviewer_group.readers = [\n",
    "        \"ICLR.cc/2019/Conference\",\n",
    "        \"ICLR.cc/2019/Conference/Program_Chairs\"\n",
    "    ]\n",
    "    client.post_group(reviewer_group)"
   ]
  },
  {
   "cell_type": "code",
   "execution_count": null,
   "metadata": {
    "collapsed": true
   },
   "outputs": [],
   "source": [
    "# get all currently submitted papers\n",
    "ICLR_submissions = openreview.tools.iterget_notes(client, invitation=ICLR.BLIND_SUBMISSION_ID)\n",
    "ICLR_originals = openreview.tools.iterget_notes(client, invitation=ICLR.SUBMISSION_ID)\n",
    "# enable reviews\n",
    "for paper in ICLR_submissions:\n",
    "#     client.post_invitation(openreview.invitations.from_template(ICLR.official_review_template, paper))\n",
    "#     client.post_invitation(openreview.invitations.from_template(ICLR.official_comment_template, paper))\n",
    "#     client.post_invitation(openreview.invitations.from_template(ICLR.meta_review_template, paper))\n",
    "    client.post_invitation(openreview.invitations.from_template(ICLR.review_rating_template, paper))\n",
    "\n",
    "# for paper in ICLR_originals:\n",
    "#     client.post_invitation(openreview.invitations.from_template(ICLR.add_revision_template, paper))"
   ]
  },
  {
   "cell_type": "code",
   "execution_count": null,
   "metadata": {
    "collapsed": true
   },
   "outputs": [],
   "source": [
    "# get all currently submitted papers\n",
    "ICLR_submissions = openreview.tools.get_all_notes(client, ICLR.BLIND_SUBMISSION_ID)\n",
    "\n",
    "for paper in ICLR_submissions:\n",
    "    metadata_params = {\n",
    "        'forum': paper.id,\n",
    "        'replyto': paper.id,\n",
    "        'invitation': ICLR.REVIEWER_METADATA_ID,\n",
    "        'readers': {\n",
    "            'values': [\n",
    "                ICLR.CONFERENCE_ID\n",
    "            ]\n",
    "        },\n",
    "        'writers': {\n",
    "            'values': [ICLR.CONFERENCE_ID]\n",
    "        },\n",
    "        'signatures': {\n",
    "            'values': [ICLR.CONFERENCE_ID]},\n",
    "        'content': {\n",
    "            'groups': {\n",
    "                ICLR.REVIEWERS_ID: [\n",
    "                    {\n",
    "                        'scores': {'affinity': 1.0},\n",
    "                        'constraints': {'cmtConflict': '-inf'},\n",
    "                        'userId': '~Red_Reviewer1'\n",
    "                    },\n",
    "                    {\n",
    "                        'scores': {'affinity': 1.0},\n",
    "                        'constraints': {'cmtConflict': '-inf'},\n",
    "                        'userId': '~Blue_Reviewer1'\n",
    "                    },\n",
    "                    {\n",
    "                        'scores': {'affinity': 1.0},\n",
    "                        'constraints': {'cmtConflict': '-inf'},\n",
    "                        'userId': '~Green_Reviewer1'\n",
    "                    },\n",
    "                    {\n",
    "                        'scores': {'affinity': 1.0},\n",
    "                        'constraints': {'cmtConflict': '-inf'},\n",
    "                        'userId': '~ICLR_Reviewer1'\n",
    "                    }\n",
    "                ]\n",
    "            }\n",
    "        }\n",
    "    }"
   ]
  },
  {
   "cell_type": "code",
   "execution_count": null,
   "metadata": {
    "collapsed": true
   },
   "outputs": [],
   "source": [
    "import random\n",
    "\n",
    "client.post_invitation(ICLR.assignment_inv)\n",
    "\n",
    "for paper in ICLR_submissions:\n",
    "    finalscore = random.random()\n",
    "    assignment_params = {\n",
    "        'invitation': ICLR.ASSIGNMENT_INV_ID,\n",
    "        'readers': [ICLR.CONFERENCE_ID],\n",
    "        'writers': [ICLR.CONFERENCE_ID],\n",
    "        'signatures': [ICLR.CONFERENCE_ID],\n",
    "        'forum': paper.id,\n",
    "        'replyto': paper.id,\n",
    "        'content': {\n",
    "            'label': 'reviewers',\n",
    "            'assignedGroups': [\n",
    "                {\n",
    "                    \"finalScore\": 1.0,\n",
    "                    \"scores\": {\n",
    "                        \"affinity\": 1.0\n",
    "                    },\n",
    "                    \"constraints\": {},\n",
    "                    \"userId\": \"~Red_Reviewer1\"\n",
    "                },\n",
    "            ],\n",
    "            'alternateGroups': [\n",
    "                {\n",
    "                    \"finalScore\": random.random(),\n",
    "                    \"scores\": {\n",
    "                        \"affinity\": random.random()\n",
    "                    },\n",
    "                    \"constraints\": {'conflict': '-inf'},\n",
    "                    \"userId\": \"~Blue_Reviewer1\"\n",
    "                },\n",
    "                {\n",
    "                    \"finalScore\": random.random(),\n",
    "                    \"scores\": {\n",
    "                        \"affinity\": random.random()\n",
    "                    },\n",
    "                    \"constraints\": {},\n",
    "                    \"userId\": \"~Green_Reviewer1\"\n",
    "                },\n",
    "                {\n",
    "                    \"finalScore\": random.random(),\n",
    "                    \"scores\": {\n",
    "                        \"affinity\": random.random()\n",
    "                    },\n",
    "                    \"constraints\": {},\n",
    "                    \"userId\": \"~ICLR_Reviewer1\"\n",
    "                },\n",
    "            ]\n",
    "        }   \n",
    "    }\n",
    "    \n",
    "    client.post_note(openreview.Note(**assignment_params))\n"
   ]
  },
  {
   "cell_type": "code",
   "execution_count": null,
   "metadata": {
    "collapsed": true
   },
   "outputs": [],
   "source": [
    "client.post_invitation(ICLR.config_inv)\n",
    "config_note = client.post_note(openreview.Note(**{\n",
    "    'invitation': ICLR.CONFIG_INV_ID,\n",
    "    'readers': [ICLR.CONFERENCE_ID],\n",
    "    'writers': [ICLR.CONFERENCE_ID],\n",
    "    'signatures': [ICLR.CONFERENCE_ID],\n",
    "    'content': {\n",
    "        'label': 'reviewers',\n",
    "        'configuration': {\n",
    "            'minusers': 1,\n",
    "            'maxusers': 1,\n",
    "            'minpapers': 0,\n",
    "            'maxpapers': 8,\n",
    "            'alternates': 5,\n",
    "            'weights': {\n",
    "                'affinity': 1.0,\n",
    "                'acRecommendation': 3.0,\n",
    "                'bidScore': 1.0\n",
    "            }\n",
    "        },\n",
    "        'constraints': {},\n",
    "        'paper_invitation': ICLR.BLIND_SUBMISSION_ID,\n",
    "        'metadata_invitation': ICLR.REVIEWER_METADATA_ID,\n",
    "        'assignment_invitation': ICLR.ASSIGNMENT_INV_ID,\n",
    "        'match_group': ICLR.REVIEWERS_ID,\n",
    "        'status': 'complete' # 'queued', 'processing', 'complete' or 'error'\n",
    "    }\n",
    "}))"
   ]
  },
  {
   "cell_type": "code",
   "execution_count": null,
   "metadata": {
    "collapsed": true
   },
   "outputs": [],
   "source": []
  }
 ],
 "metadata": {
  "kernelspec": {
   "display_name": "openreview",
   "language": "python",
   "name": "openreview"
  },
  "language_info": {
   "codemirror_mode": {
    "name": "ipython",
    "version": 3
   },
   "file_extension": ".py",
   "mimetype": "text/x-python",
   "name": "python",
   "nbconvert_exporter": "python",
   "pygments_lexer": "ipython3",
   "version": "3.5.4"
  }
 },
 "nbformat": 4,
 "nbformat_minor": 2
}
