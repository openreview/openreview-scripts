{
 "cells": [
  {
   "cell_type": "markdown",
   "metadata": {},
   "source": [
    "# UAI 2018 SPC Invitations (and setup)\n",
    "2017-11-21\n",
    "\n",
    "This notebook provides some high-level guidance on using OpenReview for UAI 2018."
   ]
  },
  {
   "cell_type": "code",
   "execution_count": null,
   "metadata": {
    "collapsed": false
   },
   "outputs": [],
   "source": [
    "'''\n",
    "use the openreview python library to interact with OpenReview. You can get it with `pip install openreview-py`.\n",
    "'''\n",
    "\n",
    "import openreview\n",
    "client = openreview.Client()\n",
    "print client.baseurl"
   ]
  },
  {
   "cell_type": "markdown",
   "metadata": {},
   "source": [
    "## OpenReview basics\n",
    "\n",
    "OpenReview is based on three main object types: Groups, Notes, and Invitations\n",
    "\n",
    "Groups represent people or entities in OpenReview. A group's `members` field can contain user IDs, emails, or other groups.\n",
    "\n",
    "Notes represent data records in the system; for example, a record of a submitted paper, or a record of a comment on that paper, or a record that confirms whether or not a user accepts the responsibility to serve as a reviewer.\n",
    "\n",
    "Invitations can be thought of as requests for Notes. Invitations specify a general template for a Note. When a Note is posted, it must be posted in response to an Invitation, and it must adhere to the requirements specified by that Invitation.\n",
    "\n",
    "In the block below, we create the basic infrastructure to allow SPC members to accept or decline SPC membership."
   ]
  },
  {
   "cell_type": "markdown",
   "metadata": {},
   "source": [
    "## Posting the conference's Root group\n",
    "\n",
    "Before we can do anything else, we need to create a group that represents the conference itself. It will have the ID \"auai.org/UAI/2018\". "
   ]
  },
  {
   "cell_type": "code",
   "execution_count": null,
   "metadata": {
    "collapsed": true
   },
   "outputs": [],
   "source": [
    "# post the root group\n",
    "client.post_group(openreview.Group(**{\n",
    "        'id': 'auai.org/UAI/2018',\n",
    "        'readers': ['everyone'],\n",
    "        'writers': ['~Super_User1'],\n",
    "        'signatures': ['~Super_User1'],\n",
    "        'signatories': ['auai.org/UAI/2018'],\n",
    "        'members': []\n",
    "    }))"
   ]
  },
  {
   "cell_type": "markdown",
   "metadata": {},
   "source": [
    "explanation of parameters:\n",
    "- readers: a list of groups that have permission to view the group.\n",
    "- writers: a list of groups that have permission to modify the group.\n",
    "- signatures: a list of groups that have previously modified the group (in practice: the last group to have modified this group)\n",
    "- signatories: a list of groups that has permission to sign other groups, notes, and invitations using this group's ID. (you can think of this as the list of people or groups that can \"speak for\" this group)\n",
    "- members: a list of groups that are members of this group (membership does not imply readership, writership, or signatory permission!)\n",
    "\n",
    "You can examine any group that you have permission to view by going to the following URL: https://openreview.net/groups?id=GROUPID (the group is represented in JSON; you may find it convenient to install a browser extension that parses JSON so that you can read it more easily)"
   ]
  },
  {
   "cell_type": "markdown",
   "metadata": {},
   "source": [
    "## Posting the other groups needed for recruiting the SPCs\n",
    "\n",
    "In the following cell, we'll create:\n",
    "- a group for the Program Chairs.\n",
    "- multiple groups for the Senior Program Committee, which we'll use to track who has accepted or declined"
   ]
  },
  {
   "cell_type": "code",
   "execution_count": null,
   "metadata": {
    "collapsed": false
   },
   "outputs": [],
   "source": [
    "# post the program chairs group\n",
    "client.post_group(openreview.Group(**{\n",
    "        'id': 'auai.org/UAI/2018/Program_Chairs',\n",
    "        'readers': ['auai.org/UAI/2018','auai.org/UAI/2018/Program_Chairs'],\n",
    "        'writers': ['auai.org/UAI/2018'],\n",
    "        'signatures': ['auai.org/UAI/2018'],\n",
    "        'signatories': ['auai.org/UAI/2018/Program_Chairs'],\n",
    "        'members': ['~Yin_Cheng_Ng1','~Ricardo_Silva1','~Amir_Globerson1']\n",
    "    }))\n",
    "\n",
    "# post the SPC group(s)\n",
    "client.post_group(openreview.Group(**{\n",
    "        'id': 'auai.org/UAI/2018/Senior_Program_Committee',\n",
    "        'readers': ['auai.org/UAI/2018','auai.org/UAI/2018/Program_Chairs','auai.org/UAI/2018/Senior_Program_Committee'],\n",
    "        'writers': ['auai.org/UAI/2018'],\n",
    "        'signatures': ['auai.org/UAI/2018'],\n",
    "        'signatories': [],\n",
    "        'members': []\n",
    "    }))\n",
    "\n",
    "client.post_group(openreview.Group(**{\n",
    "        'id': 'auai.org/UAI/2018/Senior_Program_Committee/Invited',\n",
    "        'readers': ['auai.org/UAI/2018','auai.org/UAI/2018/Program_Chairs'],\n",
    "        'writers': ['auai.org/UAI/2018'],\n",
    "        'signatures': ['auai.org/UAI/2018'],\n",
    "        'signatories': [],\n",
    "        'members': []\n",
    "    }))\n",
    "\n",
    "client.post_group(openreview.Group(**{\n",
    "        'id':'auai.org/UAI/2018/Senior_Program_Committee/Declined',\n",
    "        'readers': ['auai.org/UAI/2018','auai.org/UAI/2018/Program_Chairs'],\n",
    "        'writers': ['auai.org/UAI/2018'],\n",
    "        'signatures': ['auai.org/UAI/2018'],\n",
    "        'signatories': [],\n",
    "        'members': []\n",
    "    }))"
   ]
  },
  {
   "cell_type": "markdown",
   "metadata": {},
   "source": [
    "## Creating the recruitment Invitation\n",
    "\n",
    "SPC recruitment works like this:\n",
    "\n",
    "We create an Invitation that accepts three fields: an email address, a response (yes or no), and a unique hash key based on the email address.\n",
    "\n",
    "The Invitation has two special fields: `process` and `web`.\n",
    "\n",
    "`process` defines a small piece of javascript that is executed when the Invitation is fulfilled. In this case, the file `recruitSPCProcess.js` checks to see that the hash key matches the email address, and checks the response (yes or no) of the response. If the response is \"yes\", the email address is added as a member to the group auai.org/UAI/2018/Senior_Program_Committee. Otherwise, they are added to the group auai.org/UAI/2018/Senior_Program_Committee/Declined.\n",
    "\n",
    "`web` defines a small html page that the user sees when they accept or decline.\n",
    "\n",
    "(This section is intentionally vague. We'll get into more details later.)"
   ]
  },
  {
   "cell_type": "code",
   "execution_count": null,
   "metadata": {
    "collapsed": false
   },
   "outputs": [],
   "source": [
    "# Create Senior_Program_Committee recruitment invitation/form\n",
    "spc_invitation = openreview.Invitation(**{\n",
    "        'id': 'auai.org/UAI/2018/-/SPC_Invitation',\n",
    "        'readers': ['everyone'],\n",
    "        'writers': ['auai.org/UAI/2018'],\n",
    "        'signatures': ['auai.org/UAI/2018'],\n",
    "        'process': '../process/recruitSPCProcess.js',\n",
    "        'web': '../webfield/recruitSPCWebfield.html'\n",
    "    })\n",
    "                                       \n",
    "spc_invitation.reply = {\n",
    "    'content': {\n",
    "        'email': {\n",
    "            'description': 'email address',\n",
    "            'order': 1,\n",
    "            'value-regex': '.*@.*'\n",
    "        },\n",
    "        'key': {\n",
    "            'description': 'Email key hash',\n",
    "            'order': 2,\n",
    "            'value-regex': '.{0,100}'\n",
    "        },\n",
    "        'response': {\n",
    "            'description': 'Invitation response',\n",
    "            'order': 3,\n",
    "            'value-radio': ['Yes', 'No']\n",
    "        }\n",
    "    },\n",
    "    'readers': {\n",
    "        'values': ['OpenReview.net']\n",
    "    },\n",
    "    'signatures': {\n",
    "        'values-regex': '\\\\(anonymous\\\\)'\n",
    "    },\n",
    "    'writers': {\n",
    "        'values-regex': '\\\\(anonymous\\\\)'\n",
    "    }\n",
    "}\n",
    "                                       \n",
    "client.post_invitation(spc_invitation)"
   ]
  },
  {
   "cell_type": "markdown",
   "metadata": {},
   "source": [
    "## Define the message\n",
    "\n",
    "Sending emails through OpenReview is easy with the `openreview.Client`'s send_mail function. \n",
    "\n",
    "That being said, this message is special, because the accept/decline links that are included in it are specific to each individual email recipient. Because of that, we need to add some extra functionality.\n",
    "\n",
    "See the definition of the new `send_mail` function in the cell below."
   ]
  },
  {
   "cell_type": "code",
   "execution_count": null,
   "metadata": {
    "collapsed": false
   },
   "outputs": [],
   "source": [
    "subject = 'UAI 2018: Invitation to serve on the Senior Program Committee'\n",
    "\n",
    "message = '''Dear {0},\n",
    "\n",
    "As program chairs of UAI 2018, it is our pleasure to invite you to serve as a member of the Senior Program Committee (SPC) for the 2018 Uncertainty in AI Conference (UAI). The conference will be held in the San Francisco area in early August 2018.\n",
    "\n",
    "UAI is the premier international conference on research related to representation, inference, learning and decision making in the presence of uncertainty, as they relate to the fields of artificial intelligence and machine learning. As a Senior Program Committee Member for the UAI 2018 conference you will help us select a high quality program for the conference. We count on your help and your expertise. \n",
    "\n",
    "To ACCEPT the invitation, please click on the following link:\n",
    "\n",
    "{1}\n",
    "\n",
    "To DECLINE the invitation, please click on the following link:\n",
    "\n",
    "{2}\n",
    "\n",
    "If you already have an OpenReview account, please make sure that the email address that received this message is linked to your account. \n",
    "If you do not already have an OpenReview account, please sign up at https://openreview.net/signup, making sure to add the email address that received this message to your profile.\n",
    "Please email info@openreview.net with any questions about the signup process.\n",
    "\n",
    "The timeline of SPC actions is the following:\n",
    "\n",
    "1. By December 1st, 2017: Please respond by clicking above indicating whether you accept the SPC invitation or not.\n",
    "2. March 4-9, 2018: Enter bids for submitted papers.\n",
    "3. March 12-18: Suggest 3 to 5 reviewers for each paper assigned to you. \n",
    "4. March 19th to April 20th: Review period. If a reviewer drops out, we might need your help in finding additional reviewers for the paper.\n",
    "5. April 13th to April 20th: Check reviews and chase reviewers for missing ones.\n",
    "6. April 21st to May 3rd: Discussion period with reviewers, suggest further reviewers if necessary.\n",
    "7. By May 6th, write a meta-review for each paper. \n",
    "10. May 7th - May 13th: Your meta-reviews will be used for making the final decisions. If we need additional input on a particular paper we might contact you.\n",
    "\n",
    "We really hope you will be able to accept our invitation and help us select a high quality program for UAI 2018.  Please reply to this invitation by following the link at the beginning of this message, no later than December 1st, 2017.\n",
    "\n",
    "Thanks in advance for your help!\n",
    "\n",
    "Amir Globerson and Ricardo Silva\n",
    "UAI 2018 Program Chairs\n",
    "uai2018chairs@gmail.com'''\n",
    "\n",
    "def send_mail(email, first, last):\n",
    "    hashkey = client.get_hash(email.encode('utf-8'), \"2810398440804348173\") # the second argument here is just a big random number that the process function also knows about.\n",
    "    url = client.baseurl+\"/invitation?id=auai.org/UAI/2018/-/SPC_Invitation&email=\" + email + \"&key=\" + hashkey + \"&response=\"\n",
    "    response = client.send_mail(subject, [email], message.format(first, url+\"Yes\", url+\"No\"))\n",
    "    print \"Mail response: \", response"
   ]
  },
  {
   "cell_type": "markdown",
   "metadata": {},
   "source": [
    "## Send messages, add users to group\n",
    "Finally, we can loop through the csv file of SPC members to invite, add them to the group of Invited SPCs, and send the messages:"
   ]
  },
  {
   "cell_type": "code",
   "execution_count": null,
   "metadata": {
    "collapsed": false
   },
   "outputs": [],
   "source": [
    "import csv\n",
    "spc_invited = client.get_group('auai.org/UAI/2018/Senior_Program_Committee/Invited')\n",
    "with open('../data/UAI2018_SPCs.csv') as f:\n",
    "    for first, last, email in csv.reader(f):\n",
    "        email = email.strip().lower()\n",
    "        print first, email\n",
    "        send_mail(email, first, last)\n",
    "        spc_invited = client.add_members_to_group(spc_invited, email)\n"
   ]
  },
  {
   "cell_type": "code",
   "execution_count": null,
   "metadata": {
    "collapsed": true
   },
   "outputs": [],
   "source": []
  }
 ],
 "metadata": {
  "kernelspec": {
   "display_name": "Python (openreview)",
   "language": "python",
   "name": "openreview"
  },
  "language_info": {
   "codemirror_mode": {
    "name": "ipython",
    "version": 2
   },
   "file_extension": ".py",
   "mimetype": "text/x-python",
   "name": "python",
   "nbconvert_exporter": "python",
   "pygments_lexer": "ipython2",
   "version": "2.7.12"
  }
 },
 "nbformat": 4,
 "nbformat_minor": 0
}
