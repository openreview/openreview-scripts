{
 "cells": [
  {
   "cell_type": "code",
   "execution_count": null,
   "metadata": {},
   "outputs": [],
   "source": [
    "%load_ext autoreload\n",
    "%autoreload 2\n",
    "\n",
    "import openreview\n",
    "from openreview import tools\n",
    "import sys\n",
    "sys.path.append('python')\n",
    "\n",
    "import config"
   ]
  },
  {
   "cell_type": "code",
   "execution_count": null,
   "metadata": {
    "collapsed": true
   },
   "outputs": [],
   "source": [
    "client = openreview.Client()"
   ]
  },
  {
   "cell_type": "code",
   "execution_count": null,
   "metadata": {},
   "outputs": [],
   "source": [
    "'''\n",
    "Super user: set up the conference\n",
    "'''\n",
    "\n",
    "groups = tools.post_group_parents(client, config.CONFERENCE)"
   ]
  },
  {
   "cell_type": "code",
   "execution_count": null,
   "metadata": {},
   "outputs": [],
   "source": [
    "'''\n",
    "Set up the first couple groups that are needed before submission.\n",
    "e.g. Program Chairs, Reviewers, Area Chairs\n",
    "\n",
    "The Reviewers and Area Chairs groups will need to exist before we can\n",
    "send out recruitment emails.\n",
    "\n",
    "'''\n",
    "for group in [config.PROGRAM_CHAIRS, config.AREA_CHAIRS, config.REVIEWERS]:\n",
    "    print group\n",
    "    client.post_group(group)"
   ]
  },
  {
   "cell_type": "code",
   "execution_count": null,
   "metadata": {},
   "outputs": [],
   "source": [
    "'''\n",
    "Post the submission invitation(s)\n",
    "'''\n",
    "\n",
    "for invitation in [config.SUBMISSION, config.BLIND_SUBMISSION]:\n",
    "    client.post_invitation(invitation)"
   ]
  },
  {
   "cell_type": "code",
   "execution_count": null,
   "metadata": {
    "collapsed": true
   },
   "outputs": [],
   "source": []
  }
 ],
 "metadata": {
  "kernelspec": {
   "display_name": "openreview-py2",
   "language": "python",
   "name": "openreview-py2"
  },
  "language_info": {
   "codemirror_mode": {
    "name": "ipython",
    "version": 2
   },
   "file_extension": ".py",
   "mimetype": "text/x-python",
   "name": "python",
   "nbconvert_exporter": "python",
   "pygments_lexer": "ipython2",
   "version": "2.7.14"
  }
 },
 "nbformat": 4,
 "nbformat_minor": 2
}
