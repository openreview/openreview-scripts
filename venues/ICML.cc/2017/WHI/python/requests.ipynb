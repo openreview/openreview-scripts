{
 "cells": [
  {
   "cell_type": "code",
   "execution_count": null,
   "metadata": {
    "collapsed": true
   },
   "outputs": [],
   "source": [
    "\"\"\"\n",
    "This notebook is used for responding to various pop-up requests from the program chairs of this conference.\n",
    "\n",
    "Write a comment indicating the request and any other information needed to reproduce the solution.\n",
    "\n",
    "Before committing this notebook, you should clear its output in the menu above: \n",
    "\"Kernel\" --> \"Restart & Clear Output\"\n",
    "\n",
    "\"\"\""
   ]
  },
  {
   "cell_type": "code",
   "execution_count": null,
   "metadata": {
    "collapsed": false
   },
   "outputs": [],
   "source": [
    "# import statements\n",
    "import openreview\n",
    "import config\n",
    "client = openreview.Client()\n",
    "print client.baseurl"
   ]
  },
  {
   "cell_type": "code",
   "execution_count": null,
   "metadata": {
    "collapsed": false
   },
   "outputs": [],
   "source": [
    "# setup variables\n",
    "submissions = client.get_notes(invitation = config.SUBMISSION)"
   ]
  },
  {
   "cell_type": "code",
   "execution_count": null,
   "metadata": {
    "collapsed": false
   },
   "outputs": [],
   "source": [
    "# Adrian Weller, a PC and author, wasn't able to see how to modify PDF submissions.\n",
    "# This fix adds a revision invitation to all WHI papers.\n",
    "# After running this solution, I added a script called create-revisions.py, which does the same thing.\n",
    "\n",
    "def revision_invitation(n):\n",
    "    revision_content = {\n",
    "        'title': {\n",
    "            'description': 'Title of paper.',\n",
    "            'order': 1,\n",
    "            'value-regex': '.{1,250}',\n",
    "            'required':True\n",
    "        },\n",
    "        'authors': {\n",
    "            'description': 'Comma separated list of author names.',\n",
    "            'order': 2,\n",
    "            'values-regex': \"[^;,\\\\n]+(,[^,\\\\n]+)*\",\n",
    "            'required':True\n",
    "        },\n",
    "        'authorids': {\n",
    "            'description': 'Comma separated list of author email addresses, lowercased, in the same order as above. For authors with existing OpenReview accounts, please make sure that the provided email address(es) match those listed in the author\\'s profile.',\n",
    "            'order': 3,\n",
    "            'values-regex': \"([a-z0-9_\\-\\.]{2,}@[a-z0-9_\\-\\.]{2,}\\.[a-z]{2,},){0,}([a-z0-9_\\-\\.]{2,}@[a-z0-9_\\-\\.]{2,}\\.[a-z]{2,})\",\n",
    "            'required':True\n",
    "        },\n",
    "        'keywords': {\n",
    "            'description': 'Comma separated list of keywords.',\n",
    "            'order': 6,\n",
    "            'values-regex': \"(^$)|[^;,\\\\n]+(,[^,\\\\n]+)*\"\n",
    "        },\n",
    "        'TL;DR': {\n",
    "            'description': '\\\"Too Long; Didn\\'t Read\\\": a short sentence describing your paper',\n",
    "            'order': 7,\n",
    "            'value-regex': '[^\\\\n]{0,250}',\n",
    "            'required':False\n",
    "        },\n",
    "        'abstract': {\n",
    "            'description': 'Abstract of paper.',\n",
    "            'order': 8,\n",
    "            'value-regex': '[\\\\S\\\\s]{1,5000}',\n",
    "            'required':True\n",
    "        },\n",
    "        'pdf': {\n",
    "            'description': 'Upload a PDF file that ends with .pdf',\n",
    "            'order': 9,\n",
    "            'value-regex': 'upload',\n",
    "            'required':True\n",
    "        }\n",
    "    }\n",
    "    \n",
    "    revision_reply = {\n",
    "        'content': revision_content,\n",
    "        'referent': n.id,\n",
    "        'forum': n.forum,\n",
    "        'readers': {\n",
    "            'description': 'The users who will be allowed to read the above content.',\n",
    "            'values': ['everyone']\n",
    "        },\n",
    "        'signatures': {\n",
    "            'description': 'How your identity will be displayed with the above content.',\n",
    "            'values-regex': '~.*'\n",
    "        },\n",
    "        'writers': {\n",
    "            'values-regex': '~.*'\n",
    "        }\n",
    "    }\n",
    "    \n",
    "    return openreview.Invitation(config.CONF + '/-/Paper{0}/Add/Revision'.format(n.number),\n",
    "        readers = ['everyone'],\n",
    "        writers = [config.CONF],\n",
    "        invitees = n.content['authorids'],\n",
    "        signatures = [config.CONF],\n",
    "        reply = revision_reply\n",
    "        )"
   ]
  },
  {
   "cell_type": "code",
   "execution_count": null,
   "metadata": {
    "collapsed": false
   },
   "outputs": [],
   "source": [
    "# Fix continued from above.\n",
    "for n in submissions:\n",
    "    inv = client.post_invitation(revision_invitation(n))\n",
    "    print inv.id"
   ]
  },
  {
   "cell_type": "code",
   "execution_count": null,
   "metadata": {
    "collapsed": true
   },
   "outputs": [],
   "source": []
  }
 ],
 "metadata": {
  "kernelspec": {
   "display_name": "Python (openreview)",
   "language": "python",
   "name": "openreview"
  },
  "language_info": {
   "codemirror_mode": {
    "name": "ipython",
    "version": 2
   },
   "file_extension": ".py",
   "mimetype": "text/x-python",
   "name": "python",
   "nbconvert_exporter": "python",
   "pygments_lexer": "ipython2",
   "version": "2.7.12"
  }
 },
 "nbformat": 4,
 "nbformat_minor": 0
}
