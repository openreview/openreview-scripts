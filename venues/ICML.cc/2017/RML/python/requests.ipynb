{
 "cells": [
  {
   "cell_type": "code",
   "execution_count": 5,
   "metadata": {
    "collapsed": false
   },
   "outputs": [
    {
     "name": "stdout",
     "output_type": "stream",
     "text": [
      "https://openreview.net\n"
     ]
    }
   ],
   "source": [
    "import config\n",
    "import openreview\n",
    "client = openreview.Client(baseurl='https://openreview.net')\n",
    "print client.baseurl\n",
    "\n",
    "submissions = client.get_notes(invitation=config.SUBMISSION)"
   ]
  },
  {
   "cell_type": "code",
   "execution_count": null,
   "metadata": {
    "collapsed": true
   },
   "outputs": [],
   "source": [
    "# Alex requested that we post acceptance decisions and send emails. The following cells do that."
   ]
  },
  {
   "cell_type": "code",
   "execution_count": null,
   "metadata": {
    "collapsed": false
   },
   "outputs": [],
   "source": [
    "# post the acceptance decision invitation\n",
    "acceptance_decision = openreview.Invitation(config.ACCEPTANCE, **config.acceptance_params)\n",
    "acceptance_decision.reply = config.acceptance_decision_reply\n",
    "acceptance_decision = client.post_invitation(acceptance_decision)"
   ]
  },
  {
   "cell_type": "code",
   "execution_count": 6,
   "metadata": {
    "collapsed": false
   },
   "outputs": [],
   "source": [
    "# set up the acceptance variables\n",
    "oral = 'Accept as Oral'\n",
    "poster = 'Accept as Poster'\n",
    "reject = 'Reject'\n",
    "\n",
    "\n",
    "subject = \"ICML 2017 RML Workshop: Acceptance Decision Posted\"\n",
    "message = \"\"\"Dear Author,\n",
    "\n",
    "An acceptance decision for your paper, \"{0}\", has been posted. \n",
    "\n",
    "You can view that decision by going here: {1}\n",
    "\n",
    "\"\"\"\n",
    "\n",
    "\n",
    "decision_by_forum = {\n",
    "    'rJuypUmG-': oral,\n",
    "    'By7lLoZmZ': reject,\n",
    "    'BJDDItGX-': poster,\n",
    "    'BJNuErQX-': poster,\n",
    "    'HyKltKAMb': poster,\n",
    "    'H1NKyf7Q-': poster,\n",
    "    'B1-M3c5mW': poster,\n",
    "    'By4l2PbQ-': poster\n",
    "}"
   ]
  },
  {
   "cell_type": "code",
   "execution_count": null,
   "metadata": {
    "collapsed": false
   },
   "outputs": [],
   "source": [
    "# iterate through the submissions and post submission decisions based on the mapping in decisions_by_forum\n",
    "for n in submissions:\n",
    "    decision = openreview.Note(forum=n.forum, \n",
    "                               replyto=n.forum, \n",
    "                               readers=['everyone'], \n",
    "                               writers=[config.PROGRAM_CHAIRS],\n",
    "                               signatures=[config.PROGRAM_CHAIRS],\n",
    "                               invitation=config.ACCEPTANCE\n",
    "                               )\n",
    "    decision.content = {\n",
    "        'title': 'Paper{0} Acceptance Decision'.format(n.number),\n",
    "        'decision': decision_by_forum[n.forum]# one of: 'Accept as Oral', 'Accept as Poster', 'Reject'\n",
    "    }\n",
    "    client.post_note(decision)"
   ]
  },
  {
   "cell_type": "code",
   "execution_count": 7,
   "metadata": {
    "collapsed": false
   },
   "outputs": [
    {
     "name": "stdout",
     "output_type": "stream",
     "text": [
      "[u'cohenjos@iro.umontreal.ca', u'henryzlo@cs.umb.edu']\n",
      "[u'riashat.islam@mail.mcgill.ca', u'peter.henderson@mail.mcgill.ca', u'maziar.gomrokchi@mail.mcgill.ca', u'dprecup@cs.mcgill.ca']\n",
      "[u'brian.broll-ctr@digitalreasoning.com', u'jimmy.whitaker@digitalreasoning.com']\n",
      "[u'andre.anjos@idiap.ch', u'mgunther@vast.uccs.edu', u'tiago.pereira@idiap.ch', u'pavel.korshunov@idiap.ch', u'amir.mohammadi@idiap.ch', u'sebastien.marcel@idiap.ch']\n",
      "[u'david.harness@warpmail.net']\n",
      "[u'b.k.olorisade@keele.ac.uk', u'o.p.brereton@keele.ac.uk', u'p.andras@keele.ac.uk']\n",
      "[u'andre.anjos@idiap.ch', u'laurent.el-shafey@idiap.ch', u'sebastien.marcel@idiap.ch']\n",
      "[u'xinkun@stanford.edu', u'xtian@stanford.edu', u'jonathan.taylor@stanford.edu', u'jamesyzou@gmail.com']\n"
     ]
    }
   ],
   "source": [
    "# iterate through the submissions and send a generic message to the authors asking them to check for decisions\n",
    "for n in submissions:\n",
    "    author_group = client.get_group(config.CONF+'/Paper{0}/Authors'.format(n.number))\n",
    "    print author_group.members\n",
    "    client.send_mail(subject, [config.CONF+'/Paper{0}/Authors'.format(n.number)], message.format(n.content['title'], 'https://openreview.net/forum?id='+n.forum))"
   ]
  },
  {
   "cell_type": "code",
   "execution_count": null,
   "metadata": {
    "collapsed": false
   },
   "outputs": [],
   "source": [
    "print msg['text']"
   ]
  },
  {
   "cell_type": "code",
   "execution_count": null,
   "metadata": {
    "collapsed": true
   },
   "outputs": [],
   "source": []
  }
 ],
 "metadata": {
  "kernelspec": {
   "display_name": "Python (openreview)",
   "language": "python",
   "name": "openreview"
  },
  "language_info": {
   "codemirror_mode": {
    "name": "ipython",
    "version": 2
   },
   "file_extension": ".py",
   "mimetype": "text/x-python",
   "name": "python",
   "nbconvert_exporter": "python",
   "pygments_lexer": "ipython2",
   "version": "2.7.12"
  }
 },
 "nbformat": 4,
 "nbformat_minor": 0
}
