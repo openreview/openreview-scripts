{
 "cells": [
  {
   "cell_type": "code",
   "execution_count": null,
   "metadata": {},
   "outputs": [],
   "source": [
    "import openreview\n",
    "from openreview import tools\n",
    "import config\n",
    "import functions\n",
    "\n",
    "client = openreview.Client()\n",
    "print client.baseurl"
   ]
  },
  {
   "cell_type": "code",
   "execution_count": null,
   "metadata": {},
   "outputs": [],
   "source": [
    "'''\n",
    "Post the reviewer groups. Warning! This will reset all members! \n",
    "\n",
    "TODO: make a function to post a group without overwriting members.\n",
    "'''\n",
    "client.post_group(config.REVIEWERS)\n",
    "client.post_group(config.REVIEWERS_INVITED)\n",
    "client.post_group(config.REVIEWERS_DECLINED)"
   ]
  },
  {
   "cell_type": "code",
   "execution_count": null,
   "metadata": {},
   "outputs": [],
   "source": [
    "'''\n",
    "Post the recruitment invitation. This can be done multiple times without consequence.\n",
    "'''\n",
    "client.post_invitation(config.RECRUIT_REVIEWERS)"
   ]
  },
  {
   "cell_type": "code",
   "execution_count": null,
   "metadata": {},
   "outputs": [],
   "source": [
    "'''\n",
    "Example of how to invite a reviewer.\n",
    "'''\n",
    "\n",
    "functions.recruit_reviewer(client, 'michael.l.spector@gmail.com', 'Michael')"
   ]
  },
  {
   "cell_type": "code",
   "execution_count": null,
   "metadata": {
    "collapsed": true
   },
   "outputs": [],
   "source": []
  }
 ],
 "metadata": {
  "kernelspec": {
   "display_name": "openreview-py2",
   "language": "python",
   "name": "openreview-py2"
  },
  "language_info": {
   "codemirror_mode": {
    "name": "ipython",
    "version": 2
   },
   "file_extension": ".py",
   "mimetype": "text/x-python",
   "name": "python",
   "nbconvert_exporter": "python",
   "pygments_lexer": "ipython2",
   "version": "2.7.14"
  }
 },
 "nbformat": 4,
 "nbformat_minor": 2
}
