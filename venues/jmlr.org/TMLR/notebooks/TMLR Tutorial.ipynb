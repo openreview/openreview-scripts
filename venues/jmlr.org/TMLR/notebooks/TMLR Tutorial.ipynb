{
 "cells": [
  {
   "cell_type": "code",
   "execution_count": 25,
   "metadata": {},
   "outputs": [],
   "source": [
    "## please clone the repo openreview-py pointing to this branch: https://github.com/openreview/openreview-py/tree/feature/journal-with-edits\n",
    "## install the library as pip -e [path_to_repo]\n",
    "import openreview\n",
    "import datetime\n",
    "from  openreview.journal import Journal"
   ]
  },
  {
   "cell_type": "code",
   "execution_count": 27,
   "metadata": {},
   "outputs": [],
   "source": [
    "dev_client = openreview.api.OpenReviewClient(baseurl = 'https://devapi2.openreview.net', username = 'fabian@mail.com', password = '1234')"
   ]
  },
  {
   "cell_type": "code",
   "execution_count": 3,
   "metadata": {},
   "outputs": [],
   "source": [
    "### Get all TMLR submissions\n",
    "submissions = dev_client.get_notes(invitation='.TMLR/-/Author_Submission')"
   ]
  },
  {
   "cell_type": "code",
   "execution_count": 4,
   "metadata": {},
   "outputs": [
    {
     "name": "stdout",
     "output_type": "stream",
     "text": [
      "{'cdate': 1635268876163,\n",
      " 'content': {'abstract': {'value': 'asdfasdf'},\n",
      "             'authorids': {'readers': ['.TMLR',\n",
      "                                       '.TMLR/Paper7/Action_Editors',\n",
      "                                       '.TMLR/Paper7/Authors'],\n",
      "                           'value': ['~Reviewer_Eleven1']},\n",
      "             'authors': {'readers': ['.TMLR',\n",
      "                                     '.TMLR/Paper7/Action_Editors',\n",
      "                                     '.TMLR/Paper7/Authors'],\n",
      "                         'value': ['Reviewer Eleven']},\n",
      "             'changes_since_last_submission': {},\n",
      "             'competing_interests': {'readers': ['.TMLR',\n",
      "                                                 '.TMLR/Paper7/Action_Editors',\n",
      "                                                 '.TMLR/Paper7/Authors'],\n",
      "                                     'value': 'asdf'},\n",
      "             'human_subjects_reporting': {'readers': ['.TMLR',\n",
      "                                                      '.TMLR/Paper7/Action_Editors',\n",
      "                                                      '.TMLR/Paper7/Authors'],\n",
      "                                          'value': 'asdf'},\n",
      "             'paperhash': {'readers': ['.TMLR',\n",
      "                                       '.TMLR/Paper7/Action_Editors',\n",
      "                                       '.TMLR/Paper7/Authors'],\n",
      "                           'value': 'eleven|asdfasdf'},\n",
      "             'pdf': {'value': '/pdf/2d18891ac972fe762bd27e195fbb4836a0be599b.pdf'},\n",
      "             'previous_submission_url': {},\n",
      "             'supplementary_material': {},\n",
      "             'title': {'value': 'asdfasdf'},\n",
      "             'venue': {'value': 'Under review for TMLR'},\n",
      "             'venueid': {'value': '.TMLR/Under_Review'}},\n",
      " 'ddate': None,\n",
      " 'details': {'replyCount': 3},\n",
      " 'forum': 'oyEMeqoFm8',\n",
      " 'id': 'oyEMeqoFm8',\n",
      " 'invitations': ['.TMLR/-/Author_Submission', '.TMLR/Paper7/-/Under_Review'],\n",
      " 'mdate': 1635340016990,\n",
      " 'nonreaders': [],\n",
      " 'number': 7,\n",
      " 'readers': ['everyone'],\n",
      " 'replyto': None,\n",
      " 'signatures': ['.TMLR/Paper7/Authors'],\n",
      " 'tcdate': 1635268876163,\n",
      " 'tmdate': 1635340016990,\n",
      " 'writers': ['.TMLR']}\n"
     ]
    }
   ],
   "source": [
    "print(submissions[0])"
   ]
  },
  {
   "cell_type": "code",
   "execution_count": 5,
   "metadata": {},
   "outputs": [
    {
     "data": {
      "text/plain": [
       "'.TMLR/Under_Review'"
      ]
     },
     "execution_count": 5,
     "metadata": {},
     "output_type": "execute_result"
    }
   ],
   "source": [
    "## Check the venueid to see the status of the submissions\n",
    "## .TMLR/Submitted: submission pending for AE approval\n",
    "## .TMLR/Under_Review: under review\n",
    "## .TMLR/Desk_Rejection: desk rejection by AE\n",
    "## .TMLR/Withdrawn_Submission: withdrawn by the authors\n",
    "## .TMLR/Rejection: rejected\n",
    "## .TMLR: accepted\n",
    "submissions[0].content['venueid']['value']"
   ]
  },
  {
   "cell_type": "code",
   "execution_count": 6,
   "metadata": {},
   "outputs": [],
   "source": [
    "## Get reviews\n",
    "## Each review belongs to an invitation where the id is associated with the submission.number\n",
    "## for example for submission 7, the review invitation is '.TMLR/Paper7/-/Review'\n",
    "## the same rule applies for all the invitations for the submission 7\n",
    "reviews = dev_client.get_notes(invitation='.TMLR/Paper.*/-/Review')"
   ]
  },
  {
   "cell_type": "code",
   "execution_count": 7,
   "metadata": {},
   "outputs": [
    {
     "name": "stdout",
     "output_type": "stream",
     "text": [
      "{'cdate': 1635365489761,\n",
      " 'content': {'broader_impact_concerns': {'value': 'asdfasdfds'},\n",
      "             'requested_changes': {'value': 'asdfasdf'},\n",
      "             'strengths_and_weaknesses': {'value': 'asdfdsaf'},\n",
      "             'summary_of_contributions': {'value': 'asdfsadf'}},\n",
      " 'ddate': None,\n",
      " 'details': {'replyCount': 0},\n",
      " 'forum': 'oyEMeqoFm8',\n",
      " 'id': '7jVNdqyajK',\n",
      " 'invitations': ['.TMLR/Paper7/-/Review'],\n",
      " 'mdate': 1635365489761,\n",
      " 'nonreaders': [],\n",
      " 'number': 3,\n",
      " 'readers': ['.TMLR',\n",
      "             '.TMLR/Paper7/Action_Editors',\n",
      "             '.TMLR/Paper7/Reviewer_YkYd'],\n",
      " 'replyto': 'oyEMeqoFm8',\n",
      " 'signatures': ['.TMLR/Paper7/Reviewer_YkYd'],\n",
      " 'tcdate': 1635365489761,\n",
      " 'tmdate': 1635365489761,\n",
      " 'writers': ['.TMLR',\n",
      "             '.TMLR/Paper7/Action_Editors',\n",
      "             '.TMLR/Paper7/Reviewer_YkYd']}\n"
     ]
    }
   ],
   "source": [
    "print(reviews[0])"
   ]
  },
  {
   "cell_type": "code",
   "execution_count": 8,
   "metadata": {},
   "outputs": [
    {
     "name": "stdout",
     "output_type": "stream",
     "text": [
      "Submission:  oyEMeqoFm8 Review:  7jVNdqyajK\n",
      "Submission:  oyEMeqoFm8 Review:  Fw879gL1N2\n",
      "Submission:  oyEMeqoFm8 Review:  DD30nEmSsG\n",
      "Submission:  ggQ0LnvQxC Review:  BVeI2cjRgi\n",
      "Submission:  ggQ0LnvQxC Review:  oI8RW7OKFm\n",
      "Submission:  ggQ0LnvQxC Review:  vqhuh7qL2L\n"
     ]
    }
   ],
   "source": [
    "## print all the reviews submitted for each submission\n",
    "for s in submissions:\n",
    "    for r in reviews:\n",
    "        if s.id == r.forum:\n",
    "            print('Submission: ', s.id, 'Review: ', r.id)"
   ]
  },
  {
   "cell_type": "code",
   "execution_count": 9,
   "metadata": {},
   "outputs": [],
   "source": [
    "## Get reviewers assigned to each submission\n",
    "## Reviewers are represented as groups and there are one group that represent all the reviews for a submission\n",
    "## the group id is also associated with the submision number\n",
    "## for example for submission 7, the review group id is '.TMLR/Paper7/Reviewers'\n",
    "## the members of the group are the assigned reviewers.\n",
    "reviewers = dev_client.get_groups(regex='.TMLR/Paper.*/Reviewers')"
   ]
  },
  {
   "cell_type": "code",
   "execution_count": 10,
   "metadata": {},
   "outputs": [
    {
     "name": "stdout",
     "output_type": "stream",
     "text": [
      "{'anonids': True,\n",
      " 'cdate': 1626728315977,\n",
      " 'ddate': None,\n",
      " 'deanonymizers': [],\n",
      " 'details': None,\n",
      " 'id': '.TMLR/Paper1/Reviewers',\n",
      " 'impersonators': None,\n",
      " 'invitation': None,\n",
      " 'members': ['~Kyunghyun_Cho1', '~Fabian_Pedregosa1'],\n",
      " 'nonreaders': ['.TMLR/Paper1/Authors'],\n",
      " 'readers': ['.TMLR', '.TMLR/Paper1/Action_Editors'],\n",
      " 'signatories': ['.TMLR'],\n",
      " 'signatures': ['.TMLR'],\n",
      " 'tcdate': 1626728315977,\n",
      " 'tmdate': 1630506400291,\n",
      " 'web': None,\n",
      " 'writers': ['.TMLR', '.TMLR/Paper1/Action_Editors']}\n"
     ]
    }
   ],
   "source": [
    "print(reviewers[0])"
   ]
  },
  {
   "cell_type": "code",
   "execution_count": 11,
   "metadata": {},
   "outputs": [
    {
     "name": "stdout",
     "output_type": "stream",
     "text": [
      "oyEMeqoFm8 ['~Celeste_Martinez1', '~Reviewer_One-Hundred1', '~Hugo_Larochelle1']\n",
      "GOWoqmY1Ao []\n",
      "ggQ0LnvQxC ['~Reviewer_Eleven1', '~Reviewer_One-Hundred1', '~Celeste_Martinez1']\n"
     ]
    }
   ],
   "source": [
    "## Get the assigned reviewers for each submission\n",
    "for s in submissions:\n",
    "    for g in reviewers:\n",
    "        if g.id == f'.TMLR/Paper{s.number}/Reviewers':\n",
    "            print(s.id, g.members)"
   ]
  },
  {
   "cell_type": "code",
   "execution_count": 12,
   "metadata": {},
   "outputs": [
    {
     "name": "stdout",
     "output_type": "stream",
     "text": [
      ".TMLR/Paper7/Reviewer_BPr5 ~Celeste_Martinez1\n",
      ".TMLR/Paper7/Reviewer_YkYd ~Reviewer_One-Hundred1\n",
      ".TMLR/Paper7/Reviewer_bcQc ~Hugo_Larochelle1\n"
     ]
    }
   ],
   "source": [
    "## Reviewers are anonymized in order to sign the reviews and don't reveal their real identity\n",
    "## Because each paper group has the properties anonids: True, an anonymous group id is created for member of the group\n",
    "paper7_anon_reviewers = dev_client.get_groups(regex='.TMLR/Paper7/Reviewer_.*')\n",
    "for anon in paper7_anon_reviewers:\n",
    "    print(anon.id, anon.members[0])"
   ]
  },
  {
   "cell_type": "code",
   "execution_count": 13,
   "metadata": {},
   "outputs": [
    {
     "name": "stdout",
     "output_type": "stream",
     "text": [
      "oyEMeqoFm8 ~Celeste_Martinez1 .TMLR/Paper7/Reviewer_BPr5\n",
      "oyEMeqoFm8 ~Reviewer_One-Hundred1 .TMLR/Paper7/Reviewer_YkYd\n",
      "oyEMeqoFm8 ~Hugo_Larochelle1 .TMLR/Paper7/Reviewer_bcQc\n",
      "ggQ0LnvQxC ~Reviewer_Eleven1 .TMLR/Paper6/Reviewer_mjpe\n",
      "ggQ0LnvQxC ~Reviewer_One-Hundred1 .TMLR/Paper6/Reviewer_Vu5C\n",
      "ggQ0LnvQxC ~Celeste_Martinez1 .TMLR/Paper6/Reviewer_o9yb\n"
     ]
    }
   ],
   "source": [
    "## Get the anon ids for all the submissions\n",
    "anon_reviewers = dev_client.get_groups(regex='.TMLR/Paper.*/Reviewer_')\n",
    "for s in submissions:\n",
    "    for g in reviewers:\n",
    "        if g.id == f'.TMLR/Paper{s.number}/Reviewers':\n",
    "            for m in g.members:\n",
    "                for anon in anon_reviewers:\n",
    "                    if anon.id.startswith(f'.TMLR/Paper{s.number}/Reviewer_') and anon.members[0] == m:\n",
    "                        print(s.id, m, anon.id)"
   ]
  },
  {
   "cell_type": "code",
   "execution_count": 14,
   "metadata": {},
   "outputs": [
    {
     "name": "stdout",
     "output_type": "stream",
     "text": [
      "oyEMeqoFm8 ~Celeste_Martinez1 .TMLR/Paper7/Reviewer_BPr5 Yes\n",
      "oyEMeqoFm8 ~Reviewer_One-Hundred1 .TMLR/Paper7/Reviewer_YkYd Yes\n",
      "oyEMeqoFm8 ~Hugo_Larochelle1 .TMLR/Paper7/Reviewer_bcQc Yes\n",
      "ggQ0LnvQxC ~Reviewer_Eleven1 .TMLR/Paper6/Reviewer_mjpe Yes\n",
      "ggQ0LnvQxC ~Reviewer_One-Hundred1 .TMLR/Paper6/Reviewer_Vu5C Yes\n",
      "ggQ0LnvQxC ~Celeste_Martinez1 .TMLR/Paper6/Reviewer_o9yb Yes\n"
     ]
    }
   ],
   "source": [
    "## Now we can check for each submission and each assigned reviewer if there is a review submitted by that reviewer or not\n",
    "\n",
    "## We can get all the reviews and build a dictionary where the key is the signature(anonid)\n",
    "reviews_by_signature = { r.signatures[0]:r for r in dev_client.get_notes(invitation='.TMLR/Paper.*/-/Review')}\n",
    "\n",
    "## Get the paper reviewers group by id\n",
    "reviewers_groups = { g.id: g for g in dev_client.get_groups(regex='.TMLR/Paper.*/Reviewers')}\n",
    "\n",
    "## for all the submssion, check all the assignment reviewer and try to find if they signed a review or not\n",
    "for s in submissions:\n",
    "    assigned_reviewers = reviewers_groups[f'.TMLR/Paper{s.number}/Reviewers']\n",
    "    for m in assigned_reviewers.members:\n",
    "        for anon in anon_reviewers:\n",
    "            if anon.id.startswith(f'.TMLR/Paper{s.number}/Reviewer_') and anon.members[0] == m:\n",
    "                review = reviews_by_signature.get(anon.id)\n",
    "                print(s.id, m, anon.id, 'Yes' if review else 'No')\n",
    "                        "
   ]
  },
  {
   "cell_type": "code",
   "execution_count": 15,
   "metadata": {},
   "outputs": [],
   "source": [
    "## Get the review invitations\n",
    "## the invitation defines the conditions of who, what and when can be submitted. \n",
    "## who: invitation.invitees\n",
    "## what: invitation.edit\n",
    "## when: invitation.cdate and invitation.duedate\n",
    "## when the invitation indicates that a note can be posted for a single submission, the invitation.id contains the submission.number \n",
    "## and invitatin.edit.note.forum indicates the submission.id\n",
    "invitations = dev_client.get_invitations(regex='.TMLR/Paper.*/-/Review')"
   ]
  },
  {
   "cell_type": "code",
   "execution_count": 16,
   "metadata": {},
   "outputs": [
    {
     "name": "stdout",
     "output_type": "stream",
     "text": [
      "{'bulk': None,\n",
      " 'cdate': 1634933083010,\n",
      " 'ddate': None,\n",
      " 'details': {'writable': True},\n",
      " 'duedate': 1613822400000,\n",
      " 'edit': {'note': {'content': {'broader_impact_concerns': {'description': 'Brief '\n",
      "                                                                          'description '\n",
      "                                                                          'of '\n",
      "                                                                          'any '\n",
      "                                                                          'concerns '\n",
      "                                                                          'on '\n",
      "                                                                          'the '\n",
      "                                                                          'ethical '\n",
      "                                                                          'implications '\n",
      "                                                                          'of '\n",
      "                                                                          'the '\n",
      "                                                                          'work '\n",
      "                                                                          'that '\n",
      "                                                                          'would '\n",
      "                                                                          'require '\n",
      "                                                                          'adding '\n",
      "                                                                          'a '\n",
      "                                                                          'Broader '\n",
      "                                                                          'Impact '\n",
      "                                                                          'Statement '\n",
      "                                                                          '(if '\n",
      "                                                                          'one '\n",
      "                                                                          'is '\n",
      "                                                                          'not '\n",
      "                                                                          'present) '\n",
      "                                                                          'or '\n",
      "                                                                          'that '\n",
      "                                                                          'are '\n",
      "                                                                          'not '\n",
      "                                                                          'sufficiently '\n",
      "                                                                          'addressed '\n",
      "                                                                          'in '\n",
      "                                                                          'the '\n",
      "                                                                          'Broader '\n",
      "                                                                          'Impact '\n",
      "                                                                          'Statement '\n",
      "                                                                          'section '\n",
      "                                                                          '(if '\n",
      "                                                                          'one '\n",
      "                                                                          'is '\n",
      "                                                                          'present) '\n",
      "                                                                          '(max '\n",
      "                                                                          '200000 '\n",
      "                                                                          'characters). '\n",
      "                                                                          'Add '\n",
      "                                                                          'formatting '\n",
      "                                                                          'using '\n",
      "                                                                          'Markdown '\n",
      "                                                                          'and '\n",
      "                                                                          'formulas '\n",
      "                                                                          'using '\n",
      "                                                                          'LaTeX. '\n",
      "                                                                          'For '\n",
      "                                                                          'more '\n",
      "                                                                          'information '\n",
      "                                                                          'see '\n",
      "                                                                          'https://openreview.net/faq',\n",
      "                                                           'order': 4,\n",
      "                                                           'presentation': {'markdown': True},\n",
      "                                                           'value': {'value-regex': '^[\\\\S\\\\s]{1,200000}$'}},\n",
      "                               'requested_changes': {'description': 'List of '\n",
      "                                                                    'proposed '\n",
      "                                                                    'adjustments '\n",
      "                                                                    'to the '\n",
      "                                                                    'submission, '\n",
      "                                                                    'specifying '\n",
      "                                                                    'for each '\n",
      "                                                                    'whether '\n",
      "                                                                    'they are '\n",
      "                                                                    'critical '\n",
      "                                                                    'to '\n",
      "                                                                    'securing '\n",
      "                                                                    'your '\n",
      "                                                                    'recommendation '\n",
      "                                                                    'for '\n",
      "                                                                    'acceptance '\n",
      "                                                                    'or would '\n",
      "                                                                    'simply '\n",
      "                                                                    'strengthen '\n",
      "                                                                    'the work '\n",
      "                                                                    'in your '\n",
      "                                                                    'view (max '\n",
      "                                                                    '200000 '\n",
      "                                                                    'characters). '\n",
      "                                                                    'Add '\n",
      "                                                                    'formatting '\n",
      "                                                                    'using '\n",
      "                                                                    'Markdown '\n",
      "                                                                    'and '\n",
      "                                                                    'formulas '\n",
      "                                                                    'using '\n",
      "                                                                    'LaTeX. '\n",
      "                                                                    'For more '\n",
      "                                                                    'information '\n",
      "                                                                    'see '\n",
      "                                                                    'https://openreview.net/faq',\n",
      "                                                     'order': 3,\n",
      "                                                     'presentation': {'markdown': True},\n",
      "                                                     'value': {'value-regex': '^[\\\\S\\\\s]{1,200000}$'}},\n",
      "                               'strengths_and_weaknesses': {'description': 'List '\n",
      "                                                                           'of '\n",
      "                                                                           'the '\n",
      "                                                                           'strong '\n",
      "                                                                           'aspects '\n",
      "                                                                           'of '\n",
      "                                                                           'the '\n",
      "                                                                           'submission '\n",
      "                                                                           'as '\n",
      "                                                                           'well '\n",
      "                                                                           'as '\n",
      "                                                                           'weaker '\n",
      "                                                                           'elements '\n",
      "                                                                           '(if '\n",
      "                                                                           'any) '\n",
      "                                                                           'that '\n",
      "                                                                           'you '\n",
      "                                                                           'think '\n",
      "                                                                           'require '\n",
      "                                                                           'attention '\n",
      "                                                                           'from '\n",
      "                                                                           'the '\n",
      "                                                                           'authors '\n",
      "                                                                           '(max '\n",
      "                                                                           '200000 '\n",
      "                                                                           'characters). '\n",
      "                                                                           'Add '\n",
      "                                                                           'formatting '\n",
      "                                                                           'using '\n",
      "                                                                           'Markdown '\n",
      "                                                                           'and '\n",
      "                                                                           'formulas '\n",
      "                                                                           'using '\n",
      "                                                                           'LaTeX. '\n",
      "                                                                           'For '\n",
      "                                                                           'more '\n",
      "                                                                           'information '\n",
      "                                                                           'see '\n",
      "                                                                           'https://openreview.net/faq',\n",
      "                                                            'order': 2,\n",
      "                                                            'presentation': {'markdown': True},\n",
      "                                                            'value': {'value-regex': '^[\\\\S\\\\s]{1,200000}$'}},\n",
      "                               'summary_of_contributions': {'description': 'Brief '\n",
      "                                                                           'description, '\n",
      "                                                                           'in '\n",
      "                                                                           'the '\n",
      "                                                                           'reviewer’s '\n",
      "                                                                           'words, '\n",
      "                                                                           'of '\n",
      "                                                                           'the '\n",
      "                                                                           'contributions '\n",
      "                                                                           'and '\n",
      "                                                                           'new '\n",
      "                                                                           'knowledge '\n",
      "                                                                           'presented '\n",
      "                                                                           'by '\n",
      "                                                                           'the '\n",
      "                                                                           'submission '\n",
      "                                                                           '(max '\n",
      "                                                                           '200000 '\n",
      "                                                                           'characters). '\n",
      "                                                                           'Add '\n",
      "                                                                           'formatting '\n",
      "                                                                           'using '\n",
      "                                                                           'Markdown '\n",
      "                                                                           'and '\n",
      "                                                                           'formulas '\n",
      "                                                                           'using '\n",
      "                                                                           'LaTeX. '\n",
      "                                                                           'For '\n",
      "                                                                           'more '\n",
      "                                                                           'information '\n",
      "                                                                           'see '\n",
      "                                                                           'https://openreview.net/faq',\n",
      "                                                            'order': 1,\n",
      "                                                            'presentation': {'markdown': True},\n",
      "                                                            'value': {'value-regex': '^[\\\\S\\\\s]{1,200000}$'}}},\n",
      "                   'ddate': {'int-range': [0, 9999999999999],\n",
      "                             'nullable': True,\n",
      "                             'optional': True},\n",
      "                   'forum': {'value': 'ggQ0LnvQxC'},\n",
      "                   'id': {'optional': True,\n",
      "                          'value-invitation': '.TMLR/Paper6/-/Review'},\n",
      "                   'readers': {'values': ['.TMLR',\n",
      "                                          '.TMLR/Paper6/Action_Editors',\n",
      "                                          '${signatures}']},\n",
      "                   'replyto': {'value': 'ggQ0LnvQxC'},\n",
      "                   'signatures': {'values': ['${signatures}']},\n",
      "                   'writers': {'values': ['.TMLR',\n",
      "                                          '.TMLR/Paper6/Action_Editors',\n",
      "                                          '${signatures}']}},\n",
      "          'readers': {'values': ['.TMLR',\n",
      "                                 '.TMLR/Paper6/Action_Editors',\n",
      "                                 '${signatures}']},\n",
      "          'signatures': {'values-regex': '.TMLR/Paper6/Reviewer_.*|.TMLR/Paper6/Action_Editors'},\n",
      "          'writers': {'values': ['.TMLR',\n",
      "                                 '.TMLR/Paper6/Action_Editors',\n",
      "                                 '${signatures}']}},\n",
      " 'expdate': None,\n",
      " 'id': '.TMLR/Paper6/-/Review',\n",
      " 'invitees': ['.TMLR', '.TMLR/Paper6/Reviewers'],\n",
      " 'maxReplies': 1,\n",
      " 'minReplies': None,\n",
      " 'noninvitees': None,\n",
      " 'nonreaders': None,\n",
      " 'preprocess': None,\n",
      " 'process': 'def process(client, edit, invitation):\\n'\n",
      "            \"    venue_id='.TMLR'\\n\"\n",
      "            '    note=edit.note\\n'\n",
      "            \"    paper_group_id=edit.invitation.split('/-/')[0]\\n\"\n",
      "            '    journal = openreview.journal.Journal(client, venue_id, '\n",
      "            \"'1234')\\n\"\n",
      "            '\\n'\n",
      "            '    ## TODO: send message to the reviewer, AE confirming the '\n",
      "            'review was posted\\n'\n",
      "            '\\n'\n",
      "            '    ## Create invitation to rate reviews\\n'\n",
      "            '    '\n",
      "            'journal.invitation_builder.set_review_rating_invitation(journal, '\n",
      "            'note)\\n'\n",
      "            '\\n'\n",
      "            '    review_note=client.get_note(note.id)\\n'\n",
      "            \"    if review_note.readers == ['everyone']:\\n\"\n",
      "            '        return\\n'\n",
      "            '\\n'\n",
      "            '    reviews=client.get_notes(forum=note.forum, '\n",
      "            'invitation=edit.invitation)\\n'\n",
      "            '    if len(reviews) == 3:\\n'\n",
      "            '        ## Release the reviews to everyone\\n'\n",
      "            '        invitation = '\n",
      "            'client.post_invitation_edit(readers=[venue_id],\\n'\n",
      "            '            writers=[venue_id],\\n'\n",
      "            '            signatures=[venue_id],\\n'\n",
      "            '            '\n",
      "            \"invitation=Invitation(id=f'{paper_group_id}/-/Release_Review',\\n\"\n",
      "            '                bulk=True,\\n'\n",
      "            '                invitees=[venue_id],\\n'\n",
      "            \"                readers=['everyone'],\\n\"\n",
      "            '                writers=[venue_id],\\n'\n",
      "            '                signatures=[venue_id],\\n'\n",
      "            '                edit={\\n'\n",
      "            \"                    'signatures': { 'values': [venue_id ] },\\n\"\n",
      "            \"                    'readers': { 'values': [ venue_id, \"\n",
      "            \"f'{paper_group_id}/Action_Editors', '${{note.id}.signatures}' ] \"\n",
      "            '},\\n'\n",
      "            \"                    'writers': { 'values': [ venue_id ] },\\n\"\n",
      "            \"                    'note': {\\n\"\n",
      "            \"                        'id': { 'value-invitation': \"\n",
      "            'edit.invitation },\\n'\n",
      "            \"                        'readers': { 'values': [ 'everyone' ] }\\n\"\n",
      "            '                    }\\n'\n",
      "            '                }\\n'\n",
      "            '        ))\\n'\n",
      "            '        ## Enable official recommendation\\n'\n",
      "            '        submission = client.get_note(note.forum)\\n'\n",
      "            '        duedate = '\n",
      "            'openreview.tools.datetime_millis(datetime.datetime.utcnow() + '\n",
      "            'datetime.timedelta(days = journal.default_offset_days))\\n'\n",
      "            '        '\n",
      "            'journal.invitation_builder.set_official_recommendation_invitation(journal, '\n",
      "            'submission, duedate)',\n",
      " 'readers': ['everyone'],\n",
      " 'reply_forum_views': [],\n",
      " 'signatures': ['.TMLR'],\n",
      " 'tcdate': 1634933083010,\n",
      " 'tmdate': 1634933083010,\n",
      " 'transform': None,\n",
      " 'type': 'Note',\n",
      " 'web': None,\n",
      " 'writers': ['.TMLR']}\n"
     ]
    }
   ],
   "source": [
    "print(invitations[0])"
   ]
  },
  {
   "cell_type": "code",
   "execution_count": 28,
   "metadata": {},
   "outputs": [
    {
     "name": "stdout",
     "output_type": "stream",
     "text": [
      ".TMLR/Paper6/-/Review 1613822400000 2021-02-20 07:00:00\n",
      ".TMLR/Paper7/-/Review 1613822400000 2021-02-20 07:00:00\n"
     ]
    }
   ],
   "source": [
    "## Listing the duedates for each invitation\n",
    "for i in invitations:\n",
    "    print(i.id, i.duedate, datetime.datetime.fromtimestamp(i.duedate/1000))"
   ]
  },
  {
   "cell_type": "code",
   "execution_count": 46,
   "metadata": {},
   "outputs": [
    {
     "name": "stdout",
     "output_type": "stream",
     "text": [
      "1637705174940 2021-11-23 17:06:14.940000\n",
      "1613822400000 2021-02-20 07:00:00\n",
      "due date reached for .TMLR/Paper7/-/Review\n",
      "Found reviewers: ['~Celeste_Martinez1', '~Reviewer_One-Hundred1', '~Hugo_Larochelle1', '~Melisa_Bok1']\n",
      "Found reviews: 3\n",
      "Remind reviewer ~Melisa_Bok1 to submit the review for paper 7\n"
     ]
    }
   ],
   "source": [
    "## Send reminders to late reviewers\n",
    "\n",
    "## Find all the submission that are under review\n",
    "submissions = dev_client.get_notes(invitation='.TMLR/-/Author_Submission', content={'venueid': '.TMLR/Under_Review'})\n",
    "\n",
    "for submission in submissions:\n",
    "    \n",
    "    ## get the review invitation and check if the duedate is in the past\n",
    "    review_invitation = dev_client.get_invitation(id=f'.TMLR/Paper{submission.number}/-/Review')\n",
    "    \n",
    "    print(review_invitation.duedate, datetime.datetime.fromtimestamp(review_invitation.duedate/1000))\n",
    "    if review_invitation.duedate < openreview.tools.datetime_millis(datetime.datetime.utcnow()):\n",
    "        print(f'due date reached for {review_invitation.id}')\n",
    "        \n",
    "        ## get the reviewers assigned to this submission\n",
    "        reviewers_group = dev_client.get_group(id=f'.TMLR/Paper{submission.number}/Reviewers')\n",
    "        print(f'Found reviewers: {reviewers_group.members}')\n",
    "\n",
    "        \n",
    "        ## get the submitted reviews\n",
    "        reviews = dev_client.get_notes(invitation=review_invitation.id)\n",
    "        print(f'Found reviews: {len(reviews)}')\n",
    "        \n",
    "        review_by_signature = { r.signatures[0]:r for r in reviews }\n",
    "        \n",
    "        ## find unsubmitted reviews\n",
    "        for reviewer in reviewers_group.members:\n",
    "            \n",
    "            ## get anon id\n",
    "            anon_reviewer_groups = dev_client.get_groups(regex=f'.TMLR/Paper{submission.number}/Reviewer_', member=reviewer)\n",
    "            \n",
    "            assert len(anon_reviewer_groups) == 1\n",
    "            \n",
    "            if anon_reviewer_groups:\n",
    "                anon_reviewer_group = anon_reviewer_groups[0]\n",
    "                \n",
    "                ## find review\n",
    "                review = review_by_signature.get(anon_reviewer_group.id)\n",
    "                \n",
    "                if not review:\n",
    "                    print(f'Remind reviewer {reviewer} to submit the review for paper {submission.number}')\n",
    "                    message=dev_client.post_message(recipients=[reviewer],\n",
    "                       subject='[TMLR] Please submit your review',\n",
    "                       message=f'Hi {{fullname}}, please submit your review for submission {submission.number}, thanks TMLR.',\n",
    "                       replyTo='tmlr@jmlr.org')\n"
   ]
  },
  {
   "cell_type": "code",
   "execution_count": 31,
   "metadata": {},
   "outputs": [
    {
     "data": {
      "text/plain": [
       "{'title': {'value': 'submission'},\n",
       " 'abstract': {'value': 'yes'},\n",
       " 'authors': {'value': ['Hugo Pedregosa'],\n",
       "  'readers': ['.TMLR',\n",
       "   '.TMLR/Paper19/Action_Editors',\n",
       "   '.TMLR/Paper19/Authors']},\n",
       " 'authorids': {'value': ['~Hugo_Pedregosa1'],\n",
       "  'readers': ['.TMLR',\n",
       "   '.TMLR/Paper19/Action_Editors',\n",
       "   '.TMLR/Paper19/Authors']},\n",
       " 'pdf': {'value': '/pdf/135a3d2cec09ef1e05035793c1478a044f3c307c.pdf'},\n",
       " 'supplementary_material': {},\n",
       " 'changes_since_last_submission': {'value': 'er'},\n",
       " 'competing_interests': {'value': 'er',\n",
       "  'readers': ['.TMLR',\n",
       "   '.TMLR/Paper19/Action_Editors',\n",
       "   '.TMLR/Paper19/Authors']},\n",
       " 'previous_submission_url': {},\n",
       " 'human_subjects_reporting': {'value': 'er',\n",
       "  'readers': ['.TMLR',\n",
       "   '.TMLR/Paper19/Action_Editors',\n",
       "   '.TMLR/Paper19/Authors']},\n",
       " 'venue': {'value': 'Under review for TMLR'},\n",
       " 'venueid': {'value': '.TMLR/Under_Review'},\n",
       " 'paperhash': {'value': 'pedregosa|submission',\n",
       "  'readers': ['.TMLR',\n",
       "   '.TMLR/Paper19/Action_Editors',\n",
       "   '.TMLR/Paper19/Authors']}}"
      ]
     },
     "execution_count": 31,
     "metadata": {},
     "output_type": "execute_result"
    }
   ],
   "source": [
    "submissions[0].content"
   ]
  },
  {
   "cell_type": "code",
   "execution_count": 18,
   "metadata": {},
   "outputs": [],
   "source": [
    "## How to send messages?\n",
    "## messages can be sent to any list of groups ids: emails, profile ids, paper groups, anon groups, etc\n",
    "## {{fullname}} and {{firstname}} are tokens that are being replaced by the recipient full name or first name.\n",
    "message=dev_client.post_message(recipients=['.TMLR/Paper7/Reviewers'],\n",
    "                       subject='[TMLR] Please submit your review',\n",
    "                       message='Hi {{fullname}}, please submit your review for submission 7, thanks TMLR.',\n",
    "                       replyTo='tmlr@jmlr.org')"
   ]
  },
  {
   "cell_type": "code",
   "execution_count": 19,
   "metadata": {},
   "outputs": [
    {
     "data": {
      "text/plain": [
       "{'groups': [{'id': '.TMLR/Paper7/Reviewers',\n",
       "   'messages': [{'id': 'bPhz8tz54Z3F',\n",
       "     'delivered': False,\n",
       "     'cdate': 1635521941322,\n",
       "     'content': {'from': 'openreview@dev.openreview.net',\n",
       "      'fromname': 'OpenReview',\n",
       "      'to': 'celeste@openreview.net',\n",
       "      'replyTo': 'tmlr@jmlr.org',\n",
       "      'subject': '[TMLR] Please submit your review',\n",
       "      'text': 'Hi Celeste Martinez, please submit your review for submission 7, thanks TMLR.',\n",
       "      'sendAt': 1635521941},\n",
       "     'tauthor': 'fabian@mail.com',\n",
       "     'referrer': None,\n",
       "     '_id': '617c1595ac8fdaa0a38b8019'},\n",
       "    {'id': 'vr0BucLVykwe',\n",
       "     'delivered': False,\n",
       "     'cdate': 1635521941322,\n",
       "     'content': {'from': 'openreview@dev.openreview.net',\n",
       "      'fromname': 'OpenReview',\n",
       "      'to': 'hugolarochelle@google.com',\n",
       "      'replyTo': 'tmlr@jmlr.org',\n",
       "      'subject': '[TMLR] Please submit your review',\n",
       "      'text': 'Hi Hugo Larochelle, please submit your review for submission 7, thanks TMLR.',\n",
       "      'sendAt': 1635521941},\n",
       "     'tauthor': 'fabian@mail.com',\n",
       "     'referrer': None,\n",
       "     '_id': '617c1595ac8fdaa0a38b801a'},\n",
       "    {'id': 'AaGKU02sLful',\n",
       "     'delivered': False,\n",
       "     'cdate': 1635521941322,\n",
       "     'content': {'from': 'openreview@dev.openreview.net',\n",
       "      'fromname': 'OpenReview',\n",
       "      'to': 'one-hundred@email.com',\n",
       "      'replyTo': 'tmlr@jmlr.org',\n",
       "      'subject': '[TMLR] Please submit your review',\n",
       "      'text': 'Hi Reviewer One-Hundred, please submit your review for submission 7, thanks TMLR.',\n",
       "      'sendAt': 1635521941},\n",
       "     'tauthor': 'fabian@mail.com',\n",
       "     'referrer': None,\n",
       "     '_id': '617c1595ac8fdaa0a38b801b'}]}]}"
      ]
     },
     "execution_count": 19,
     "metadata": {},
     "output_type": "execute_result"
    }
   ],
   "source": [
    "message"
   ]
  },
  {
   "cell_type": "code",
   "execution_count": 20,
   "metadata": {},
   "outputs": [
    {
     "data": {
      "text/plain": [
       "[{'id': 'NPUp2YDM3x5f',\n",
       "  'delivered': True,\n",
       "  'cdate': 1635520857634,\n",
       "  'content': {'from': 'openreview@dev.openreview.net',\n",
       "   'fromname': 'OpenReview',\n",
       "   'to': 'celeste@openreview.net',\n",
       "   'replyTo': 'tmlr@jmlr.org',\n",
       "   'subject': '[TMLR] Please submit your review',\n",
       "   'text': 'Hi Celeste Martinez, please submit your review for submission 7, thanks TMLR.',\n",
       "   'sendAt': 1635520857},\n",
       "  'tauthor': 'fabian@mail.com',\n",
       "  'referrer': None,\n",
       "  'status': 'sent',\n",
       "  'logs': [],\n",
       "  'executedOn': 'webapp-1'},\n",
       " {'id': 'K9D5tptLy7RN',\n",
       "  'delivered': True,\n",
       "  'cdate': 1635520857634,\n",
       "  'content': {'from': 'openreview@dev.openreview.net',\n",
       "   'fromname': 'OpenReview',\n",
       "   'to': 'hugolarochelle@google.com',\n",
       "   'replyTo': 'tmlr@jmlr.org',\n",
       "   'subject': '[TMLR] Please submit your review',\n",
       "   'text': 'Hi Hugo Larochelle, please submit your review for submission 7, thanks TMLR.',\n",
       "   'sendAt': 1635520857},\n",
       "  'tauthor': 'fabian@mail.com',\n",
       "  'referrer': None,\n",
       "  'status': 'sent',\n",
       "  'logs': [],\n",
       "  'executedOn': 'webapp-1'},\n",
       " {'id': 'stP8mlEwpon5',\n",
       "  'delivered': True,\n",
       "  'cdate': 1635520857634,\n",
       "  'content': {'from': 'openreview@dev.openreview.net',\n",
       "   'fromname': 'OpenReview',\n",
       "   'to': 'one-hundred@email.com',\n",
       "   'replyTo': 'tmlr@jmlr.org',\n",
       "   'subject': '[TMLR] Please submit your review',\n",
       "   'text': 'Hi Reviewer One-Hundred, please submit your review for submission 7, thanks TMLR.',\n",
       "   'sendAt': 1635520857},\n",
       "  'tauthor': 'fabian@mail.com',\n",
       "  'referrer': None,\n",
       "  'status': 'sent',\n",
       "  'logs': [],\n",
       "  'executedOn': 'webapp-1'},\n",
       " {'id': 'bPhz8tz54Z3F',\n",
       "  'delivered': True,\n",
       "  'cdate': 1635521941322,\n",
       "  'content': {'from': 'openreview@dev.openreview.net',\n",
       "   'fromname': 'OpenReview',\n",
       "   'to': 'celeste@openreview.net',\n",
       "   'replyTo': 'tmlr@jmlr.org',\n",
       "   'subject': '[TMLR] Please submit your review',\n",
       "   'text': 'Hi Celeste Martinez, please submit your review for submission 7, thanks TMLR.',\n",
       "   'sendAt': 1635521941},\n",
       "  'tauthor': 'fabian@mail.com',\n",
       "  'referrer': None,\n",
       "  'status': 'sent',\n",
       "  'logs': [],\n",
       "  'executedOn': 'webapp-1'},\n",
       " {'id': 'vr0BucLVykwe',\n",
       "  'delivered': True,\n",
       "  'cdate': 1635521941322,\n",
       "  'content': {'from': 'openreview@dev.openreview.net',\n",
       "   'fromname': 'OpenReview',\n",
       "   'to': 'hugolarochelle@google.com',\n",
       "   'replyTo': 'tmlr@jmlr.org',\n",
       "   'subject': '[TMLR] Please submit your review',\n",
       "   'text': 'Hi Hugo Larochelle, please submit your review for submission 7, thanks TMLR.',\n",
       "   'sendAt': 1635521941},\n",
       "  'tauthor': 'fabian@mail.com',\n",
       "  'referrer': None,\n",
       "  'status': 'sent',\n",
       "  'logs': [],\n",
       "  'executedOn': 'webapp-1'},\n",
       " {'id': 'AaGKU02sLful',\n",
       "  'delivered': True,\n",
       "  'cdate': 1635521941322,\n",
       "  'content': {'from': 'openreview@dev.openreview.net',\n",
       "   'fromname': 'OpenReview',\n",
       "   'to': 'one-hundred@email.com',\n",
       "   'replyTo': 'tmlr@jmlr.org',\n",
       "   'subject': '[TMLR] Please submit your review',\n",
       "   'text': 'Hi Reviewer One-Hundred, please submit your review for submission 7, thanks TMLR.',\n",
       "   'sendAt': 1635521941},\n",
       "  'tauthor': 'fabian@mail.com',\n",
       "  'referrer': None,\n",
       "  'status': 'sent',\n",
       "  'logs': [],\n",
       "  'executedOn': 'webapp-1'}]"
      ]
     },
     "execution_count": 20,
     "metadata": {},
     "output_type": "execute_result"
    }
   ],
   "source": [
    "## Get the messages sent\n",
    "## Each message contains a log with the information from Sendgrid about the delivery.\n",
    "## you can also use the messages UI to query them: https://dev.openereview.net/messages\n",
    "dev_client.get_messages(subject='[TMLR] Please submit your review')"
   ]
  },
  {
   "cell_type": "code",
   "execution_count": 23,
   "metadata": {},
   "outputs": [],
   "source": [
    "## Recruit Action Editors and Reviewers\n",
    "## There is a Journal object where we are storing workflow for TMLR\n",
    "journal=Journal(dev_client, '.TMLR', '1234', 'tmlr@jmlr.org', 'TMLR')"
   ]
  },
  {
   "cell_type": "code",
   "execution_count": 48,
   "metadata": {},
   "outputs": [
    {
     "name": "stderr",
     "output_type": "stream",
     "text": [
      "send_invitations: 100%|██████████| 1/1 [00:00<00:00,  1.13it/s]\n"
     ]
    },
    {
     "data": {
      "text/plain": [
       "Group(id = '.TMLR/Action_Editors/Invited',invitation = None,cdate = 1613583007410,ddate = None,tcdate = 1613583007410,tmdate = 1635521593251,writers = ['.TMLR'],members = ['action_editor@mail.com', 'actioneditor@mail.com'],readers = ['.TMLR'],nonreaders = [],signatures = ['.TMLR'],signatories = [],anonids = None,web = None,impersonators = None,deanonymizers = None,details = {'writable': True})"
      ]
     },
     "execution_count": 48,
     "metadata": {},
     "output_type": "execute_result"
    }
   ],
   "source": [
    "## Recruit action editors\n",
    "journal.invite_action_editors(message='''Hi {{{{fullname}}}},  \n",
    "\n",
    "This is an invitation to be an Action Editor for TMLR. \n",
    "\n",
    "To accept please click the following link:\n",
    "{accept_url}\n",
    "\n",
    "To decline please click the following link:\n",
    "{decline_url}\n",
    "\n",
    "Thanks!\n",
    "''', \n",
    "        subject='[TMLR] Invitation to be an Action Editor', \n",
    "        invitees=['actioneditor@mail.com'])"
   ]
  },
  {
   "cell_type": "code",
   "execution_count": 49,
   "metadata": {},
   "outputs": [
    {
     "data": {
      "text/plain": [
       "[{'id': 'LYho8iS2JHTh',\n",
       "  'delivered': True,\n",
       "  'cdate': 1635521593473,\n",
       "  'content': {'from': 'openreview@dev.openreview.net',\n",
       "   'fromname': 'OpenReview',\n",
       "   'to': 'actioneditor@mail.com',\n",
       "   'replyTo': None,\n",
       "   'subject': '[TMLR] Invitation to be an Action Editor',\n",
       "   'text': 'Hi actioneditor@mail.com,  \\n\\nThis is an invitation to be an Action Editor for TMLR. \\n\\nTo accept please click the following link:\\nhttps://openreview.net/invitation?id=.TMLR/Action_Editors/-/Recruitment&user=actioneditor%40mail.com&key=96a45e38bd988e7b6358c47fd9acf3e68ebad4f3cd8425922fecd7a304ac562e&response=Yes\\n\\nTo decline please click the following link:\\nhttps://openreview.net/invitation?id=.TMLR/Action_Editors/-/Recruitment&user=actioneditor%40mail.com&key=96a45e38bd988e7b6358c47fd9acf3e68ebad4f3cd8425922fecd7a304ac562e&response=No\\n\\nThanks!\\n',\n",
       "   'sendAt': 1635521593},\n",
       "  'tauthor': 'fabian@mail.com',\n",
       "  'referrer': '.TMLR/Action_Editors/Invited',\n",
       "  'status': 'sent',\n",
       "  'logs': [],\n",
       "  'executedOn': 'webapp-1'}]"
      ]
     },
     "execution_count": 49,
     "metadata": {},
     "output_type": "execute_result"
    }
   ],
   "source": [
    "## Check messages\n",
    "## the message text contains the two urls to accept or decline the invitation, \n",
    "## you need to replace https://openreview.net with https://dev.openreview.net to test this in the dev site\n",
    "dev_client.get_messages(subject='[TMLR] Invitation to be an Action Editor', to='actioneditor@mail.com')"
   ]
  },
  {
   "cell_type": "code",
   "execution_count": 50,
   "metadata": {},
   "outputs": [
    {
     "name": "stdout",
     "output_type": "stream",
     "text": [
      "{'id': 'jbhhXPQRFs', 'cdate': 1635521678010, 'tcdate': 1635521678010, 'tmdate': 1635521678010, 'mdate': 1635521678010, 'tauthor': 'fabian@mail.com', 'signatures': ['.TMLR'], 'readers': ['.TMLR'], 'writers': ['.TMLR'], 'invitation': {'id': '.TMLR/Reviewers/-/Recruitment', 'cdate': 1635521678010, 'tcdate': 1635521678010, 'mdate': 1635521678010, 'tmdate': 1635521678010, 'ddate': None, 'tddate': None, 'signatures': ['.TMLR'], 'readers': ['everyone'], 'nonreaders': None, 'writers': ['.TMLR'], 'invitees': ['everyone'], 'noninvitees': None, 'preprocess': None, 'process': \"def process(client, note, invitation):\\n    from Crypto.Hash import HMAC, SHA256\\n    import urllib.parse\\n    SHORT_PHRASE = '.TMLR'\\n    ACTION_EDITOR_NAME = 'Action Editor'\\n    ACTION_EDITOR_INVITED_ID = '.TMLR/Reviewers/Invited'\\n    ACTION_EDITOR_ACCEPTED_ID = '.TMLR/Reviewers'\\n    ACTION_EDITOR_DECLINED_ID = '.TMLR/Reviewers/Declined'\\n    HASH_SEED = '1234'\\n\\n    if hasattr(note, 'note'):\\n        note=edit.note\\n        user=note.content['user']['value']\\n        key=note.content['key']['value']\\n        response=note.content['response']['value']\\n    else:\\n        user=note.content['user']\\n        key=note.content['key']\\n        response=note.content['response']\\n\\n    user = urllib.parse.unquote(user)\\n\\n    hashkey = HMAC.new(HASH_SEED.encode(), digestmod=SHA256).update(user.encode()).hexdigest()\\n\\n    if (hashkey == key and client.get_groups(regex=ACTION_EDITOR_INVITED_ID, member=user)):\\n        if (response == 'Yes'):\\n            client.remove_members_from_group(ACTION_EDITOR_DECLINED_ID, user)\\n            client.add_members_to_group(ACTION_EDITOR_ACCEPTED_ID, user)\\n\\n            subject = '[{SHORT_PHRASE}] {SHORT_PHRASE} Invitation accepted'.format(SHORT_PHRASE=SHORT_PHRASE, ACTION_EDITOR_NAME=ACTION_EDITOR_NAME)\\n            message = '''Thank you for accepting the invitation to be a {ACTION_EDITOR_NAME} for {SHORT_PHRASE}.\\nThe {SHORT_PHRASE} editors in chief will be contacting you with more information regarding next steps soon. In the meantime, please add noreply@openreview.net to your email contacts to ensure that you receive all communications.\\n\\nIf you would like to change your decision, please click the Decline link in the previous invitation email.'''.format(SHORT_PHRASE=SHORT_PHRASE, ACTION_EDITOR_NAME=ACTION_EDITOR_NAME)\\n\\n            return client.post_message(subject, [user], message, parentGroup=ACTION_EDITOR_ACCEPTED_ID)\\n\\n        if (response == 'No'):\\n            client.remove_members_from_group(ACTION_EDITOR_ACCEPTED_ID, user)\\n            client.add_members_to_group(ACTION_EDITOR_DECLINED_ID, user)\\n\\n            subject = '[{SHORT_PHRASE}] {SHORT_PHRASE} Invitation declined'.format(SHORT_PHRASE=SHORT_PHRASE, ACTION_EDITOR_NAME=ACTION_EDITOR_NAME)\\n            message = '''You have declined the invitation to become a {ACTION_EDITOR_NAME} for {SHORT_PHRASE}.\\n\\nIf you would like to change your decision, please click the Accept link in the previous invitation email.\\n\\n'''.format(ACTION_EDITOR_NAME=ACTION_EDITOR_NAME, SHORT_PHRASE=SHORT_PHRASE)\\n\\n            return client.post_message(subject, [user], message, parentGroup=ACTION_EDITOR_DECLINED_ID)\\n    else:\\n        raise OpenReviewException(f'Invalid key or user no invited {user}')\", 'transform': None, 'web': '// webfield_template\\n// Remove line above if you don\\'t want this page to be overwriten\\n\\n// Constants\\nvar VENUE_ID = \\'.TMLR\\';\\nvar HEADER = {\"title\": \"Transactions of Machine Learning Research\", \"short\": \"TMLR\", \"subtitle\": \"To be defined\", \"location\": \"Everywhere\", \"date\": \"Ongoing\", \"website\": \"https://openreview.net\", \"instructions\": \"\", \"deadline\": \"\", \"contact\": \"tmlr@jmlr.org\"};\\n\\n// Main is the entry point to the webfield code and runs everything\\nfunction main() {\\n  Webfield.ui.setup(\\'#invitation-container\\', VENUE_ID);  // required\\n\\n  Webfield.ui.venueHeader(HEADER);\\n\\n  if (args && args.referrer) {\\n    OpenBanner.referrerLink(args.referrer);\\n  } else {\\n    OpenBanner.venueHomepageLink(VENUE_ID);\\n  }\\n\\n  render();\\n}\\n\\nfunction render() {\\n  var $response = $(\\'#notes\\');\\n  $response.empty();\\n\\n  if (args.response) {\\n    var accepted = (args.response === \\'Yes\\');\\n    var declined = (args.response === \\'No\\');\\n\\n    if (accepted) {\\n      // Display response text\\n      var message = \\'Thank you for accepting this invitation from \\' + HEADER.title;\\n      $response.append(\\'<div><h3 style=\"line-height:normal;\">\\' + message + \\'</h3></div>\\');\\n      var email = args.user.indexOf(\\'@\\') > -1 ? \\'(<strong>\\' + args.user + \\'</strong>)\\' : \\'\\';\\n\\n      $response.append([\\n        \\'<div>\\',\\n          \\'<h4>Please complete the following steps now:</h4>\\',\\n          \\'<ol>\\',\\n            \\'<li><p>Log in to your OpenReview account. If you do not already have an account, you can sign up <a style=\"font-weight:bold;\" href=\"/signup\">here</a>.</p></li>\\',\\n            \\'<li><p>Ensure that the email address \\' + email + \\' that received this invitation is linked to your <a style=\"font-weight:bold;\" href=\"/profile?mode=edit\">profile page</a> and has been confirmed.</p></li>\\',\\n            \\'<li><p>Complete your pending <a style=\"font-weight:bold;\" href=\"/tasks\">tasks</a> (if any) for \\' + HEADER.subtitle + \\'.</p></li>\\',\\n          \\'</ol>\\',\\n        \\'</div>\\',\\n      ].join(\\'\\\\n\\'));\\n    } else if (declined) {\\n      var message = \\'You have declined the invitation from \\' + HEADER.title + \\'.\\';\\n      $response.append(\\'<div><h3 style=\"line-height:normal;\">\\' + message + \\'</h3></div>\\');\\n    }\\n  }\\n\\n  Webfield.ui.done();\\n}\\n\\n// Go!\\nmain();\\n', 'replyForumViews': [], 'edit': {'signatures': {'values': ['(anonymous)']}, 'readers': {'values': ['.TMLR']}, 'note': {'signatures': {'values': ['${signatures}']}, 'readers': {'values': ['.TMLR']}, 'writers': {'values': ['.TMLR']}, 'content': {'title': {'order': 1, 'value': {'value': 'Recruit response'}}, 'user': {'description': 'email address', 'order': 2, 'value': {'value-regex': '.*'}}, 'key': {'description': 'Email key hash', 'order': 3, 'value': {'value-regex': '.{0,100}'}}, 'response': {'description': 'Invitation response', 'order': 4, 'value': {'value-radio': ['Yes', 'No']}}}}}}}\n"
     ]
    },
    {
     "name": "stderr",
     "output_type": "stream",
     "text": [
      "send_invitations: 100%|██████████| 1/1 [00:01<00:00,  1.07s/it]\n"
     ]
    },
    {
     "data": {
      "text/plain": [
       "Group(id = '.TMLR/Reviewers/Invited',invitation = None,cdate = 1613583007462,ddate = None,tcdate = 1613583007462,tmdate = 1635521678903,writers = ['.TMLR'],members = ['reviewer@mail.com'],readers = ['.TMLR'],nonreaders = [],signatures = ['.TMLR'],signatories = [],anonids = None,web = None,impersonators = None,deanonymizers = None,details = {'writable': True})"
      ]
     },
     "execution_count": 50,
     "metadata": {},
     "output_type": "execute_result"
    }
   ],
   "source": [
    "## Recruit reviewers\n",
    "journal.invite_reviewers(message='''Hi {{{{fullname}}}},  \n",
    "\n",
    "This is an invitation to be a Reviewer for TMLR. \n",
    "\n",
    "To accept please click the following link:\n",
    "{accept_url}\n",
    "\n",
    "To decline please click the following link:\n",
    "{decline_url}\n",
    "\n",
    "Thanks!\n",
    "''', \n",
    "        subject='[TMLR] Invitation to be an Reviewer', \n",
    "        invitees=['reviewer@mail.com'])"
   ]
  },
  {
   "cell_type": "code",
   "execution_count": 51,
   "metadata": {},
   "outputs": [
    {
     "data": {
      "text/plain": [
       "[{'id': '0n9eHQ20pMlc',\n",
       "  'delivered': True,\n",
       "  'cdate': 1635521679143,\n",
       "  'content': {'from': 'openreview@dev.openreview.net',\n",
       "   'fromname': 'OpenReview',\n",
       "   'to': 'reviewer@mail.com',\n",
       "   'replyTo': None,\n",
       "   'subject': '[TMLR] Invitation to be an Reviewer',\n",
       "   'text': 'Hi reviewer@mail.com,  \\n\\nThis is an invitation to be a Reviewer for TMLR. \\n\\nTo accept please click the following link:\\nhttps://openreview.net/invitation?id=.TMLR/Reviewers/-/Recruitment&user=reviewer%40mail.com&key=efee619def6f94b4e2b2c54d118ca1d65bdd13b16d2f54198159d98a2a8880b1&response=Yes\\n\\nTo decline please click the following link:\\nhttps://openreview.net/invitation?id=.TMLR/Reviewers/-/Recruitment&user=reviewer%40mail.com&key=efee619def6f94b4e2b2c54d118ca1d65bdd13b16d2f54198159d98a2a8880b1&response=No\\n\\nThanks!\\n',\n",
       "   'sendAt': 1635521679},\n",
       "  'tauthor': 'fabian@mail.com',\n",
       "  'referrer': '.TMLR/Reviewers/Invited',\n",
       "  'status': 'sent',\n",
       "  'logs': [],\n",
       "  'executedOn': 'webapp-1'}]"
      ]
     },
     "execution_count": 51,
     "metadata": {},
     "output_type": "execute_result"
    }
   ],
   "source": [
    "dev_client.get_messages(subject='[TMLR] Invitation to be an Reviewer', to='reviewer@mail.com')"
   ]
  },
  {
   "cell_type": "code",
   "execution_count": null,
   "metadata": {},
   "outputs": [],
   "source": []
  }
 ],
 "metadata": {
  "kernelspec": {
   "display_name": "Python 3",
   "language": "python",
   "name": "python3"
  },
  "language_info": {
   "codemirror_mode": {
    "name": "ipython",
    "version": 3
   },
   "file_extension": ".py",
   "mimetype": "text/x-python",
   "name": "python",
   "nbconvert_exporter": "python",
   "pygments_lexer": "ipython3",
   "version": "3.7.6"
  }
 },
 "nbformat": 4,
 "nbformat_minor": 4
}
