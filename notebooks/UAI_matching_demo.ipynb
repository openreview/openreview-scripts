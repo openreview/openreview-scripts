{
 "cells": [
  {
   "cell_type": "code",
   "execution_count": 1,
   "metadata": {
    "collapsed": false
   },
   "outputs": [],
   "source": [
    "import openreview\n",
    "import csv\n",
    "import re\n",
    "client = openreview.Client(username=\"OpenReview.net\",password=\"OpenReview_beta\",baseurl=\"http://localhost:3000\",secure_activation=False)"
   ]
  },
  {
   "cell_type": "markdown",
   "metadata": {},
   "source": [
    "### Generate dummy reviewers"
   ]
  },
  {
   "cell_type": "code",
   "execution_count": 2,
   "metadata": {
    "collapsed": false
   },
   "outputs": [
    {
     "name": "stdout",
     "output_type": "stream",
     "text": [
      "Red\n",
      "Orange\n",
      "Yellow\n",
      "Green\n",
      "Blue\n",
      "Indigo\n",
      "Violet\n"
     ]
    }
   ],
   "source": [
    "last = 'Reviewer'\n",
    "password = '1234'\n",
    "\n",
    "users = []\n",
    "for first in ['Red', 'Orange', 'Yellow', 'Green', 'Blue', 'Indigo', 'Violet']:\n",
    "    print first\n",
    "    email = ('%sreviewer@gmail.com' % first.lower())\n",
    "    users.append(client.create_dummy(email=email,first=first,last=last,password=password))\n",
    "\n",
    "reviewers = [u['user']['profile']['id'] for u in users]"
   ]
  },
  {
   "cell_type": "markdown",
   "metadata": {},
   "source": [
    "### Generate fake paper submissions"
   ]
  },
  {
   "cell_type": "code",
   "execution_count": 14,
   "metadata": {
    "collapsed": false
   },
   "outputs": [
    {
     "data": {
      "text/plain": [
       "[<openreview.openreview.Note at 0x103eb4210>,\n",
       " <openreview.openreview.Note at 0x10051c790>,\n",
       " <openreview.openreview.Note at 0x103eb4a10>]"
      ]
     },
     "execution_count": 14,
     "metadata": {},
     "output_type": "execute_result"
    }
   ],
   "source": [
    "#modify the submission invitation so that we can make easy test notes\n",
    "uaisub = client.get_invitation('auai.org/UAI/2017/-/submission')\n",
    "uaisub.reply['content']= {\n",
    "    u'title': {\n",
    "        u'description': u'Title of paper.',\n",
    "        u'order': 1,\n",
    "        u'required': True,\n",
    "        u'value-regex': u'.{1,250}'\n",
    "    }\n",
    "}\n",
    "client.post_invitation(uaisub)\n",
    "\n",
    "#Create three sample notes\n",
    "sample_papers = [None,None,None]\n",
    "sample_papers[0] = openreview.Note(invitation='auai.org/UAI/2017/-/submission',\n",
    "                                content={'title':'Sample Paper 1'},\n",
    "                                readers=[u'auai.org/UAI/2017/Program_Co-Chairs'],\n",
    "                                signatures=['~Michael_Spector1'],\n",
    "                                writers=['~Michael_Spector1']\n",
    "                              )\n",
    "sample_papers[1] = openreview.Note(invitation='auai.org/UAI/2017/-/submission',\n",
    "                                content={'title':'Sample Paper 2'},\n",
    "                                readers=[u'auai.org/UAI/2017/Program_Co-Chairs'],\n",
    "                                signatures=['~Michael_Spector1'],\n",
    "                                writers=['~Michael_Spector1']\n",
    "                              )\n",
    "sample_papers[2] = openreview.Note(invitation='auai.org/UAI/2017/-/submission',\n",
    "                                content={'title':'Sample Paper 3'},\n",
    "                                readers=[u'auai.org/UAI/2017/Program_Co-Chairs'],\n",
    "                                signatures=['~Michael_Spector1'],\n",
    "                                writers=['~Michael_Spector1']\n",
    "                              )\n",
    "\n",
    "[client.post_note(note) for note in sample_papers]"
   ]
  },
  {
   "cell_type": "code",
   "execution_count": 16,
   "metadata": {
    "collapsed": false
   },
   "outputs": [
    {
     "data": {
      "text/plain": [
       "<openreview.openreview.Group at 0x103bdc3d0>"
      ]
     },
     "execution_count": 16,
     "metadata": {},
     "output_type": "execute_result"
    }
   ],
   "source": [
    "program_committee = client.get_group('auai.org/UAI/2017/Program_Committee')\n",
    "program_committee.members = ids\n",
    "client.post_group(program_committee)"
   ]
  },
  {
   "cell_type": "code",
   "execution_count": null,
   "metadata": {
    "collapsed": true
   },
   "outputs": [],
   "source": []
  },
  {
   "cell_type": "code",
   "execution_count": null,
   "metadata": {
    "collapsed": true
   },
   "outputs": [],
   "source": []
  }
 ],
 "metadata": {
  "kernelspec": {
   "display_name": "Python (openreview)",
   "language": "python",
   "name": "openreview"
  },
  "language_info": {
   "codemirror_mode": {
    "name": "ipython",
    "version": 2
   },
   "file_extension": ".py",
   "mimetype": "text/x-python",
   "name": "python",
   "nbconvert_exporter": "python",
   "pygments_lexer": "ipython2",
   "version": "2.7.12"
  }
 },
 "nbformat": 4,
 "nbformat_minor": 0
}
