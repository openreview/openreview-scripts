{
 "cells": [
  {
   "cell_type": "code",
   "execution_count": 1,
   "metadata": {
    "collapsed": false
   },
   "outputs": [],
   "source": [
    "import openreview\n",
    "import csv\n",
    "import re\n",
    "client = openreview.Client(username=\"OpenReview.net\",password=\"OpenReview_beta\",baseurl=\"http://localhost:3000\")"
   ]
  },
  {
   "cell_type": "code",
   "execution_count": 2,
   "metadata": {
    "collapsed": false
   },
   "outputs": [
    {
     "data": {
      "text/plain": [
       "<openreview.openreview.Invitation at 0x103bbda10>"
      ]
     },
     "execution_count": 2,
     "metadata": {},
     "output_type": "execute_result"
    }
   ],
   "source": [
    "#Create the paper metadata invitation\n",
    "paper_metadata_reply = {\n",
    "    'forum': None,\n",
    "    'replyto': None,\n",
    "    'readers': {\n",
    "        'description': 'The users who will be allowed to read the above content.',\n",
    "        'values': ['OpenReview.net'] #who should be allowed to read UAI submissions and when?\n",
    "    },\n",
    "    'signatures': {\n",
    "        'description': 'How your identity will be displayed with the above content.',\n",
    "        'values-regex': 'OpenReview.net'\n",
    "    },\n",
    "    'writers': {\n",
    "        'values-regex': 'OpenReview.net'\n",
    "    },\n",
    "    'content': {} #content is blank; this allows for ANYTHING to be placed in the content field.\n",
    "    #we'll want to change this later one we know what the format will be.\n",
    "}\n",
    "paper_metadata_invitation = openreview.Invitation('auai.org/UAI/2017','Paper/Metadata',\n",
    "                                           writers=['OpenReview.net'],\n",
    "                                           readers=['OpenReview.net'],\n",
    "                                           invitees=['OpenReview.net'],\n",
    "                                           signatures=['OpenReview.net'],\n",
    "                                           reply=paper_metadata_reply)\n",
    "client.post_invitation(paper_metadata_invitation)\n",
    "\n",
    "\n",
    "#Create the reviewer metadata invitation\n",
    "reviewer_metadata_reply = {\n",
    "    'forum': None,\n",
    "    'replyto': None,\n",
    "    'readers': {\n",
    "        'description': 'The users who will be allowed to read the above content.',\n",
    "        'values': ['OpenReview.net'] #who should be allowed to read UAI submissions and when?\n",
    "    },\n",
    "    'signatures': {\n",
    "        'description': 'How your identity will be displayed with the above content.',\n",
    "        'values-regex': 'OpenReview.net'\n",
    "    },\n",
    "    'writers': {\n",
    "        'values-regex': 'OpenReview.net'\n",
    "    },\n",
    "    'content': {} #Content is blank. See above.\n",
    "}\n",
    "reviewer_metadata_invitation = openreview.Invitation('auai.org/UAI/2017','Reviewer/Metadata',\n",
    "                                           writers=['OpenReview.net'],\n",
    "                                           readers=['OpenReview.net'],\n",
    "                                           invitees=['OpenReview.net'],\n",
    "                                           signatures=['OpenReview.net'],\n",
    "                                           reply=reviewer_metadata_reply)\n",
    "client.post_invitation(reviewer_metadata_invitation)"
   ]
  },
  {
   "cell_type": "code",
   "execution_count": 3,
   "metadata": {
    "collapsed": false
   },
   "outputs": [
    {
     "data": {
      "text/plain": [
       "[<openreview.openreview.Note at 0x103bd54d0>,\n",
       " <openreview.openreview.Note at 0x103ea1f50>,\n",
       " <openreview.openreview.Note at 0x103bd53d0>]"
      ]
     },
     "execution_count": 3,
     "metadata": {},
     "output_type": "execute_result"
    }
   ],
   "source": [
    "#modify the submission invitation so that we can make easy test notes\n",
    "uaisub = client.get_invitation('auai.org/UAI/2017/-/submission')\n",
    "uaisub.reply['content']= {\n",
    "    u'title': {\n",
    "        u'description': u'Title of paper.',\n",
    "        u'order': 1,\n",
    "        u'required': True,\n",
    "        u'value-regex': u'.{1,250}'\n",
    "    }\n",
    "}\n",
    "client.post_invitation(uaisub)\n",
    "\n",
    "#Create three sample notes\n",
    "sample_papers = [None,None,None]\n",
    "sample_papers[0] = openreview.Note(invitation='auai.org/UAI/2017/-/submission',\n",
    "                                content={'title':'Sample Paper 1'},\n",
    "                                readers=[u'auai.org/UAI/2017/Program_Co-Chairs'],\n",
    "                                signatures=['~Michael_Spector1'],\n",
    "                                writers=['~Michael_Spector1']\n",
    "                              )\n",
    "sample_papers[1] = openreview.Note(invitation='auai.org/UAI/2017/-/submission',\n",
    "                                content={'title':'Sample Paper 2'},\n",
    "                                readers=[u'auai.org/UAI/2017/Program_Co-Chairs'],\n",
    "                                signatures=['~Michael_Spector1'],\n",
    "                                writers=['~Michael_Spector1']\n",
    "                              )\n",
    "sample_papers[2] = openreview.Note(invitation='auai.org/UAI/2017/-/submission',\n",
    "                                content={'title':'Sample Paper 3'},\n",
    "                                readers=[u'auai.org/UAI/2017/Program_Co-Chairs'],\n",
    "                                signatures=['~Michael_Spector1'],\n",
    "                                writers=['~Michael_Spector1']\n",
    "                              )\n",
    "\n",
    "[client.post_note(note) for note in sample_papers]"
   ]
  },
  {
   "cell_type": "code",
   "execution_count": 4,
   "metadata": {
    "collapsed": false
   },
   "outputs": [
    {
     "data": {
      "text/plain": [
       "<openreview.openreview.Group at 0x103eaf290>"
      ]
     },
     "execution_count": 4,
     "metadata": {},
     "output_type": "execute_result"
    }
   ],
   "source": [
    "program_committee = client.get_group('auai.org/UAI/2017/Program_Committee')\n",
    "client.add_members_to_group(program_committee,['~Michael_Spector1','~Melisa_TestBok1'])"
   ]
  },
  {
   "cell_type": "code",
   "execution_count": null,
   "metadata": {
    "collapsed": true
   },
   "outputs": [],
   "source": []
  }
 ],
 "metadata": {
  "kernelspec": {
   "display_name": "Python (openreview)",
   "language": "python",
   "name": "openreview"
  },
  "language_info": {
   "codemirror_mode": {
    "name": "ipython",
    "version": 2
   },
   "file_extension": ".py",
   "mimetype": "text/x-python",
   "name": "python",
   "nbconvert_exporter": "python",
   "pygments_lexer": "ipython2",
   "version": "2.7.12"
  }
 },
 "nbformat": 4,
 "nbformat_minor": 0
}
