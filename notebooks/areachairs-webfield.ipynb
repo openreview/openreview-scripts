{
 "cells": [
  {
   "cell_type": "code",
   "execution_count": 1,
   "metadata": {
    "collapsed": false
   },
   "outputs": [],
   "source": [
    "import openreview\n",
    "client = openreview.Client(username=\"OpenReview.net\",password='OpenReview_beta',baseurl='http://localhost:3000')"
   ]
  },
  {
   "cell_type": "code",
   "execution_count": 2,
   "metadata": {
    "collapsed": false
   },
   "outputs": [
    {
     "name": "stdout",
     "output_type": "stream",
     "text": [
      "[u'a.anandkumar@uci.edu', u'christopher.pal@polymtl.ca', u'duvenaud@cs.toronto.edu', u'srush@seas.harvard.edu', u'parikh@vt.edu', u'dbatra@vt.edu', u'etg@google.com', u'gdahl@google.com', u'gwtaylor@uoguelph.ca', u'i.murray@ed.ac.uk', u'titov@mmci.uni-saarland.de', u' jasper@cs.toronto.edu', u'bruna@cims.nyu.edu', u'simonyan@google.com', u'lvdmaaten@gmail.com', u'schmidtm@cs.ubc.ca', u'aapo.hyvarinen@helsinki.fi', u'matthias@bethgelab.org', u'ndjaitly@google.com', u'nasmith@cs.washington.edu', u'raia@google.com', u'zemel@cs.toronto.edu', u'sanja.fidler@gmail.com', u'svlevine@eecs.berkeley.edu', u'shakir@google.com', u'slav@google.com', u'vikas.sindhwani@gmail.com', u'notebleue@gmail.com', u'zaid.harchaoui@inria.fr', u'spector@cs.umass.edu']\n"
     ]
    }
   ],
   "source": [
    "areachairs = client.get_group('ICLR.cc/2017/areachairs')\n",
    "print areachairs.members"
   ]
  },
  {
   "cell_type": "code",
   "execution_count": 3,
   "metadata": {
    "collapsed": false
   },
   "outputs": [],
   "source": [
    "with open('/Users/michaelspector/projects/iesl/openreview-scripts/iclr2017/webfield/areachair_webfield.html') as f:\n",
    "    areachairs.web = f.read()\n",
    "    \n"
   ]
  },
  {
   "cell_type": "code",
   "execution_count": 4,
   "metadata": {
    "collapsed": false
   },
   "outputs": [
    {
     "data": {
      "text/plain": [
       "<openreview.openreview.Group at 0x103f304d0>"
      ]
     },
     "execution_count": 4,
     "metadata": {},
     "output_type": "execute_result"
    }
   ],
   "source": [
    "client.post_group(areachairs)"
   ]
  },
  {
   "cell_type": "code",
   "execution_count": null,
   "metadata": {
    "collapsed": true
   },
   "outputs": [],
   "source": []
  },
  {
   "cell_type": "code",
   "execution_count": null,
   "metadata": {
    "collapsed": true
   },
   "outputs": [],
   "source": []
  }
 ],
 "metadata": {
  "kernelspec": {
   "display_name": "Python (openreview)",
   "language": "python",
   "name": "openreview"
  },
  "language_info": {
   "codemirror_mode": {
    "name": "ipython",
    "version": 2
   },
   "file_extension": ".py",
   "mimetype": "text/x-python",
   "name": "python",
   "nbconvert_exporter": "python",
   "pygments_lexer": "ipython2",
   "version": "2.7.12"
  }
 },
 "nbformat": 4,
 "nbformat_minor": 0
}
