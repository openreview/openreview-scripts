{
 "cells": [
  {
   "cell_type": "code",
   "execution_count": 1,
   "metadata": {
    "collapsed": true
   },
   "outputs": [],
   "source": [
    "from openreview import *\n",
    "import re"
   ]
  },
  {
   "cell_type": "code",
   "execution_count": 15,
   "metadata": {
    "collapsed": true
   },
   "outputs": [],
   "source": [
    "openreview = Client(baseurl='http://104.155.136.4:3005')"
   ]
  },
  {
   "cell_type": "code",
   "execution_count": 3,
   "metadata": {
    "collapsed": false
   },
   "outputs": [
    {
     "name": "stdout",
     "output_type": "stream",
     "text": [
      "Updating:  ICLR.cc/2017/conference/-/paper1/public/comment\n",
      "Updating:  ICLR.cc/2017/conference/-/paper12/public/comment\n",
      "Updating:  ICLR.cc/2017/conference/-/paper14/public/comment\n",
      "Updating:  ICLR.cc/2017/conference/-/paper15/public/comment\n",
      "Updating:  ICLR.cc/2017/conference/-/paper16/public/comment\n",
      "Updating:  ICLR.cc/2017/conference/-/paper17/public/comment\n",
      "Updating:  ICLR.cc/2017/conference/-/paper18/public/comment\n",
      "Updating:  ICLR.cc/2017/conference/-/paper19/public/comment\n",
      "Updating:  ICLR.cc/2017/conference/-/paper2/public/comment\n",
      "Updating:  ICLR.cc/2017/conference/-/paper20/public/comment\n",
      "Updating:  ICLR.cc/2017/conference/-/paper21/public/comment\n",
      "Updating:  ICLR.cc/2017/conference/-/paper23/public/comment\n",
      "Updating:  ICLR.cc/2017/conference/-/paper24/public/comment\n",
      "Updating:  ICLR.cc/2017/conference/-/paper25/public/comment\n",
      "Updating:  ICLR.cc/2017/conference/-/paper27/public/comment\n",
      "Updating:  ICLR.cc/2017/conference/-/paper28/public/comment\n",
      "Updating:  ICLR.cc/2017/conference/-/paper3/public/comment\n",
      "Updating:  ICLR.cc/2017/conference/-/paper4/public/comment\n",
      "Updating:  ICLR.cc/2017/conference/-/paper49/public/comment\n",
      "Updating:  ICLR.cc/2017/conference/-/paper5/public/comment\n",
      "Updating:  ICLR.cc/2017/conference/-/paper50/public/comment\n",
      "Updating:  ICLR.cc/2017/conference/-/paper51/public/comment\n",
      "Updating:  ICLR.cc/2017/conference/-/paper52/public/comment\n",
      "Updating:  ICLR.cc/2017/conference/-/paper53/public/comment\n",
      "Updating:  ICLR.cc/2017/conference/-/paper54/public/comment\n",
      "Updating:  ICLR.cc/2017/conference/-/paper55/public/comment\n",
      "Updating:  ICLR.cc/2017/conference/-/paper56/public/comment\n",
      "Updating:  ICLR.cc/2017/conference/-/paper57/public/comment\n",
      "Updating:  ICLR.cc/2017/conference/-/paper58/public/comment\n",
      "Updating:  ICLR.cc/2017/conference/-/paper59/public/comment\n",
      "Updating:  ICLR.cc/2017/conference/-/paper60/public/comment\n",
      "Updating:  ICLR.cc/2017/conference/-/paper61/public/comment\n",
      "Updating:  ICLR.cc/2017/conference/-/paper64/public/comment\n",
      "Updating:  ICLR.cc/2017/conference/-/paper65/public/comment\n",
      "Updating:  ICLR.cc/2017/conference/-/paper68/public/comment\n",
      "Updating:  ICLR.cc/2017/conference/-/paper69/public/comment\n",
      "Updating:  ICLR.cc/2017/conference/-/paper7/public/comment\n",
      "Updating:  ICLR.cc/2017/conference/-/paper9/public/comment\n"
     ]
    }
   ],
   "source": [
    "invitations = openreview.get_invitations()\n",
    "with open('iclr2017/process/commentProcess.js') as f:\n",
    "    process = f.read()\n",
    "    for i in invitations:\n",
    "        result = re.match('ICLR.cc/2017/conference/-/paper.*/public/comment', i.id)\n",
    "        if result:\n",
    "            i.process = process\n",
    "            openreview.post_invitation(i)\n",
    "            print 'Updating: ', i.id"
   ]
  },
  {
   "cell_type": "code",
   "execution_count": 17,
   "metadata": {
    "collapsed": false
   },
   "outputs": [],
   "source": [
    "invitation = openreview.get_invitation('NIPS.cc/2016/Deep_Learning_Symposium/-/recommendation')\n",
    "with open('nips2016_DLSymposium/process/recommendationProcess_nips_symposium2016.js') as f:\n",
    "    process = f.read()\n",
    "    invitation.process = process\n",
    "    openreview.post_invitation(invitation)"
   ]
  },
  {
   "cell_type": "code",
   "execution_count": 18,
   "metadata": {
    "collapsed": false
   },
   "outputs": [
    {
     "name": "stdout",
     "output_type": "stream",
     "text": [
      "Updating:  NIPS.cc/2016/Deep_Learning_Symposium/-/paper/1/comment\n",
      "Updating:  NIPS.cc/2016/Deep_Learning_Symposium/-/paper/10/comment\n",
      "Updating:  NIPS.cc/2016/Deep_Learning_Symposium/-/paper/11/comment\n",
      "Updating:  NIPS.cc/2016/Deep_Learning_Symposium/-/paper/12/comment\n",
      "Updating:  NIPS.cc/2016/Deep_Learning_Symposium/-/paper/13/comment\n",
      "Updating:  NIPS.cc/2016/Deep_Learning_Symposium/-/paper/14/comment\n",
      "Updating:  NIPS.cc/2016/Deep_Learning_Symposium/-/paper/15/comment\n",
      "Updating:  NIPS.cc/2016/Deep_Learning_Symposium/-/paper/16/comment\n",
      "Updating:  NIPS.cc/2016/Deep_Learning_Symposium/-/paper/17/comment\n",
      "Updating:  NIPS.cc/2016/Deep_Learning_Symposium/-/paper/18/comment\n",
      "Updating:  NIPS.cc/2016/Deep_Learning_Symposium/-/paper/19/comment\n",
      "Updating:  NIPS.cc/2016/Deep_Learning_Symposium/-/paper/2/comment\n",
      "Updating:  NIPS.cc/2016/Deep_Learning_Symposium/-/paper/20/comment\n",
      "Updating:  NIPS.cc/2016/Deep_Learning_Symposium/-/paper/21/comment\n",
      "Updating:  NIPS.cc/2016/Deep_Learning_Symposium/-/paper/22/comment\n",
      "Updating:  NIPS.cc/2016/Deep_Learning_Symposium/-/paper/23/comment\n",
      "Updating:  NIPS.cc/2016/Deep_Learning_Symposium/-/paper/24/comment\n",
      "Updating:  NIPS.cc/2016/Deep_Learning_Symposium/-/paper/25/comment\n",
      "Updating:  NIPS.cc/2016/Deep_Learning_Symposium/-/paper/26/comment\n",
      "Updating:  NIPS.cc/2016/Deep_Learning_Symposium/-/paper/27/comment\n",
      "Updating:  NIPS.cc/2016/Deep_Learning_Symposium/-/paper/28/comment\n",
      "Updating:  NIPS.cc/2016/Deep_Learning_Symposium/-/paper/29/comment\n",
      "Updating:  NIPS.cc/2016/Deep_Learning_Symposium/-/paper/3/comment\n",
      "Updating:  NIPS.cc/2016/Deep_Learning_Symposium/-/paper/30/comment\n",
      "Updating:  NIPS.cc/2016/Deep_Learning_Symposium/-/paper/31/comment\n",
      "Updating:  NIPS.cc/2016/Deep_Learning_Symposium/-/paper/32/comment\n",
      "Updating:  NIPS.cc/2016/Deep_Learning_Symposium/-/paper/33/comment\n",
      "Updating:  NIPS.cc/2016/Deep_Learning_Symposium/-/paper/34/comment\n",
      "Updating:  NIPS.cc/2016/Deep_Learning_Symposium/-/paper/35/comment\n",
      "Updating:  NIPS.cc/2016/Deep_Learning_Symposium/-/paper/36/comment\n",
      "Updating:  NIPS.cc/2016/Deep_Learning_Symposium/-/paper/37/comment\n",
      "Updating:  NIPS.cc/2016/Deep_Learning_Symposium/-/paper/38/comment\n",
      "Updating:  NIPS.cc/2016/Deep_Learning_Symposium/-/paper/39/comment\n",
      "Updating:  NIPS.cc/2016/Deep_Learning_Symposium/-/paper/4/comment\n",
      "Updating:  NIPS.cc/2016/Deep_Learning_Symposium/-/paper/40/comment\n",
      "Updating:  NIPS.cc/2016/Deep_Learning_Symposium/-/paper/41/comment\n",
      "Updating:  NIPS.cc/2016/Deep_Learning_Symposium/-/paper/42/comment\n",
      "Updating:  NIPS.cc/2016/Deep_Learning_Symposium/-/paper/43/comment\n",
      "Updating:  NIPS.cc/2016/Deep_Learning_Symposium/-/paper/44/comment\n",
      "Updating:  NIPS.cc/2016/Deep_Learning_Symposium/-/paper/45/comment\n",
      "Updating:  NIPS.cc/2016/Deep_Learning_Symposium/-/paper/46/comment\n",
      "Updating:  NIPS.cc/2016/Deep_Learning_Symposium/-/paper/47/comment\n",
      "Updating:  NIPS.cc/2016/Deep_Learning_Symposium/-/paper/48/comment\n",
      "Updating:  NIPS.cc/2016/Deep_Learning_Symposium/-/paper/49/comment\n",
      "Updating:  NIPS.cc/2016/Deep_Learning_Symposium/-/paper/5/comment\n",
      "Updating:  NIPS.cc/2016/Deep_Learning_Symposium/-/paper/50/comment\n",
      "Updating:  NIPS.cc/2016/Deep_Learning_Symposium/-/paper/51/comment\n",
      "Updating:  NIPS.cc/2016/Deep_Learning_Symposium/-/paper/52/comment\n",
      "Updating:  NIPS.cc/2016/Deep_Learning_Symposium/-/paper/53/comment\n",
      "Updating:  NIPS.cc/2016/Deep_Learning_Symposium/-/paper/54/comment\n",
      "Updating:  NIPS.cc/2016/Deep_Learning_Symposium/-/paper/55/comment\n",
      "Updating:  NIPS.cc/2016/Deep_Learning_Symposium/-/paper/56/comment\n",
      "Updating:  NIPS.cc/2016/Deep_Learning_Symposium/-/paper/57/comment\n",
      "Updating:  NIPS.cc/2016/Deep_Learning_Symposium/-/paper/58/comment\n",
      "Updating:  NIPS.cc/2016/Deep_Learning_Symposium/-/paper/59/comment\n",
      "Updating:  NIPS.cc/2016/Deep_Learning_Symposium/-/paper/6/comment\n",
      "Updating:  NIPS.cc/2016/Deep_Learning_Symposium/-/paper/60/comment\n",
      "Updating:  NIPS.cc/2016/Deep_Learning_Symposium/-/paper/61/comment\n",
      "Updating:  NIPS.cc/2016/Deep_Learning_Symposium/-/paper/62/comment\n",
      "Updating:  NIPS.cc/2016/Deep_Learning_Symposium/-/paper/63/comment\n",
      "Updating:  NIPS.cc/2016/Deep_Learning_Symposium/-/paper/64/comment\n",
      "Updating:  NIPS.cc/2016/Deep_Learning_Symposium/-/paper/67/comment\n",
      "Updating:  NIPS.cc/2016/Deep_Learning_Symposium/-/paper/7/comment\n",
      "Updating:  NIPS.cc/2016/Deep_Learning_Symposium/-/paper/8/comment\n",
      "Updating:  NIPS.cc/2016/Deep_Learning_Symposium/-/paper/9/comment\n"
     ]
    }
   ],
   "source": [
    "invitations = openreview.get_invitations()\n",
    "with open('nips2016_DLSymposium/process/commentProcess.js') as f:\n",
    "    process = f.read()\n",
    "    for i in invitations:\n",
    "        result = re.match('NIPS.cc/2016/Deep_Learning_Symposium/-/paper/.*/comment', i.id)\n",
    "        if result:\n",
    "            i.process = process\n",
    "            openreview.post_invitation(i)\n",
    "            print 'Updating: ', i.id"
   ]
  },
  {
   "cell_type": "code",
   "execution_count": 20,
   "metadata": {
    "collapsed": false
   },
   "outputs": [],
   "source": [
    "invitation = openreview.get_invitation('ECCV2016.org/BNMW/-/submission')\n",
    "with open('eccv2016/process/bnmwProcess.js') as f:\n",
    "    process = f.read()\n",
    "    invitation.process = process\n",
    "    openreview.post_invitation(invitation)"
   ]
  },
  {
   "cell_type": "code",
   "execution_count": 21,
   "metadata": {
    "collapsed": false
   },
   "outputs": [
    {
     "name": "stdout",
     "output_type": "stream",
     "text": [
      "Updating:  ECCV2016.org/BNMW/paper/-/0/comment\n",
      "Updating:  ECCV2016.org/BNMW/paper/-/1/comment\n",
      "Updating:  ECCV2016.org/BNMW/paper/-/13/comment\n",
      "Updating:  ECCV2016.org/BNMW/paper/-/15/comment\n",
      "Updating:  ECCV2016.org/BNMW/paper/-/17/comment\n",
      "Updating:  ECCV2016.org/BNMW/paper/-/20/comment\n",
      "Updating:  ECCV2016.org/BNMW/paper/-/22/comment\n",
      "Updating:  ECCV2016.org/BNMW/paper/-/24/comment\n",
      "Updating:  ECCV2016.org/BNMW/paper/-/25/comment\n",
      "Updating:  ECCV2016.org/BNMW/paper/-/27/comment\n",
      "Updating:  ECCV2016.org/BNMW/paper/-/28/comment\n",
      "Updating:  ECCV2016.org/BNMW/paper/-/3/comment\n",
      "Updating:  ECCV2016.org/BNMW/paper/-/31/comment\n",
      "Updating:  ECCV2016.org/BNMW/paper/-/32/comment\n",
      "Updating:  ECCV2016.org/BNMW/paper/-/33/comment\n",
      "Updating:  ECCV2016.org/BNMW/paper/-/36/comment\n",
      "Updating:  ECCV2016.org/BNMW/paper/-/42/comment\n",
      "Updating:  ECCV2016.org/BNMW/paper/-/48/comment\n",
      "Updating:  ECCV2016.org/BNMW/paper/-/5/comment\n",
      "Updating:  ECCV2016.org/BNMW/paper/-/7/comment\n",
      "Updating:  ECCV2016.org/BNMW/paper/-/8/comment\n"
     ]
    }
   ],
   "source": [
    "invitations = openreview.get_invitations()\n",
    "with open('eccv2016/process/commentProcess.js') as f:\n",
    "    process = f.read()\n",
    "    for i in invitations:\n",
    "        result = re.match('ECCV2016.org/BNMW/paper/-/.*/comment', i.id)\n",
    "        if result:\n",
    "            i.process = process\n",
    "            openreview.post_invitation(i)\n",
    "            print 'Updating: ', i.id"
   ]
  },
  {
   "cell_type": "code",
   "execution_count": 22,
   "metadata": {
    "collapsed": false
   },
   "outputs": [
    {
     "name": "stdout",
     "output_type": "stream",
     "text": [
      "Updating:  ECCV2016.org/BNMW/paper/-/open/review/0\n",
      "Updating:  ECCV2016.org/BNMW/paper/-/open/review/1\n",
      "Updating:  ECCV2016.org/BNMW/paper/-/open/review/13\n",
      "Updating:  ECCV2016.org/BNMW/paper/-/open/review/15\n",
      "Updating:  ECCV2016.org/BNMW/paper/-/open/review/17\n",
      "Updating:  ECCV2016.org/BNMW/paper/-/open/review/20\n",
      "Updating:  ECCV2016.org/BNMW/paper/-/open/review/22\n",
      "Updating:  ECCV2016.org/BNMW/paper/-/open/review/24\n",
      "Updating:  ECCV2016.org/BNMW/paper/-/open/review/25\n",
      "Updating:  ECCV2016.org/BNMW/paper/-/open/review/27\n",
      "Updating:  ECCV2016.org/BNMW/paper/-/open/review/28\n",
      "Updating:  ECCV2016.org/BNMW/paper/-/open/review/3\n",
      "Updating:  ECCV2016.org/BNMW/paper/-/open/review/31\n",
      "Updating:  ECCV2016.org/BNMW/paper/-/open/review/32\n",
      "Updating:  ECCV2016.org/BNMW/paper/-/open/review/33\n",
      "Updating:  ECCV2016.org/BNMW/paper/-/open/review/36\n",
      "Updating:  ECCV2016.org/BNMW/paper/-/open/review/42\n",
      "Updating:  ECCV2016.org/BNMW/paper/-/open/review/48\n",
      "Updating:  ECCV2016.org/BNMW/paper/-/open/review/5\n",
      "Updating:  ECCV2016.org/BNMW/paper/-/open/review/7\n",
      "Updating:  ECCV2016.org/BNMW/paper/-/open/review/8\n",
      "Updating:  ECCV2016.org/BNMW/paper/-/open/review/nxAQDl0YzT7lP3z2iovp\n"
     ]
    }
   ],
   "source": [
    "invitations = openreview.get_invitations()\n",
    "with open('eccv2016/process/reviewProcess.js') as f:\n",
    "    process = f.read()\n",
    "    for i in invitations:\n",
    "        result = re.match('ECCV2016.org/BNMW/paper/-/open/review/.*', i.id)\n",
    "        if result:\n",
    "            i.process = process\n",
    "            openreview.post_invitation(i)\n",
    "            print 'Updating: ', i.id"
   ]
  },
  {
   "cell_type": "code",
   "execution_count": 23,
   "metadata": {
    "collapsed": true
   },
   "outputs": [],
   "source": [
    "invitation = openreview.get_invitation('NIPS.cc/2016/workshop/MLITS/-/submission')\n",
    "with open('nips2016_MLITS/process/MLITSProcess.js') as f:\n",
    "    process = f.read()\n",
    "    invitation.process = process\n",
    "    openreview.post_invitation(invitation)"
   ]
  },
  {
   "cell_type": "code",
   "execution_count": null,
   "metadata": {
    "collapsed": true
   },
   "outputs": [],
   "source": []
  }
 ],
 "metadata": {
  "kernelspec": {
   "display_name": "Python 2",
   "language": "python",
   "name": "python2"
  },
  "language_info": {
   "codemirror_mode": {
    "name": "ipython",
    "version": 2
   },
   "file_extension": ".py",
   "mimetype": "text/x-python",
   "name": "python",
   "nbconvert_exporter": "python",
   "pygments_lexer": "ipython2",
   "version": "2.7.12"
  }
 },
 "nbformat": 4,
 "nbformat_minor": 0
}
