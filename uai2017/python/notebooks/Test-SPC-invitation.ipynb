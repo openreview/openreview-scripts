{
 "cells": [
  {
   "cell_type": "code",
   "execution_count": null,
   "metadata": {
    "collapsed": false
   },
   "outputs": [],
   "source": [
    "import openreview\n",
    "client = openreview.Client(username=\"OpenReview.net\",password=\"OpenReview_beta\",baseurl=\"http://localhost:3000\")"
   ]
  },
  {
   "cell_type": "code",
   "execution_count": null,
   "metadata": {
    "collapsed": false
   },
   "outputs": [],
   "source": [
    "programchairs = client.get_group(\"UAI.org/2017/conference/Program_Chairs\")\n",
    "client.add_members_to_group(programchairs,'~Michael_Spector1')"
   ]
  },
  {
   "cell_type": "code",
   "execution_count": null,
   "metadata": {
    "collapsed": false
   },
   "outputs": [],
   "source": [
    "# check the groups\n",
    "spc = client.get_group(\"UAI.org/2017/conference/Sr_Program_Committee\")\n",
    "spc_invited = client.get_group(\"UAI.org/2017/conference/Sr_Program_Committee/invited\")\n",
    "spc_emailed = client.get_group(\"UAI.org/2017/conference/Sr_Program_Committee/emailed\")\n",
    "spc_declined = client.get_group(\"UAI.org/2017/conference/Sr_Program_Committee/declined\")\n",
    "\n",
    "print \"current spc:\",spc.members\n",
    "print \"current invited:\",spc_invited.members\n",
    "print \"current emailed:\",spc_emailed.members\n",
    "print \"current declined:\",spc_declined.members"
   ]
  },
  {
   "cell_type": "code",
   "execution_count": null,
   "metadata": {
    "collapsed": false
   },
   "outputs": [],
   "source": [
    "# invite a test SPC member\n",
    "testmembers = ['~Michael_Spector1',\"~Melisa_TestBok1\"]\n",
    "\n",
    "client.add_members_to_group(spc_invited,testmembers)\n",
    "spc_invited = client.get_group('UAI.org/2017/conference/Sr_Program_Committee/invited')\n",
    "\n",
    "print \"Members to invite to the Sr Program Committee:\",spc_invited.members"
   ]
  },
  {
   "cell_type": "code",
   "execution_count": null,
   "metadata": {
    "collapsed": false
   },
   "outputs": [],
   "source": [
    "%run ../invite-spc.py --baseurl http://localhost:3000 --username OpenReview.net --password OpenReview_beta"
   ]
  },
  {
   "cell_type": "code",
   "execution_count": null,
   "metadata": {
    "collapsed": false
   },
   "outputs": [],
   "source": [
    "# check the groups\n",
    "spc = client.get_group(\"UAI.org/2017/conference/Sr_Program_Committee\")\n",
    "spc_invited = client.get_group(\"UAI.org/2017/conference/Sr_Program_Committee/invited\")\n",
    "spc_emailed = client.get_group(\"UAI.org/2017/conference/Sr_Program_Committee/emailed\")\n",
    "spc_declined = client.get_group(\"UAI.org/2017/conference/Sr_Program_Committee/declined\")\n",
    "\n",
    "print \"current spc:\",spc.members\n",
    "print \"current invited:\",spc_invited.members\n",
    "print \"current emailed:\",spc_emailed.members\n",
    "print \"current declined:\",spc_declined.members"
   ]
  },
  {
   "cell_type": "code",
   "execution_count": null,
   "metadata": {
    "collapsed": false
   },
   "outputs": [],
   "source": [
    "# clear the groups\n",
    "spc = client.get_group(\"UAI.org/2017/conference/Sr_Program_Committee\")\n",
    "spc_emailed = client.get_group(\"UAI.org/2017/conference/Sr_Program_Committee/emailed\")\n",
    "spc_declined = client.get_group(\"UAI.org/2017/conference/Sr_Program_Committee/declined\")\n",
    "spc_invited = client.get_group(\"UAI.org/2017/conference/Sr_Program_Committee/invited\")\n",
    "client.remove_members_from_group(spc,spc.members)\n",
    "client.remove_members_from_group(spc_emailed,spc_emailed.members)\n",
    "client.remove_members_from_group(spc_declined,spc_declined.members)\n",
    "client.remove_members_from_group(spc_invited,spc_invited.members)"
   ]
  },
  {
   "cell_type": "code",
   "execution_count": null,
   "metadata": {
    "collapsed": false
   },
   "outputs": [],
   "source": [
    "[{u'path2': u'invitation.reply.readers', u'path': u'readers', u'type': u'notMatch', u'value2': {u'values': [u'UAI.org/2017/conference/ProgramChairs']}, u'value': u'UAI.org/2017/conference/ProgramChairs'}, {u'path2': u'invitation.reply.signatures', u'path': u'signatures', u'type': u'notMatch', u'value2': {u'values': [u'OpenReview.net']}, u'value': u'OpenReview.net'}, {u'path2': u'invitation.reply.writers', u'path': u'writers', u'type': u'notMatch', u'value2': {u'values': [u'OpenReview.net']}, u'value': u'OpenReview.net'}]"
   ]
  },
  {
   "cell_type": "code",
   "execution_count": null,
   "metadata": {
    "collapsed": true
   },
   "outputs": [],
   "source": []
  }
 ],
 "metadata": {
  "kernelspec": {
   "display_name": "Python (openreview)",
   "language": "python",
   "name": "openreview"
  },
  "language_info": {
   "codemirror_mode": {
    "name": "ipython",
    "version": 2
   },
   "file_extension": ".py",
   "mimetype": "text/x-python",
   "name": "python",
   "nbconvert_exporter": "python",
   "pygments_lexer": "ipython2",
   "version": "2.7.12"
  }
 },
 "nbformat": 4,
 "nbformat_minor": 0
}
