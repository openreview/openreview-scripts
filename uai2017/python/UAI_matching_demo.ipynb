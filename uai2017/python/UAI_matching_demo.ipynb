{
 "cells": [
  {
   "cell_type": "code",
   "execution_count": 8,
   "metadata": {
    "collapsed": false
   },
   "outputs": [
    {
     "name": "stdout",
     "output_type": "stream",
     "text": [
      "Posting group:  auai.org\n",
      "Posting group:  auai.org/UAI\n",
      "Posting group:  auai.org/UAI/2017\n",
      "Posting group:  auai.org/UAI/2017/Program_Co-Chairs\n",
      "Posting group:  auai.org/UAI/2017/Senior_Program_Committee\n",
      "Posting group:  auai.org/UAI/2017/Senior_Program_Committee/invited\n",
      "Posting group:  auai.org/UAI/2017/Senior_Program_Committee/declined\n",
      "Posting group:  auai.org/UAI/2017/Senior_Program_Committee/emailed\n",
      "Posting group:  auai.org/UAI/2017/Senior_Program_Committee/reminded\n",
      "Posting group:  auai.org/UAI/2017/Program_Committee\n",
      "Posting group:  auai.org/UAI/2017/Program_Committee/invited\n",
      "Posting group:  auai.org/UAI/2017/Program_Committee/declined\n",
      "Posting invitation: auai.org/UAI/2017/-/submission\n",
      "Posting invitation: auai.org/UAI/2017/-/blind-submission\n",
      "Posting invitation: auai.org/UAI/2017/-/spc_invitation\n",
      "Posting invitation: auai.org/UAI/2017/-/spc_registration\n",
      "Posting invitation: auai.org/UAI/2017/-/Paper/Metadata\n",
      "Posting invitation: auai.org/UAI/2017/-/Reviewer/Metadata\n"
     ]
    }
   ],
   "source": [
    "%run superuser-init.py --overwrite true"
   ]
  },
  {
   "cell_type": "markdown",
   "metadata": {},
   "source": [
    "## Set up instance"
   ]
  },
  {
   "cell_type": "code",
   "execution_count": 1,
   "metadata": {
    "collapsed": false
   },
   "outputs": [],
   "source": [
    "import openreview\n",
    "import csv\n",
    "import re\n",
    "import requests\n",
    "from collections import defaultdict\n",
    "\n",
    "client = openreview.Client(username=\"OpenReview.net\",password=\"OpenReview_beta\",baseurl=\"http://localhost:3000\")\n",
    "\n",
    "def assign_reviewer(reviewer,paper_number,submissions):\n",
    "    notes = [note for note in submissions if str(note.number)==str(paper_number)]\n",
    "    \n",
    "    valid_email = re.compile('^[^@\\s,]+@[^@\\s,]+\\.[^@\\s,]+$')\n",
    "    valid_tilde = re.compile('~.+')\n",
    "    reviewer_group = None\n",
    "    if not notes:\n",
    "        print \"Paper number \" + paper_number + \" does not exist\"\n",
    "    elif not valid_email.match(reviewer) and not valid_tilde.match(reviewer):\n",
    "        print \"Program Committee Member \\\"\"+reviewer+\"\\\" invalid. Please check for typos and whitespace.\"\n",
    "    else:\n",
    "        #need to incorporate conflicts. get them from public profile? confirm this with UAI documentation\n",
    "        reviewer_group = get_reviewer_group(reviewer, paper_number, [])\n",
    "    return reviewer_group\n",
    "\n",
    "def get_reviewer_group(reviewer, paper_number, conflict_list):\n",
    "\n",
    "    reviewers = client.get_group('auai.org/UAI/2017/Paper'+paper_number+'/Reviewers')\n",
    "    nonreaders_reviewers = client.get_group('auai.org/UAI/2017/Paper'+paper_number+'/Reviewers/NonReaders')\n",
    "    existing_reviewers = reviewers.members\n",
    "\n",
    "    conference_reviewers = client.get_group(PC)\n",
    "    if not (reviewer in conference_reviewers.members):\n",
    "        client.add_members_to_group(conference_reviewers,reviewer)\n",
    "\n",
    "    next_reviewer = get_next_reviewer_id(reviewer, paper_number)\n",
    "\n",
    "    new_reviewer_id = 'auai.org/UAI/2017/Paper' + str(paper_number) + '/' + next_reviewer\n",
    "    new_reviewer = create_reviewer_group(new_reviewer_id, reviewer, paper_number, conflict_list)\n",
    "\n",
    "    client.add_members_to_group(reviewers,[reviewer])\n",
    "    client.add_members_to_group(nonreaders_reviewers,[new_reviewer.id])\n",
    "    \n",
    "    return new_reviewer\n",
    "\n",
    "\n",
    "def get_next_reviewer_id(reviewer, paper_number):\n",
    "\n",
    "    headers = {\n",
    "    'User-Agent': 'test-create-script',\n",
    "    'Content-Type': 'application/json',\n",
    "    'Authorization': 'Bearer ' + client.token\n",
    "    }\n",
    "\n",
    "    response = requests.get(client.baseurl + '/groups?id=auai.org/UAI/2017/Paper' + paper_number + '/AnonReviewer.*', headers=headers)\n",
    "    reviewers = response.json()\n",
    "\n",
    "    if reviewers:\n",
    "        numbers = []\n",
    "        for existing_reviewer in reviewers:\n",
    "\n",
    "            if reviewer in existing_reviewer['members']:\n",
    "                print \"reviewer \" + reviewer + \" found in \" + existing_reviewer['id']\n",
    "                return None\n",
    "            numbers.append(int(existing_reviewer['id'].split('AnonReviewer')[1]))\n",
    "\n",
    "        return \"AnonReviewer\" + str(max(numbers) + 1)\n",
    "\n",
    "    else:\n",
    "        return \"AnonReviewer1\"\n",
    "\n",
    "\n",
    "\n",
    "\n",
    "def create_reviewer_group(new_reviewer_id, reviewer, paper_number, conflict_list):\n",
    "    new_reviewer = openreview.Group(\n",
    "        new_reviewer_id,\n",
    "        signatures=['auai.org/UAI/2017'],\n",
    "        writers=['auai.org/UAI/2017'],\n",
    "        members=[reviewer],\n",
    "        readers=['auai.org/UAI/2017', COCHAIRS, SPC, PC],\n",
    "        nonreaders=conflict_list,\n",
    "        signatories=[new_reviewer_id])\n",
    "    client.post_group(new_reviewer)\n",
    "    return new_reviewer"
   ]
  },
  {
   "cell_type": "markdown",
   "metadata": {},
   "source": [
    "### Generate dummy reviewers"
   ]
  },
  {
   "cell_type": "code",
   "execution_count": null,
   "metadata": {
    "collapsed": false
   },
   "outputs": [],
   "source": [
    "last = 'Reviewer'\n",
    "password = '1234'\n",
    "\n",
    "users = []\n",
    "for first in ['Red', 'Orange', 'Yellow', 'Green', 'Blue', 'Indigo', 'Violet']:\n",
    "    print first+\" Reviewer\"\n",
    "    email = ('%sreviewer@gmail.com' % first.lower())\n",
    "    users.append(client.create_dummy(email=email,first=first,last=last,password=password,secure_activation=False))\n",
    "\n",
    "reviewers = [u['user']['profile']['id'] for u in users]"
   ]
  },
  {
   "cell_type": "markdown",
   "metadata": {},
   "source": [
    "### Generate fake paper submissions"
   ]
  },
  {
   "cell_type": "code",
   "execution_count": null,
   "metadata": {
    "collapsed": false
   },
   "outputs": [],
   "source": [
    "#modify the submission invitation so that we can make easy test notes\n",
    "uaisub = client.get_invitation('auai.org/UAI/2017/-/submission')\n",
    "uaisub.reply['content']= {\n",
    "    u'title': {\n",
    "        u'description': u'Title of paper.',\n",
    "        u'order': 1,\n",
    "        u'required': True,\n",
    "        u'value-regex': u'.{1,250}'\n",
    "    }\n",
    "}\n",
    "client.post_invitation(uaisub)\n",
    "\n",
    "#Create three sample notes\n",
    "sample_papers = [None]*7\n",
    "sample_papers[0] = openreview.Note(invitation='auai.org/UAI/2017/-/submission',\n",
    "                                content={'title':'Red Paper'},\n",
    "                                readers=[u'auai.org/UAI/2017/Program_Co-Chairs'],\n",
    "                                signatures=['~Michael_Spector1'],\n",
    "                                writers=['~Michael_Spector1']\n",
    "                              )\n",
    "sample_papers[1] = openreview.Note(invitation='auai.org/UAI/2017/-/submission',\n",
    "                                content={'title':'Orange Paper'},\n",
    "                                readers=[u'auai.org/UAI/2017/Program_Co-Chairs'],\n",
    "                                signatures=['~Michael_Spector1'],\n",
    "                                writers=['~Michael_Spector1']\n",
    "                              )\n",
    "sample_papers[2] = openreview.Note(invitation='auai.org/UAI/2017/-/submission',\n",
    "                                content={'title':'Yellow Paper'},\n",
    "                                readers=[u'auai.org/UAI/2017/Program_Co-Chairs'],\n",
    "                                signatures=['~Michael_Spector1'],\n",
    "                                writers=['~Michael_Spector1']\n",
    "                              )\n",
    "sample_papers[3] = openreview.Note(invitation='auai.org/UAI/2017/-/submission',\n",
    "                                content={'title':'Green Paper'},\n",
    "                                readers=[u'auai.org/UAI/2017/Program_Co-Chairs'],\n",
    "                                signatures=['~Michael_Spector1'],\n",
    "                                writers=['~Michael_Spector1']\n",
    "                              )\n",
    "sample_papers[4] = openreview.Note(invitation='auai.org/UAI/2017/-/submission',\n",
    "                                content={'title':'Blue Paper'},\n",
    "                                readers=[u'auai.org/UAI/2017/Program_Co-Chairs'],\n",
    "                                signatures=['~Michael_Spector1'],\n",
    "                                writers=['~Michael_Spector1']\n",
    "                              )\n",
    "sample_papers[5] = openreview.Note(invitation='auai.org/UAI/2017/-/submission',\n",
    "                                content={'title':'Indigo Paper'},\n",
    "                                readers=[u'auai.org/UAI/2017/Program_Co-Chairs'],\n",
    "                                signatures=['~Michael_Spector1'],\n",
    "                                writers=['~Michael_Spector1']\n",
    "                              )\n",
    "sample_papers[6] = openreview.Note(invitation='auai.org/UAI/2017/-/submission',\n",
    "                                content={'title':'Violet Paper'},\n",
    "                                readers=[u'auai.org/UAI/2017/Program_Co-Chairs'],\n",
    "                                signatures=['~Michael_Spector1'],\n",
    "                                writers=['~Michael_Spector1']\n",
    "                              )\n",
    "\n",
    "for note in sample_papers:\n",
    "    print note.content['title']\n",
    "    posted_note = client.post_note(note) "
   ]
  },
  {
   "cell_type": "code",
   "execution_count": null,
   "metadata": {
    "collapsed": false
   },
   "outputs": [],
   "source": [
    "program_committee = client.get_group('auai.org/UAI/2017/Program_Committee')\n",
    "program_committee.members = reviewers\n",
    "client.post_group(program_committee)\n",
    "print \"added reviewers to Program Committee\""
   ]
  },
  {
   "cell_type": "markdown",
   "metadata": {},
   "source": [
    "## Matching Demo"
   ]
  },
  {
   "cell_type": "code",
   "execution_count": 2,
   "metadata": {
    "collapsed": false
   },
   "outputs": [],
   "source": [
    "blind_submissions = client.get_notes(invitation='auai.org/UAI/2017/-/blind-submission')\n",
    "titlesdict = {note.forum: note.content['title'] for note in blind_submissions}"
   ]
  },
  {
   "cell_type": "code",
   "execution_count": null,
   "metadata": {
    "collapsed": false
   },
   "outputs": [],
   "source": [
    "#Current schema\n",
    "%run populate_papers_data.py --betas ../data/paper-betas.xml --reviewerscores ../data/paper-reviewer-scores.xml --paperscores ../data/paper-paper-scores.xml\n",
    "%run populate_reviewer_data.py --alphas ../data/reviewer-alphas.xml --reviewerscores ../data/reviewer-reviewer-scores.xml --bidscores ../data/bids-by-reviewers.xml"
   ]
  },
  {
   "cell_type": "code",
   "execution_count": 3,
   "metadata": {
    "collapsed": false
   },
   "outputs": [
    {
     "name": "stdout",
     "output_type": "stream",
     "text": [
      "creating paper metadata note\n",
      "generating note S1lME6I8vg\n",
      "generating note rygZ4T8IDl\n",
      "generating note rklx4T8UDe\n",
      "generating note Hye1E68IPl\n",
      "generating note SkgCmaLUPl\n",
      "generating note ryxpmaLIwe\n",
      "generating note HygnmpLUvg\n",
      "creating reviewer metadata note\n",
      "generating note for ~Indigo_Reviewer1\n",
      "generating note for ~Green_Reviewer1\n",
      "generating note for ~Violet_Reviewer1\n",
      "generating note for ~Yellow_Reviewer1\n",
      "generating note for ~Blue_Reviewer1\n",
      "generating note for ~Red_Reviewer1\n",
      "generating note for ~Orange_Reviewer1\n"
     ]
    }
   ],
   "source": [
    "#Proposed schema\n",
    "%run populate_papers_data.py --betas ../data/paper-betas.xml --reviewerscores ../data/paper-reviewer-scores.xml --paperscores ../data/paper-paper-scores.xml --bidscores ../data/bids-by-papers.xml\n",
    "%run populate_reviewer_data.py --alphas ../data/reviewer-alphas.xml --reviewerscores ../data/reviewer-reviewer-scores.xml --titles ../data/reviewer-titles.xml"
   ]
  },
  {
   "cell_type": "code",
   "execution_count": 4,
   "metadata": {
    "collapsed": false
   },
   "outputs": [
    {
     "name": "stdout",
     "output_type": "stream",
     "text": [
      "looping over paper_metadata_notes\n",
      "Note:  <openreview.openreview.Note object at 0x107582d10>\n",
      "Reviewer_info:  {u'source': u'TPMS', u'score': 1, u'reviewer': u'~Red_Reviewer1'}\n",
      "Reviewer_info:  {u'source': u'TPMS', u'score': 0, u'reviewer': u'~Orange_Reviewer1'}\n",
      "Reviewer_info:  {u'source': u'TPMS', u'score': 0, u'reviewer': u'~Yellow_Reviewer1'}\n",
      "Reviewer_info:  {u'source': u'TPMS', u'score': 0, u'reviewer': u'~Green_Reviewer1'}\n",
      "Reviewer_info:  {u'source': u'TPMS', u'score': 0, u'reviewer': u'~Blue_Reviewer1'}\n",
      "Reviewer_info:  {u'source': u'TPMS', u'score': 0, u'reviewer': u'~Indigo_Reviewer1'}\n",
      "Reviewer_info:  {u'source': u'TPMS', u'score': 0, u'reviewer': u'~Violet_Reviewer1'}\n",
      "Reviewer_info:  {u'source': u'ReviewerBids', u'score': 1, u'reviewer': u'~Red_Reviewer1'}\n",
      "Reviewer_info:  {u'source': u'ReviewerBids', u'score': 0.75, u'reviewer': u'~Orange_Reviewer1'}\n",
      "Reviewer_info:  {u'source': u'ReviewerBids', u'score': 0, u'reviewer': u'~Yellow_Reviewer1'}\n",
      "Reviewer_info:  {u'source': u'ReviewerBids', u'score': 0, u'reviewer': u'~Green_Reviewer1'}\n",
      "Reviewer_info:  {u'source': u'ReviewerBids', u'score': 0, u'reviewer': u'~Blue_Reviewer1'}\n",
      "Reviewer_info:  {u'source': u'ReviewerBids', u'score': 0, u'reviewer': u'~Indigo_Reviewer1'}\n",
      "Reviewer_info:  {u'source': u'ReviewerBids', u'score': 0, u'reviewer': u'~Violet_Reviewer1'}\n",
      "Note:  <openreview.openreview.Note object at 0x103f124d0>\n",
      "Reviewer_info:  {u'source': u'TPMS', u'score': 0, u'reviewer': u'~Red_Reviewer1'}\n",
      "Reviewer_info:  {u'source': u'TPMS', u'score': 1, u'reviewer': u'~Orange_Reviewer1'}\n",
      "Reviewer_info:  {u'source': u'TPMS', u'score': 0, u'reviewer': u'~Yellow_Reviewer1'}\n",
      "Reviewer_info:  {u'source': u'TPMS', u'score': 0, u'reviewer': u'~Green_Reviewer1'}\n",
      "Reviewer_info:  {u'source': u'TPMS', u'score': 0, u'reviewer': u'~Blue_Reviewer1'}\n",
      "Reviewer_info:  {u'source': u'TPMS', u'score': 0, u'reviewer': u'~Indigo_Reviewer1'}\n",
      "Reviewer_info:  {u'source': u'TPMS', u'score': 0, u'reviewer': u'~Violet_Reviewer1'}\n",
      "Reviewer_info:  {u'source': u'ReviewerBids', u'score': 0.25, u'reviewer': u'~Red_Reviewer1'}\n",
      "Reviewer_info:  {u'source': u'ReviewerBids', u'score': 1, u'reviewer': u'~Orange_Reviewer1'}\n",
      "Reviewer_info:  {u'source': u'ReviewerBids', u'score': 0, u'reviewer': u'~Yellow_Reviewer1'}\n",
      "Reviewer_info:  {u'source': u'ReviewerBids', u'score': 0, u'reviewer': u'~Green_Reviewer1'}\n",
      "Reviewer_info:  {u'source': u'ReviewerBids', u'score': 0, u'reviewer': u'~Blue_Reviewer1'}\n",
      "Reviewer_info:  {u'source': u'ReviewerBids', u'score': 0, u'reviewer': u'~Indigo_Reviewer1'}\n",
      "Reviewer_info:  {u'source': u'ReviewerBids', u'score': 0, u'reviewer': u'~Violet_Reviewer1'}\n",
      "Note:  <openreview.openreview.Note object at 0x103f00cd0>\n",
      "Reviewer_info:  {u'source': u'TPMS', u'score': 0, u'reviewer': u'~Red_Reviewer1'}\n",
      "Reviewer_info:  {u'source': u'TPMS', u'score': 0, u'reviewer': u'~Orange_Reviewer1'}\n",
      "Reviewer_info:  {u'source': u'TPMS', u'score': 1, u'reviewer': u'~Yellow_Reviewer1'}\n",
      "Reviewer_info:  {u'source': u'TPMS', u'score': 0, u'reviewer': u'~Green_Reviewer1'}\n",
      "Reviewer_info:  {u'source': u'TPMS', u'score': 0, u'reviewer': u'~Blue_Reviewer1'}\n",
      "Reviewer_info:  {u'source': u'TPMS', u'score': 0, u'reviewer': u'~Indigo_Reviewer1'}\n",
      "Reviewer_info:  {u'source': u'TPMS', u'score': 0, u'reviewer': u'~Violet_Reviewer1'}\n",
      "Reviewer_info:  {u'source': u'ReviewerBids', u'score': 0, u'reviewer': u'~Red_Reviewer1'}\n",
      "Reviewer_info:  {u'source': u'ReviewerBids', u'score': 0, u'reviewer': u'~Orange_Reviewer1'}\n",
      "Reviewer_info:  {u'source': u'ReviewerBids', u'score': 1, u'reviewer': u'~Yellow_Reviewer1'}\n",
      "Reviewer_info:  {u'source': u'ReviewerBids', u'score': 0, u'reviewer': u'~Green_Reviewer1'}\n",
      "Reviewer_info:  {u'source': u'ReviewerBids', u'score': 0, u'reviewer': u'~Blue_Reviewer1'}\n",
      "Reviewer_info:  {u'source': u'ReviewerBids', u'score': 0, u'reviewer': u'~Indigo_Reviewer1'}\n",
      "Reviewer_info:  {u'source': u'ReviewerBids', u'score': 0, u'reviewer': u'~Violet_Reviewer1'}\n",
      "Note:  <openreview.openreview.Note object at 0x107598bd0>\n",
      "Reviewer_info:  {u'source': u'TPMS', u'score': 0, u'reviewer': u'~Red_Reviewer1'}\n",
      "Reviewer_info:  {u'source': u'TPMS', u'score': 0, u'reviewer': u'~Orange_Reviewer1'}\n",
      "Reviewer_info:  {u'source': u'TPMS', u'score': 0, u'reviewer': u'~Yellow_Reviewer1'}\n",
      "Reviewer_info:  {u'source': u'TPMS', u'score': 1, u'reviewer': u'~Green_Reviewer1'}\n",
      "Reviewer_info:  {u'source': u'TPMS', u'score': 0, u'reviewer': u'~Blue_Reviewer1'}\n",
      "Reviewer_info:  {u'source': u'TPMS', u'score': 0, u'reviewer': u'~Indigo_Reviewer1'}\n",
      "Reviewer_info:  {u'source': u'TPMS', u'score': 0, u'reviewer': u'~Violet_Reviewer1'}\n",
      "Reviewer_info:  {u'source': u'ReviewerBids', u'score': 0, u'reviewer': u'~Red_Reviewer1'}\n",
      "Reviewer_info:  {u'source': u'ReviewerBids', u'score': 0, u'reviewer': u'~Orange_Reviewer1'}\n",
      "Reviewer_info:  {u'source': u'ReviewerBids', u'score': 0, u'reviewer': u'~Yellow_Reviewer1'}\n",
      "Reviewer_info:  {u'source': u'ReviewerBids', u'score': 1, u'reviewer': u'~Green_Reviewer1'}\n",
      "Reviewer_info:  {u'source': u'ReviewerBids', u'score': 0, u'reviewer': u'~Blue_Reviewer1'}\n",
      "Reviewer_info:  {u'source': u'ReviewerBids', u'score': 0, u'reviewer': u'~Indigo_Reviewer1'}\n",
      "Reviewer_info:  {u'source': u'ReviewerBids', u'score': 0, u'reviewer': u'~Violet_Reviewer1'}\n",
      "Note:  <openreview.openreview.Note object at 0x107598c10>\n",
      "Reviewer_info:  {u'source': u'TPMS', u'score': 0, u'reviewer': u'~Red_Reviewer1'}\n",
      "Reviewer_info:  {u'source': u'TPMS', u'score': 0, u'reviewer': u'~Orange_Reviewer1'}\n",
      "Reviewer_info:  {u'source': u'TPMS', u'score': 0, u'reviewer': u'~Yellow_Reviewer1'}\n",
      "Reviewer_info:  {u'source': u'TPMS', u'score': 0, u'reviewer': u'~Green_Reviewer1'}\n",
      "Reviewer_info:  {u'source': u'TPMS', u'score': 1, u'reviewer': u'~Blue_Reviewer1'}\n",
      "Reviewer_info:  {u'source': u'TPMS', u'score': 0, u'reviewer': u'~Indigo_Reviewer1'}\n",
      "Reviewer_info:  {u'source': u'TPMS', u'score': 0, u'reviewer': u'~Violet_Reviewer1'}\n",
      "Reviewer_info:  {u'source': u'ReviewerBids', u'score': 0, u'reviewer': u'~Red_Reviewer1'}\n",
      "Reviewer_info:  {u'source': u'ReviewerBids', u'score': 0, u'reviewer': u'~Orange_Reviewer1'}\n",
      "Reviewer_info:  {u'source': u'ReviewerBids', u'score': 0, u'reviewer': u'~Yellow_Reviewer1'}\n",
      "Reviewer_info:  {u'source': u'ReviewerBids', u'score': 0, u'reviewer': u'~Green_Reviewer1'}\n",
      "Reviewer_info:  {u'source': u'ReviewerBids', u'score': 1, u'reviewer': u'~Blue_Reviewer1'}\n",
      "Reviewer_info:  {u'source': u'ReviewerBids', u'score': 0, u'reviewer': u'~Indigo_Reviewer1'}\n",
      "Reviewer_info:  {u'source': u'ReviewerBids', u'score': 0, u'reviewer': u'~Violet_Reviewer1'}\n",
      "Note:  <openreview.openreview.Note object at 0x107598b10>\n",
      "Reviewer_info:  {u'source': u'TPMS', u'score': 0, u'reviewer': u'~Red_Reviewer1'}\n",
      "Reviewer_info:  {u'source': u'TPMS', u'score': 0, u'reviewer': u'~Orange_Reviewer1'}\n",
      "Reviewer_info:  {u'source': u'TPMS', u'score': 0, u'reviewer': u'~Yellow_Reviewer1'}\n",
      "Reviewer_info:  {u'source': u'TPMS', u'score': 0, u'reviewer': u'~Green_Reviewer1'}\n",
      "Reviewer_info:  {u'source': u'TPMS', u'score': 0, u'reviewer': u'~Blue_Reviewer1'}\n",
      "Reviewer_info:  {u'source': u'TPMS', u'score': 1, u'reviewer': u'~Indigo_Reviewer1'}\n",
      "Reviewer_info:  {u'source': u'TPMS', u'score': 0, u'reviewer': u'~Violet_Reviewer1'}\n",
      "Reviewer_info:  {u'source': u'ReviewerBids', u'score': 0, u'reviewer': u'~Red_Reviewer1'}\n",
      "Reviewer_info:  {u'source': u'ReviewerBids', u'score': 0, u'reviewer': u'~Orange_Reviewer1'}\n",
      "Reviewer_info:  {u'source': u'ReviewerBids', u'score': 0, u'reviewer': u'~Yellow_Reviewer1'}\n",
      "Reviewer_info:  {u'source': u'ReviewerBids', u'score': 0, u'reviewer': u'~Green_Reviewer1'}\n",
      "Reviewer_info:  {u'source': u'ReviewerBids', u'score': 0, u'reviewer': u'~Blue_Reviewer1'}\n",
      "Reviewer_info:  {u'source': u'ReviewerBids', u'score': 1, u'reviewer': u'~Indigo_Reviewer1'}\n",
      "Reviewer_info:  {u'source': u'ReviewerBids', u'score': 0, u'reviewer': u'~Violet_Reviewer1'}\n",
      "Note:  <openreview.openreview.Note object at 0x107598b50>\n",
      "Reviewer_info:  {u'source': u'TPMS', u'score': 0, u'reviewer': u'~Red_Reviewer1'}\n",
      "Reviewer_info:  {u'source': u'TPMS', u'score': 0, u'reviewer': u'~Orange_Reviewer1'}\n",
      "Reviewer_info:  {u'source': u'TPMS', u'score': 0, u'reviewer': u'~Yellow_Reviewer1'}\n",
      "Reviewer_info:  {u'source': u'TPMS', u'score': 0, u'reviewer': u'~Green_Reviewer1'}\n",
      "Reviewer_info:  {u'source': u'TPMS', u'score': 0, u'reviewer': u'~Blue_Reviewer1'}\n",
      "Reviewer_info:  {u'source': u'TPMS', u'score': 0, u'reviewer': u'~Indigo_Reviewer1'}\n",
      "Reviewer_info:  {u'source': u'TPMS', u'score': 1, u'reviewer': u'~Violet_Reviewer1'}\n",
      "Reviewer_info:  {u'source': u'ReviewerBids', u'score': 0, u'reviewer': u'~Red_Reviewer1'}\n",
      "Reviewer_info:  {u'source': u'ReviewerBids', u'score': 0, u'reviewer': u'~Orange_Reviewer1'}\n",
      "Reviewer_info:  {u'source': u'ReviewerBids', u'score': 0, u'reviewer': u'~Yellow_Reviewer1'}\n",
      "Reviewer_info:  {u'source': u'ReviewerBids', u'score': 0, u'reviewer': u'~Green_Reviewer1'}\n",
      "Reviewer_info:  {u'source': u'ReviewerBids', u'score': 0, u'reviewer': u'~Blue_Reviewer1'}\n",
      "Reviewer_info:  {u'source': u'ReviewerBids', u'score': 0, u'reviewer': u'~Indigo_Reviewer1'}\n",
      "Reviewer_info:  {u'source': u'ReviewerBids', u'score': 1, u'reviewer': u'~Violet_Reviewer1'}\n",
      "Note:  <openreview.openreview.Note object at 0x107598a50>\n",
      "Reviewer_info:  {u'source': u'TPMS', u'score': 1, u'reviewer': u'~Red_Reviewer1'}\n",
      "Reviewer_info:  {u'source': u'TPMS', u'score': 0, u'reviewer': u'~Orange_Reviewer1'}\n",
      "Reviewer_info:  {u'source': u'TPMS', u'score': 0, u'reviewer': u'~Yellow_Reviewer1'}\n",
      "Reviewer_info:  {u'source': u'TPMS', u'score': 0, u'reviewer': u'~Green_Reviewer1'}\n",
      "Reviewer_info:  {u'source': u'TPMS', u'score': 0, u'reviewer': u'~Blue_Reviewer1'}\n",
      "Reviewer_info:  {u'source': u'TPMS', u'score': 0, u'reviewer': u'~Indigo_Reviewer1'}\n",
      "Reviewer_info:  {u'source': u'TPMS', u'score': 0, u'reviewer': u'~Violet_Reviewer1'}\n",
      "Reviewer_info:  {u'source': u'ReviewerBids', u'score': 1, u'reviewer': u'~Red_Reviewer1'}\n",
      "Reviewer_info:  {u'source': u'ReviewerBids', u'score': 0, u'reviewer': u'~Orange_Reviewer1'}\n",
      "Reviewer_info:  {u'source': u'ReviewerBids', u'score': 0, u'reviewer': u'~Yellow_Reviewer1'}\n",
      "Reviewer_info:  {u'source': u'ReviewerBids', u'score': 0, u'reviewer': u'~Green_Reviewer1'}\n",
      "Reviewer_info:  {u'source': u'ReviewerBids', u'score': 0, u'reviewer': u'~Blue_Reviewer1'}\n",
      "Reviewer_info:  {u'source': u'ReviewerBids', u'score': 0, u'reviewer': u'~Indigo_Reviewer1'}\n",
      "Reviewer_info:  {u'source': u'ReviewerBids', u'score': 0, u'reviewer': u'~Violet_Reviewer1'}\n",
      "Note:  <openreview.openreview.Note object at 0x107598a90>\n",
      "Reviewer_info:  {u'source': u'TPMS', u'score': 0, u'reviewer': u'~Red_Reviewer1'}\n",
      "Reviewer_info:  {u'source': u'TPMS', u'score': 1, u'reviewer': u'~Orange_Reviewer1'}\n",
      "Reviewer_info:  {u'source': u'TPMS', u'score': 0, u'reviewer': u'~Yellow_Reviewer1'}\n",
      "Reviewer_info:  {u'source': u'TPMS', u'score': 0, u'reviewer': u'~Green_Reviewer1'}\n",
      "Reviewer_info:  {u'source': u'TPMS', u'score': 0, u'reviewer': u'~Blue_Reviewer1'}\n",
      "Reviewer_info:  {u'source': u'TPMS', u'score': 0, u'reviewer': u'~Indigo_Reviewer1'}\n",
      "Reviewer_info:  {u'source': u'TPMS', u'score': 0, u'reviewer': u'~Violet_Reviewer1'}\n",
      "Reviewer_info:  {u'source': u'ReviewerBids', u'score': 0, u'reviewer': u'~Red_Reviewer1'}\n",
      "Reviewer_info:  {u'source': u'ReviewerBids', u'score': 1, u'reviewer': u'~Orange_Reviewer1'}\n",
      "Reviewer_info:  {u'source': u'ReviewerBids', u'score': 0, u'reviewer': u'~Yellow_Reviewer1'}\n",
      "Reviewer_info:  {u'source': u'ReviewerBids', u'score': 0, u'reviewer': u'~Green_Reviewer1'}\n",
      "Reviewer_info:  {u'source': u'ReviewerBids', u'score': 0, u'reviewer': u'~Blue_Reviewer1'}\n",
      "Reviewer_info:  {u'source': u'ReviewerBids', u'score': 0, u'reviewer': u'~Indigo_Reviewer1'}\n",
      "Reviewer_info:  {u'source': u'ReviewerBids', u'score': 0, u'reviewer': u'~Violet_Reviewer1'}\n",
      "Note:  <openreview.openreview.Note object at 0x107598990>\n",
      "Reviewer_info:  {u'source': u'TPMS', u'score': 0, u'reviewer': u'~Red_Reviewer1'}\n",
      "Reviewer_info:  {u'source': u'TPMS', u'score': 0, u'reviewer': u'~Orange_Reviewer1'}\n",
      "Reviewer_info:  {u'source': u'TPMS', u'score': 1, u'reviewer': u'~Yellow_Reviewer1'}\n",
      "Reviewer_info:  {u'source': u'TPMS', u'score': 0, u'reviewer': u'~Green_Reviewer1'}\n",
      "Reviewer_info:  {u'source': u'TPMS', u'score': 0, u'reviewer': u'~Blue_Reviewer1'}\n",
      "Reviewer_info:  {u'source': u'TPMS', u'score': 0, u'reviewer': u'~Indigo_Reviewer1'}\n",
      "Reviewer_info:  {u'source': u'TPMS', u'score': 0, u'reviewer': u'~Violet_Reviewer1'}\n",
      "Reviewer_info:  {u'source': u'ReviewerBids', u'score': 0, u'reviewer': u'~Red_Reviewer1'}\n",
      "Reviewer_info:  {u'source': u'ReviewerBids', u'score': 0, u'reviewer': u'~Orange_Reviewer1'}\n",
      "Reviewer_info:  {u'source': u'ReviewerBids', u'score': 1, u'reviewer': u'~Yellow_Reviewer1'}\n",
      "Reviewer_info:  {u'source': u'ReviewerBids', u'score': 0, u'reviewer': u'~Green_Reviewer1'}\n",
      "Reviewer_info:  {u'source': u'ReviewerBids', u'score': 0, u'reviewer': u'~Blue_Reviewer1'}\n",
      "Reviewer_info:  {u'source': u'ReviewerBids', u'score': 0, u'reviewer': u'~Indigo_Reviewer1'}\n",
      "Reviewer_info:  {u'source': u'ReviewerBids', u'score': 0, u'reviewer': u'~Violet_Reviewer1'}\n",
      "Note:  <openreview.openreview.Note object at 0x1075989d0>\n",
      "Reviewer_info:  {u'source': u'TPMS', u'score': 0, u'reviewer': u'~Red_Reviewer1'}\n",
      "Reviewer_info:  {u'source': u'TPMS', u'score': 0, u'reviewer': u'~Orange_Reviewer1'}\n",
      "Reviewer_info:  {u'source': u'TPMS', u'score': 0, u'reviewer': u'~Yellow_Reviewer1'}\n",
      "Reviewer_info:  {u'source': u'TPMS', u'score': 1, u'reviewer': u'~Green_Reviewer1'}\n",
      "Reviewer_info:  {u'source': u'TPMS', u'score': 0, u'reviewer': u'~Blue_Reviewer1'}\n",
      "Reviewer_info:  {u'source': u'TPMS', u'score': 0, u'reviewer': u'~Indigo_Reviewer1'}\n",
      "Reviewer_info:  {u'source': u'TPMS', u'score': 0, u'reviewer': u'~Violet_Reviewer1'}\n",
      "Reviewer_info:  {u'source': u'ReviewerBids', u'score': 0, u'reviewer': u'~Red_Reviewer1'}\n",
      "Reviewer_info:  {u'source': u'ReviewerBids', u'score': 0, u'reviewer': u'~Orange_Reviewer1'}\n",
      "Reviewer_info:  {u'source': u'ReviewerBids', u'score': 0, u'reviewer': u'~Yellow_Reviewer1'}\n",
      "Reviewer_info:  {u'source': u'ReviewerBids', u'score': 1, u'reviewer': u'~Green_Reviewer1'}\n",
      "Reviewer_info:  {u'source': u'ReviewerBids', u'score': 0, u'reviewer': u'~Blue_Reviewer1'}\n",
      "Reviewer_info:  {u'source': u'ReviewerBids', u'score': 0, u'reviewer': u'~Indigo_Reviewer1'}\n",
      "Reviewer_info:  {u'source': u'ReviewerBids', u'score': 0, u'reviewer': u'~Violet_Reviewer1'}\n",
      "Note:  <openreview.openreview.Note object at 0x107598410>\n",
      "Reviewer_info:  {u'source': u'TPMS', u'score': 0, u'reviewer': u'~Red_Reviewer1'}\n",
      "Reviewer_info:  {u'source': u'TPMS', u'score': 0, u'reviewer': u'~Orange_Reviewer1'}\n",
      "Reviewer_info:  {u'source': u'TPMS', u'score': 0, u'reviewer': u'~Yellow_Reviewer1'}\n",
      "Reviewer_info:  {u'source': u'TPMS', u'score': 0, u'reviewer': u'~Green_Reviewer1'}\n",
      "Reviewer_info:  {u'source': u'TPMS', u'score': 1, u'reviewer': u'~Blue_Reviewer1'}\n",
      "Reviewer_info:  {u'source': u'TPMS', u'score': 0, u'reviewer': u'~Indigo_Reviewer1'}\n",
      "Reviewer_info:  {u'source': u'TPMS', u'score': 0, u'reviewer': u'~Violet_Reviewer1'}\n",
      "Reviewer_info:  {u'source': u'ReviewerBids', u'score': 0, u'reviewer': u'~Red_Reviewer1'}\n",
      "Reviewer_info:  {u'source': u'ReviewerBids', u'score': 0, u'reviewer': u'~Orange_Reviewer1'}\n",
      "Reviewer_info:  {u'source': u'ReviewerBids', u'score': 0, u'reviewer': u'~Yellow_Reviewer1'}\n",
      "Reviewer_info:  {u'source': u'ReviewerBids', u'score': 0, u'reviewer': u'~Green_Reviewer1'}\n",
      "Reviewer_info:  {u'source': u'ReviewerBids', u'score': 1, u'reviewer': u'~Blue_Reviewer1'}\n",
      "Reviewer_info:  {u'source': u'ReviewerBids', u'score': 0, u'reviewer': u'~Indigo_Reviewer1'}\n",
      "Reviewer_info:  {u'source': u'ReviewerBids', u'score': 0, u'reviewer': u'~Violet_Reviewer1'}\n",
      "Note:  <openreview.openreview.Note object at 0x107598450>\n",
      "Reviewer_info:  {u'source': u'TPMS', u'score': 0, u'reviewer': u'~Red_Reviewer1'}\n",
      "Reviewer_info:  {u'source': u'TPMS', u'score': 0, u'reviewer': u'~Orange_Reviewer1'}\n",
      "Reviewer_info:  {u'source': u'TPMS', u'score': 0, u'reviewer': u'~Yellow_Reviewer1'}\n",
      "Reviewer_info:  {u'source': u'TPMS', u'score': 0, u'reviewer': u'~Green_Reviewer1'}\n",
      "Reviewer_info:  {u'source': u'TPMS', u'score': 0, u'reviewer': u'~Blue_Reviewer1'}\n",
      "Reviewer_info:  {u'source': u'TPMS', u'score': 1, u'reviewer': u'~Indigo_Reviewer1'}\n",
      "Reviewer_info:  {u'source': u'TPMS', u'score': 0, u'reviewer': u'~Violet_Reviewer1'}\n",
      "Reviewer_info:  {u'source': u'ReviewerBids', u'score': 0, u'reviewer': u'~Red_Reviewer1'}\n",
      "Reviewer_info:  {u'source': u'ReviewerBids', u'score': 0, u'reviewer': u'~Orange_Reviewer1'}\n",
      "Reviewer_info:  {u'source': u'ReviewerBids', u'score': 0, u'reviewer': u'~Yellow_Reviewer1'}\n",
      "Reviewer_info:  {u'source': u'ReviewerBids', u'score': 0, u'reviewer': u'~Green_Reviewer1'}\n",
      "Reviewer_info:  {u'source': u'ReviewerBids', u'score': 0, u'reviewer': u'~Blue_Reviewer1'}\n",
      "Reviewer_info:  {u'source': u'ReviewerBids', u'score': 1, u'reviewer': u'~Indigo_Reviewer1'}\n",
      "Reviewer_info:  {u'source': u'ReviewerBids', u'score': 0, u'reviewer': u'~Violet_Reviewer1'}\n",
      "Note:  <openreview.openreview.Note object at 0x107598d90>\n",
      "Reviewer_info:  {u'source': u'TPMS', u'score': 0, u'reviewer': u'~Red_Reviewer1'}\n",
      "Reviewer_info:  {u'source': u'TPMS', u'score': 0, u'reviewer': u'~Orange_Reviewer1'}\n",
      "Reviewer_info:  {u'source': u'TPMS', u'score': 0, u'reviewer': u'~Yellow_Reviewer1'}\n",
      "Reviewer_info:  {u'source': u'TPMS', u'score': 0, u'reviewer': u'~Green_Reviewer1'}\n",
      "Reviewer_info:  {u'source': u'TPMS', u'score': 0, u'reviewer': u'~Blue_Reviewer1'}\n",
      "Reviewer_info:  {u'source': u'TPMS', u'score': 0, u'reviewer': u'~Indigo_Reviewer1'}\n",
      "Reviewer_info:  {u'source': u'TPMS', u'score': 1, u'reviewer': u'~Violet_Reviewer1'}\n",
      "Reviewer_info:  {u'source': u'ReviewerBids', u'score': 0, u'reviewer': u'~Red_Reviewer1'}\n",
      "Reviewer_info:  {u'source': u'ReviewerBids', u'score': 0, u'reviewer': u'~Orange_Reviewer1'}\n",
      "Reviewer_info:  {u'source': u'ReviewerBids', u'score': 0, u'reviewer': u'~Yellow_Reviewer1'}\n",
      "Reviewer_info:  {u'source': u'ReviewerBids', u'score': 0, u'reviewer': u'~Green_Reviewer1'}\n",
      "Reviewer_info:  {u'source': u'ReviewerBids', u'score': 0, u'reviewer': u'~Blue_Reviewer1'}\n",
      "Reviewer_info:  {u'source': u'ReviewerBids', u'score': 0, u'reviewer': u'~Indigo_Reviewer1'}\n",
      "Reviewer_info:  {u'source': u'ReviewerBids', u'score': 1, u'reviewer': u'~Violet_Reviewer1'}\n"
     ]
    }
   ],
   "source": [
    "%run populate_paper_reviewer_assignment.py "
   ]
  },
  {
   "cell_type": "code",
   "execution_count": 5,
   "metadata": {
    "collapsed": false
   },
   "outputs": [],
   "source": [
    "assignments = [(paper_forum_reviewers_dict[forum][0],paper_forum_number_dict[forum]) for forum in titlesdict.keys()]"
   ]
  },
  {
   "cell_type": "code",
   "execution_count": 6,
   "metadata": {
    "collapsed": false
   },
   "outputs": [
    {
     "data": {
      "text/plain": [
       "[(u'~Yellow_Reviewer1', 3),\n",
       " (u'~Violet_Reviewer1', 7),\n",
       " (u'~Red_Reviewer1', 1),\n",
       " (u'~Green_Reviewer1', 4),\n",
       " (u'~Blue_Reviewer1', 5),\n",
       " (u'~Indigo_Reviewer1', 6),\n",
       " (u'~Orange_Reviewer1', 2)]"
      ]
     },
     "execution_count": 6,
     "metadata": {},
     "output_type": "execute_result"
    }
   ],
   "source": [
    "assignments"
   ]
  },
  {
   "cell_type": "code",
   "execution_count": 7,
   "metadata": {
    "collapsed": false
   },
   "outputs": [
    {
     "name": "stdout",
     "output_type": "stream",
     "text": [
      "Assigning ~Yellow_Reviewer1 to auai.org/UAI/2017/Paper3/AnonReviewer1\n",
      "Assigning ~Violet_Reviewer1 to auai.org/UAI/2017/Paper7/AnonReviewer1\n",
      "Assigning ~Red_Reviewer1 to auai.org/UAI/2017/Paper1/AnonReviewer1\n",
      "Assigning ~Green_Reviewer1 to auai.org/UAI/2017/Paper4/AnonReviewer1\n",
      "Assigning ~Blue_Reviewer1 to auai.org/UAI/2017/Paper5/AnonReviewer1\n",
      "Assigning ~Indigo_Reviewer1 to auai.org/UAI/2017/Paper6/AnonReviewer1\n",
      "Assigning ~Orange_Reviewer1 to auai.org/UAI/2017/Paper2/AnonReviewer1\n"
     ]
    }
   ],
   "source": [
    "for reviewer, papernumber in assignments:\n",
    "    new_reviewer = assign_reviewer(reviewer,str(papernumber),blind_submissions)\n",
    "    print \"Assigning %s to %s\" % (reviewer,new_reviewer.id)\n"
   ]
  },
  {
   "cell_type": "code",
   "execution_count": null,
   "metadata": {
    "collapsed": false
   },
   "outputs": [],
   "source": [
    "paper_reviewer_score_dict"
   ]
  },
  {
   "cell_type": "code",
   "execution_count": null,
   "metadata": {
    "collapsed": true
   },
   "outputs": [],
   "source": []
  }
 ],
 "metadata": {
  "kernelspec": {
   "display_name": "Python (openreview)",
   "language": "python",
   "name": "openreview"
  },
  "language_info": {
   "codemirror_mode": {
    "name": "ipython",
    "version": 2
   },
   "file_extension": ".py",
   "mimetype": "text/x-python",
   "name": "python",
   "nbconvert_exporter": "python",
   "pygments_lexer": "ipython2",
   "version": "2.7.12"
  }
 },
 "nbformat": 4,
 "nbformat_minor": 0
}
