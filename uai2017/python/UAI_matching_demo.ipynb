{
 "cells": [
  {
   "cell_type": "code",
   "execution_count": null,
   "metadata": {
    "collapsed": false
   },
   "outputs": [],
   "source": [
    "%run superuser-init.py --overwrite true"
   ]
  },
  {
   "cell_type": "markdown",
   "metadata": {},
   "source": [
    "## Set up instance"
   ]
  },
  {
   "cell_type": "code",
   "execution_count": null,
   "metadata": {
    "collapsed": false
   },
   "outputs": [],
   "source": [
    "import openreview\n",
    "import csv\n",
    "import re\n",
    "import requests\n",
    "from collections import defaultdict\n",
    "\n",
    "client = openreview.Client(username=\"OpenReview.net\",password=\"OpenReview_beta\",baseurl=\"http://localhost:3000\")\n",
    "\n",
    "def assign_reviewer(reviewer,paper_number,submissions):\n",
    "    notes = [note for note in submissions if str(note.number)==str(paper_number)]\n",
    "    \n",
    "    valid_email = re.compile('^[^@\\s,]+@[^@\\s,]+\\.[^@\\s,]+$')\n",
    "    valid_tilde = re.compile('~.+')\n",
    "    reviewer_group = None\n",
    "    if not notes:\n",
    "        print \"Paper number \" + paper_number + \" does not exist\"\n",
    "    elif not valid_email.match(reviewer) and not valid_tilde.match(reviewer):\n",
    "        print \"Program Committee Member \\\"\"+reviewer+\"\\\" invalid. Please check for typos and whitespace.\"\n",
    "    else:\n",
    "        #need to incorporate conflicts. get them from public profile? confirm this with UAI documentation\n",
    "        reviewer_group = get_reviewer_group(reviewer, paper_number, [])\n",
    "    return reviewer_group\n",
    "\n",
    "def get_reviewer_group(reviewer, paper_number, conflict_list):\n",
    "\n",
    "    reviewers = client.get_group('auai.org/UAI/2017/Paper'+paper_number+'/Reviewers')\n",
    "    nonreaders_reviewers = client.get_group('auai.org/UAI/2017/Paper'+paper_number+'/Reviewers/NonReaders')\n",
    "    existing_reviewers = reviewers.members\n",
    "\n",
    "    conference_reviewers = client.get_group(PC)\n",
    "    if not (reviewer in conference_reviewers.members):\n",
    "        client.add_members_to_group(conference_reviewers,reviewer)\n",
    "\n",
    "    next_reviewer = get_next_reviewer_id(reviewer, paper_number)\n",
    "\n",
    "    new_reviewer_id = 'auai.org/UAI/2017/Paper' + str(paper_number) + '/' + next_reviewer\n",
    "    new_reviewer = create_reviewer_group(new_reviewer_id, reviewer, paper_number, conflict_list)\n",
    "\n",
    "    client.add_members_to_group(reviewers,[reviewer])\n",
    "    client.add_members_to_group(nonreaders_reviewers,[new_reviewer.id])\n",
    "    \n",
    "    return new_reviewer\n",
    "\n",
    "\n",
    "def get_next_reviewer_id(reviewer, paper_number):\n",
    "\n",
    "    headers = {\n",
    "    'User-Agent': 'test-create-script',\n",
    "    'Content-Type': 'application/json',\n",
    "    'Authorization': 'Bearer ' + client.token\n",
    "    }\n",
    "\n",
    "    response = requests.get(client.baseurl + '/groups?id=auai.org/UAI/2017/Paper' + paper_number + '/AnonReviewer.*', headers=headers)\n",
    "    reviewers = response.json()\n",
    "\n",
    "    if reviewers:\n",
    "        numbers = []\n",
    "        for existing_reviewer in reviewers:\n",
    "\n",
    "            if reviewer in existing_reviewer['members']:\n",
    "                print \"reviewer \" + reviewer + \" found in \" + existing_reviewer['id']\n",
    "                return None\n",
    "            numbers.append(int(existing_reviewer['id'].split('AnonReviewer')[1]))\n",
    "\n",
    "        return \"AnonReviewer\" + str(max(numbers) + 1)\n",
    "\n",
    "    else:\n",
    "        return \"AnonReviewer1\"\n",
    "\n",
    "\n",
    "\n",
    "\n",
    "def create_reviewer_group(new_reviewer_id, reviewer, paper_number, conflict_list):\n",
    "    new_reviewer = openreview.Group(\n",
    "        new_reviewer_id,\n",
    "        signatures=['auai.org/UAI/2017'],\n",
    "        writers=['auai.org/UAI/2017'],\n",
    "        members=[reviewer],\n",
    "        readers=['auai.org/UAI/2017', COCHAIRS, SPC, PC],\n",
    "        nonreaders=conflict_list,\n",
    "        signatories=[new_reviewer_id])\n",
    "    client.post_group(new_reviewer)\n",
    "    return new_reviewer"
   ]
  },
  {
   "cell_type": "markdown",
   "metadata": {},
   "source": [
    "### Generate dummy reviewers"
   ]
  },
  {
   "cell_type": "code",
   "execution_count": null,
   "metadata": {
    "collapsed": false
   },
   "outputs": [],
   "source": [
    "last = 'Reviewer'\n",
    "password = '1234'\n",
    "\n",
    "users = []\n",
    "for first in ['Red', 'Orange', 'Yellow', 'Green', 'Blue', 'Indigo', 'Violet']:\n",
    "    print first+\" Reviewer\"\n",
    "    email = ('%sreviewer@gmail.com' % first.lower())\n",
    "    users.append(client.create_dummy(email=email,first=first,last=last,password=password,secure_activation=False))\n",
    "\n",
    "reviewers = [u['user']['profile']['id'] for u in users]"
   ]
  },
  {
   "cell_type": "markdown",
   "metadata": {},
   "source": [
    "### Generate fake paper submissions"
   ]
  },
  {
   "cell_type": "code",
   "execution_count": null,
   "metadata": {
    "collapsed": false
   },
   "outputs": [],
   "source": [
    "#modify the submission invitation so that we don't have to submit a pdf\n",
    "uaisub = client.get_invitation('auai.org/UAI/2017/-/submission')\n",
    "uaisub.reply['content']['pdf']['value-regex'] = '.*'\n",
    "client.post_invitation(uaisub)\n",
    "\n",
    "def get_content(color):\n",
    "    \n",
    "    abstracts = {\n",
    "        'Red': '''Red is the color at the longer-wavelengths end of the spectrum of visible light next to orange, at the opposite end from violet.[3] Red color has a predominant light wavelength of roughly 620–740 nanometers. Light with a longer wavelength than red but shorter than terahertz radiation and microwave is called infrared.\n",
    "Red is one of the additive primary colors of visible light, along with green and blue, which in Red Green Blue (RGB) color systems are combined to create all the colors on a computer monitor or television screen. Red is one of the subtractive secondary colors, resulting from the combination of yellow and magenta. (See CMYK color model.) Traditionally, it was viewed as a primary subtractive colour, along with yellow and blue, in the RYB color space and traditional color wheel formerly used by painters and artists. Reds can vary in shade from very light pink to very dark maroon or burgundy; and in hue from the bright orange-red scarlet or vermilion to the bluish-red crimson. Red is the complementary color of cyan.''',\n",
    "        'Orange':'''Orange is the colour between red and yellow in the spectrum of light, and on the traditional colour wheel used by painters. Its name is derived from the fruit orange.\n",
    "In Europe and America, surveys show that orange is the colour most associated with amusement, the unconventional, extroverts, warmth, fire, energy, activity, danger, taste and aroma, the autumn season, and Protestantism, as well as having long been the national colour of the Netherlands and the House of Orange. In Asia it is an important symbolic colour of Buddhism and Hinduism.[1]''',\n",
    "        'Yellow':'''Yellow is the color between green and orange in the spectrum of visible light. It is the color of ripe lemons, sunflowers, and gold. It is a primary color in subtractive color, used in color printing. According to surveys in Europe, Canada, and the United States, yellow is the color people most often associate with amusement, gentleness, and spontaneity, but also with duplicity, envy, jealousy, avarice, and, in the U.S., with cowardice. It plays an important role in Asian culture, particularly in China, where it is seen as the color of happiness, glory, wisdom, harmony, and culture.[3]''',\n",
    "        'Green':'''Green is the color between blue and yellow on the spectrum of visible light. It is evoked by light with a predominant wavelength of roughly 495–570 nm. In the subtractive color system, used in painting and color printing, it is created by a combination of yellow and blue, or yellow and cyan; in the RGB color model, used on television and computer screens, it is one of the additive primary colors, along with red and blue, which are mixed in different combinations to create all other colors.\n",
    "The modern English word green comes from the Middle English and Anglo-Saxon word grene, from the same Germanic root as the words \"grass\" and \"grow\".[1] It is the color of living grass and leaves[2][3] and as a result is the color most associated with springtime, growth and nature.[4] By far the largest contributor to green in nature is chlorophyll, the chemical by which plants photosynthesize and convert sunlight into chemical energy. Many creatures have adapted to their green environments by taking on a green hue themselves as camouflage. Several minerals have a green color, including the emerald, which is colored green by its chromium content.''',\n",
    "        'Blue':'''Blue is the colour between violet and green on the optical spectrum of visible light. Human eyes perceive blue when observing light with a wavelength between 450 and 495 nanometres, which is between 4500 and 4950 ångströms. Blues with a higher frequency and thus a shorter wavelength gradually look more violet, while those with a lower frequency and a longer wavelength gradually appear more green. Pure blue, in the middle, has a wavelength of 470 nanometers (4700 ångströms). In painting and traditional colour theory, blue is one of the three primary colours of pigments, along with red and yellow, which can be mixed to form a wide gamut of colours. Red and blue mixed together form violet, blue and yellow together form green. Blue is also a primary colour in the RGB colour model, used to create all the colours on the screen of a television or computer monitor.''',\n",
    "        'Indigo': '''Indigo is a color that is traditionally regarded as a color in the visible spectrum, as well as one of the seven colors of the rainbow: the color between blue and violet. Although traditionally considered one of seven major spectral colors, sources differ as to its actual position in the electromagnetic spectrum. Indigo is a deep and bright color close to the color wheel blue (a primary color in the RGB color space), as well as to some variants of ultramarine.\n",
    "The color indigo is named after the indigo dye derived from the plant Indigofera tinctoria and related species.\n",
    "The first known recorded use of indigo as a color name in English was in 1289.[3]'\n",
    "''',\n",
    "        'Violet':'''Violet is the color of amethyst, lavender and beautyberries. It takes its name from the violet flower.[2][3]\n",
    "Violet is the color at the end of the visible spectrum of light between blue and the invisible ultraviolet. Violet color has a predominant light wavelength of roughly 380-450 nanometers[4] (in experiments under special conditions, people have so far seen to 310 nm).[5][6][7] Light with a shorter wavelength than violet but longer than X-rays and gamma rays is called ultraviolet. In the color wheel historically used by painters, it is located between blue and purple. On the screens of computer monitors and television sets, a color which looks similar to violet is made, with the RGB color model, by mixing red and blue light, with the blue twice as bright as the red. This is not true violet, since it is composed of multiple longer wavelengths rather than a single wavelength shorter than that of blue light.'''\n",
    "    }\n",
    "    \n",
    "    generic_content = {\n",
    "        'pdf': '%s.pdf' % color,\n",
    "        'title': '%s Paper' % color,\n",
    "        'abstract': abstracts[color],\n",
    "        'authors': 'Michael Spector',\n",
    "        'keywords':['%s Keyword' % color],\n",
    "        'TL;DR':'',\n",
    "        'authorids':['spector@cs.umass.edu'],\n",
    "        'student paper':'Yes',\n",
    "        'subject areas':['Algorithms: Approximate Inference']\n",
    "    }\n",
    "    return generic_content\n",
    "\n",
    "\n",
    "#Create three sample notes\n",
    "sample_papers = [None]*7\n",
    "\n",
    "red_content = get_content('Red')\n",
    "sample_papers[0] = openreview.Note(invitation='auai.org/UAI/2017/-/submission',\n",
    "                                content=red_content,\n",
    "                                readers=['auai.org/UAI/2017'],\n",
    "                                signatures=['~Michael_Spector1'],\n",
    "                                writers=['~Michael_Spector1']\n",
    "                              )\n",
    "\n",
    "orange_content = get_content('Orange')\n",
    "sample_papers[1] = openreview.Note(invitation='auai.org/UAI/2017/-/submission',\n",
    "                                content=orange_content,\n",
    "                                readers=['auai.org/UAI/2017'],\n",
    "                                signatures=['~Michael_Spector1'],\n",
    "                                writers=['~Michael_Spector1']\n",
    "                              )\n",
    "\n",
    "yellow_content = get_content('Yellow')\n",
    "sample_papers[2] = openreview.Note(invitation='auai.org/UAI/2017/-/submission',\n",
    "                                content=yellow_content,\n",
    "                                readers=['auai.org/UAI/2017'],\n",
    "                                signatures=['~Michael_Spector1'],\n",
    "                                writers=['~Michael_Spector1']\n",
    "                              )\n",
    "\n",
    "green_content = get_content('Green')\n",
    "sample_papers[3] = openreview.Note(invitation='auai.org/UAI/2017/-/submission',\n",
    "                                content=green_content,\n",
    "                                readers=['auai.org/UAI/2017'],\n",
    "                                signatures=['~Michael_Spector1'],\n",
    "                                writers=['~Michael_Spector1']\n",
    "                              )\n",
    "\n",
    "blue_content = get_content('Blue')\n",
    "sample_papers[4] = openreview.Note(invitation='auai.org/UAI/2017/-/submission',\n",
    "                                content=blue_content,\n",
    "                                readers=['auai.org/UAI/2017'],\n",
    "                                signatures=['~Michael_Spector1'],\n",
    "                                writers=['~Michael_Spector1']\n",
    "                              )\n",
    "\n",
    "indigo_content = get_content('Indigo')\n",
    "sample_papers[5] = openreview.Note(invitation='auai.org/UAI/2017/-/submission',\n",
    "                                content=indigo_content,\n",
    "                                readers=['auai.org/UAI/2017'],\n",
    "                                signatures=['~Michael_Spector1'],\n",
    "                                writers=['~Michael_Spector1']\n",
    "                              )\n",
    "\n",
    "violet_content = get_content('Violet')\n",
    "sample_papers[6] = openreview.Note(invitation='auai.org/UAI/2017/-/submission',\n",
    "                                content=violet_content,\n",
    "                                readers=['auai.org/UAI/2017'],\n",
    "                                signatures=['~Michael_Spector1'],\n",
    "                                writers=['~Michael_Spector1']\n",
    "                              )\n",
    "\n",
    "for note in sample_papers:\n",
    "    print note.content['title']\n",
    "    posted_note = client.post_note(note) "
   ]
  },
  {
   "cell_type": "code",
   "execution_count": null,
   "metadata": {
    "collapsed": false
   },
   "outputs": [],
   "source": [
    "program_committee = client.get_group('auai.org/UAI/2017/Program_Committee')\n",
    "program_committee.members = reviewers\n",
    "client.post_group(program_committee)\n",
    "print \"added reviewers to Program Committee\""
   ]
  },
  {
   "cell_type": "markdown",
   "metadata": {},
   "source": [
    "## Matching Demo"
   ]
  },
  {
   "cell_type": "code",
   "execution_count": null,
   "metadata": {
    "collapsed": false
   },
   "outputs": [],
   "source": [
    "blind_submissions = client.get_notes(invitation='auai.org/UAI/2017/-/blind-submission')\n",
    "titlesdict = {note.forum: note.content['title'] for note in blind_submissions}"
   ]
  },
  {
   "cell_type": "code",
   "execution_count": null,
   "metadata": {
    "collapsed": false
   },
   "outputs": [],
   "source": [
    "%run populate_papers_data.py --betas ../dummy-data/paper-betas.xml --reviewerscores ../dummy-data/paper-reviewer-scores.xml --paperscores ../dummy-data/paper-paper-scores.xml --bidscores ../dummy-data/bids-by-papers.xml\n",
    "%run populate_reviewer_data.py --alphas ../dummy-data/reviewer-alphas.xml --reviewerscores ../dummy-data/reviewer-reviewer-scores.xml"
   ]
  },
  {
   "cell_type": "code",
   "execution_count": null,
   "metadata": {
    "collapsed": false
   },
   "outputs": [],
   "source": [
    "%run populate_paper_reviewer_assignment.py "
   ]
  },
  {
   "cell_type": "code",
   "execution_count": null,
   "metadata": {
    "collapsed": false
   },
   "outputs": [],
   "source": [
    "assignments = [(paper_forum_reviewers_dict[forum][0],paper_forum_number_dict[forum]) for forum in titlesdict.keys()]\n",
    "assignments"
   ]
  },
  {
   "cell_type": "code",
   "execution_count": null,
   "metadata": {
    "collapsed": false
   },
   "outputs": [],
   "source": [
    "for reviewer, papernumber in assignments:\n",
    "    new_reviewer = assign_reviewer(reviewer,str(papernumber),blind_submissions)\n",
    "    print \"Assigning %s to %s\" % (reviewer,new_reviewer.id)\n"
   ]
  },
  {
   "cell_type": "code",
   "execution_count": null,
   "metadata": {
    "collapsed": false
   },
   "outputs": [],
   "source": [
    "pc = client.get_group('auai.org/UAI/2017/Program_Co-Chairs')\n",
    "client.add_members_to_group(pc,['spector@cs.umass.edu','zach.bialecki@gmail.com','mbok@cs.umass.edu'])"
   ]
  },
  {
   "cell_type": "code",
   "execution_count": null,
   "metadata": {
    "collapsed": false
   },
   "outputs": [],
   "source": [
    "#client.create_dummy(first=\"UAI\",last=\"Admin\", email=\"uai2017admin\", password=\"12345678\", secure_activation=False)"
   ]
  },
  {
   "cell_type": "code",
   "execution_count": null,
   "metadata": {
    "collapsed": true
   },
   "outputs": [],
   "source": []
  }
 ],
 "metadata": {
  "kernelspec": {
   "display_name": "Python (openreview)",
   "language": "python",
   "name": "openreview"
  },
  "language_info": {
   "codemirror_mode": {
    "name": "ipython",
    "version": 2
   },
   "file_extension": ".py",
   "mimetype": "text/x-python",
   "name": "python",
   "nbconvert_exporter": "python",
   "pygments_lexer": "ipython2",
   "version": "2.7.12"
  }
 },
 "nbformat": 4,
 "nbformat_minor": 0
}
