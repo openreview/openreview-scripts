{
 "cells": [
  {
   "cell_type": "code",
   "execution_count": null,
   "metadata": {
    "collapsed": false
   },
   "outputs": [],
   "source": [
    "%run superuser-init.py --overwrite true"
   ]
  },
  {
   "cell_type": "markdown",
   "metadata": {},
   "source": [
    "## Set up instance"
   ]
  },
  {
   "cell_type": "code",
   "execution_count": null,
   "metadata": {
    "collapsed": false
   },
   "outputs": [],
   "source": [
    "import openreview\n",
    "import csv\n",
    "import re\n",
    "import requests\n",
    "from collections import defaultdict\n",
    "\n",
    "client = openreview.Client(username=\"OpenReview.net\",password=\"OpenReview_beta\",baseurl=\"http://localhost:3000\")\n",
    "\n",
    "def assign_reviewer(reviewer,paper_number,submissions):\n",
    "    notes = [note for note in submissions if str(note.number)==str(paper_number)]\n",
    "    \n",
    "    valid_email = re.compile('^[^@\\s,]+@[^@\\s,]+\\.[^@\\s,]+$')\n",
    "    valid_tilde = re.compile('~.+')\n",
    "    reviewer_group = None\n",
    "    if not notes:\n",
    "        print \"Paper number \" + paper_number + \" does not exist\"\n",
    "    elif not valid_email.match(reviewer) and not valid_tilde.match(reviewer):\n",
    "        print \"Program Committee Member \\\"\"+reviewer+\"\\\" invalid. Please check for typos and whitespace.\"\n",
    "    else:\n",
    "        #need to incorporate conflicts. get them from public profile? confirm this with UAI documentation\n",
    "        reviewer_group = get_reviewer_group(reviewer, paper_number, [])\n",
    "    return reviewer_group\n",
    "\n",
    "def get_reviewer_group(reviewer, paper_number, conflict_list):\n",
    "\n",
    "    reviewers = client.get_group('auai.org/UAI/2017/Paper'+paper_number+'/Reviewers')\n",
    "    nonreaders_reviewers = client.get_group('auai.org/UAI/2017/Paper'+paper_number+'/Reviewers/NonReaders')\n",
    "    existing_reviewers = reviewers.members\n",
    "\n",
    "    conference_reviewers = client.get_group(PC)\n",
    "    if not (reviewer in conference_reviewers.members):\n",
    "        client.add_members_to_group(conference_reviewers,reviewer)\n",
    "\n",
    "    next_reviewer = get_next_reviewer_id(reviewer, paper_number)\n",
    "\n",
    "    new_reviewer_id = 'auai.org/UAI/2017/Paper' + str(paper_number) + '/' + next_reviewer\n",
    "    new_reviewer = create_reviewer_group(new_reviewer_id, reviewer, paper_number, conflict_list)\n",
    "\n",
    "    client.add_members_to_group(reviewers,[reviewer])\n",
    "    client.add_members_to_group(nonreaders_reviewers,[new_reviewer.id])\n",
    "    \n",
    "    return new_reviewer\n",
    "\n",
    "\n",
    "def get_next_reviewer_id(reviewer, paper_number):\n",
    "\n",
    "    headers = {\n",
    "    'User-Agent': 'test-create-script',\n",
    "    'Content-Type': 'application/json',\n",
    "    'Authorization': 'Bearer ' + client.token\n",
    "    }\n",
    "\n",
    "    response = requests.get(client.baseurl + '/groups?id=auai.org/UAI/2017/Paper' + paper_number + '/AnonReviewer.*', headers=headers)\n",
    "    reviewers = response.json()\n",
    "\n",
    "    if reviewers:\n",
    "        numbers = []\n",
    "        for existing_reviewer in reviewers:\n",
    "\n",
    "            if reviewer in existing_reviewer['members']:\n",
    "                print \"reviewer \" + reviewer + \" found in \" + existing_reviewer['id']\n",
    "                return None\n",
    "            numbers.append(int(existing_reviewer['id'].split('AnonReviewer')[1]))\n",
    "\n",
    "        return \"AnonReviewer\" + str(max(numbers) + 1)\n",
    "\n",
    "    else:\n",
    "        return \"AnonReviewer1\"\n",
    "\n",
    "\n",
    "\n",
    "\n",
    "def create_reviewer_group(new_reviewer_id, reviewer, paper_number, conflict_list):\n",
    "    new_reviewer = openreview.Group(\n",
    "        new_reviewer_id,\n",
    "        signatures=['auai.org/UAI/2017'],\n",
    "        writers=['auai.org/UAI/2017'],\n",
    "        members=[reviewer],\n",
    "        readers=['auai.org/UAI/2017', COCHAIRS, SPC, PC],\n",
    "        nonreaders=conflict_list,\n",
    "        signatories=[new_reviewer_id])\n",
    "    client.post_group(new_reviewer)\n",
    "    return new_reviewer"
   ]
  },
  {
   "cell_type": "markdown",
   "metadata": {},
   "source": [
    "### Generate dummy reviewers"
   ]
  },
  {
   "cell_type": "code",
   "execution_count": null,
   "metadata": {
    "collapsed": false
   },
   "outputs": [],
   "source": [
    "last = 'Reviewer'\n",
    "password = '1234'\n",
    "\n",
    "users = []\n",
    "for first in ['Red', 'Orange', 'Yellow', 'Green', 'Blue', 'Indigo', 'Violet']:\n",
    "    print first+\" Reviewer\"\n",
    "    email = ('%sreviewer@openreview.net' % first.lower())\n",
    "    users.append(client.create_dummy(email=email,first=first,last=last,password=password,secure_activation=False))\n",
    "\n",
    "reviewers = [u['user']['profile']['id'] for u in users]"
   ]
  },
  {
   "cell_type": "markdown",
   "metadata": {},
   "source": [
    "### Generate fake paper submissions"
   ]
  },
  {
   "cell_type": "code",
   "execution_count": null,
   "metadata": {
    "collapsed": false
   },
   "outputs": [],
   "source": [
    "#modify the submission invitation so that we can make easy test notes\n",
    "uaisub = client.get_invitation('auai.org/UAI/2017/-/submission')\n",
    "uaisub.reply['content']= {\n",
    "    u'title': {\n",
    "        u'description': u'Title of paper.',\n",
    "        u'order': 1,\n",
    "        u'required': True,\n",
    "        u'value-regex': u'.{1,250}'\n",
    "    }\n",
    "}\n",
    "client.post_invitation(uaisub)\n",
    "\n",
    "#Create three sample notes\n",
    "sample_papers = [None]*7\n",
    "sample_papers[0] = openreview.Note(invitation='auai.org/UAI/2017/-/submission',\n",
    "                                content={'title':'Red Paper'},\n",
    "                                readers=[u'auai.org/UAI/2017/Program_Co-Chairs'],\n",
    "                                signatures=['~Michael_Spector1'],\n",
    "                                writers=['~Michael_Spector1']\n",
    "                              )\n",
    "sample_papers[1] = openreview.Note(invitation='auai.org/UAI/2017/-/submission',\n",
    "                                content={'title':'Orange Paper'},\n",
    "                                readers=[u'auai.org/UAI/2017/Program_Co-Chairs'],\n",
    "                                signatures=['~Michael_Spector1'],\n",
    "                                writers=['~Michael_Spector1']\n",
    "                              )\n",
    "sample_papers[2] = openreview.Note(invitation='auai.org/UAI/2017/-/submission',\n",
    "                                content={'title':'Yellow Paper'},\n",
    "                                readers=[u'auai.org/UAI/2017/Program_Co-Chairs'],\n",
    "                                signatures=['~Michael_Spector1'],\n",
    "                                writers=['~Michael_Spector1']\n",
    "                              )\n",
    "sample_papers[3] = openreview.Note(invitation='auai.org/UAI/2017/-/submission',\n",
    "                                content={'title':'Green Paper'},\n",
    "                                readers=[u'auai.org/UAI/2017/Program_Co-Chairs'],\n",
    "                                signatures=['~Michael_Spector1'],\n",
    "                                writers=['~Michael_Spector1']\n",
    "                              )\n",
    "sample_papers[4] = openreview.Note(invitation='auai.org/UAI/2017/-/submission',\n",
    "                                content={'title':'Blue Paper'},\n",
    "                                readers=[u'auai.org/UAI/2017/Program_Co-Chairs'],\n",
    "                                signatures=['~Michael_Spector1'],\n",
    "                                writers=['~Michael_Spector1']\n",
    "                              )\n",
    "sample_papers[5] = openreview.Note(invitation='auai.org/UAI/2017/-/submission',\n",
    "                                content={'title':'Indigo Paper'},\n",
    "                                readers=[u'auai.org/UAI/2017/Program_Co-Chairs'],\n",
    "                                signatures=['~Michael_Spector1'],\n",
    "                                writers=['~Michael_Spector1']\n",
    "                              )\n",
    "sample_papers[6] = openreview.Note(invitation='auai.org/UAI/2017/-/submission',\n",
    "                                content={'title':'Violet Paper'},\n",
    "                                readers=[u'auai.org/UAI/2017/Program_Co-Chairs'],\n",
    "                                signatures=['~Michael_Spector1'],\n",
    "                                writers=['~Michael_Spector1']\n",
    "                              )\n",
    "\n",
    "for note in sample_papers:\n",
    "    print note.content['title']\n",
    "    posted_note = client.post_note(note) "
   ]
  },
  {
   "cell_type": "code",
   "execution_count": null,
   "metadata": {
    "collapsed": false
   },
   "outputs": [],
   "source": [
    "program_committee = client.get_group('auai.org/UAI/2017/Program_Committee')\n",
    "program_committee.members = reviewers\n",
    "client.post_group(program_committee)\n",
    "print \"added reviewers to Program Committee\""
   ]
  },
  {
   "cell_type": "markdown",
   "metadata": {},
   "source": [
    "## Matching Demo"
   ]
  },
  {
   "cell_type": "code",
   "execution_count": null,
   "metadata": {
    "collapsed": false
   },
   "outputs": [],
   "source": [
    "blind_submissions = client.get_notes(invitation='auai.org/UAI/2017/-/blind-submission')\n",
    "titlesdict = {note.forum: note.content['title'] for note in blind_submissions}"
   ]
  },
  {
   "cell_type": "code",
   "execution_count": null,
   "metadata": {
    "collapsed": false
   },
   "outputs": [],
   "source": [
    "%run populate_papers_data.py --betas ../dummy-data/paper-betas.xml --reviewerscores ../dummy-data/paper-reviewer-scores.xml --paperscores ../dummy-data/paper-paper-scores.xml --bidscores ../dummy-data/bids-by-papers.xml\n",
    "%run populate_reviewer_data.py --alphas ../dummy-data/reviewer-alphas.xml --reviewerscores ../dummy-data/reviewer-reviewer-scores.xml"
   ]
  },
  {
   "cell_type": "code",
   "execution_count": null,
   "metadata": {
    "collapsed": false
   },
   "outputs": [],
   "source": [
    "%run populate_paper_reviewer_assignment.py "
   ]
  },
  {
   "cell_type": "code",
   "execution_count": null,
   "metadata": {
    "collapsed": false
   },
   "outputs": [],
   "source": [
    "assignments = [(paper_forum_reviewers_dict[forum][0],paper_forum_number_dict[forum]) for forum in titlesdict.keys()]\n",
    "assignments"
   ]
  },
  {
   "cell_type": "code",
   "execution_count": null,
   "metadata": {
    "collapsed": false
   },
   "outputs": [],
   "source": [
    "for reviewer, papernumber in assignments:\n",
    "    new_reviewer = assign_reviewer(reviewer,str(papernumber),blind_submissions)\n",
    "    print \"Assigning %s to %s\" % (reviewer,new_reviewer.id)\n"
   ]
  },
  {
   "cell_type": "code",
   "execution_count": null,
   "metadata": {
    "collapsed": false
   },
   "outputs": [],
   "source": [
    "pc = client.get_group('auai.org/UAI/2017/Program_Co-Chairs')\n",
    "client.add_members_to_group(pc,['spector@cs.umass.edu','zach.bialecki@gmail.com','mbok@cs.umass.edu'])"
   ]
  },
  {
   "cell_type": "code",
   "execution_count": null,
   "metadata": {
    "collapsed": false
   },
   "outputs": [],
   "source": [
    "#client.create_dummy(first=\"UAI\",last=\"Admin\", email=\"uai2017admin\", password=\"12345678\", secure_activation=False)"
   ]
  },
  {
   "cell_type": "code",
   "execution_count": null,
   "metadata": {
    "collapsed": true
   },
   "outputs": [],
   "source": []
  }
 ],
 "metadata": {
  "kernelspec": {
   "display_name": "Python (openreview)",
   "language": "python",
   "name": "openreview"
  },
  "language_info": {
   "codemirror_mode": {
    "name": "ipython",
    "version": 2
   },
   "file_extension": ".py",
   "mimetype": "text/x-python",
   "name": "python",
   "nbconvert_exporter": "python",
   "pygments_lexer": "ipython2",
   "version": "2.7.12"
  }
 },
 "nbformat": 4,
 "nbformat_minor": 0
}
