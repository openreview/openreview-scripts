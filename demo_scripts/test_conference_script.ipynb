{
 "cells": [
  {
   "cell_type": "markdown",
   "metadata": {},
   "source": [
    "## Test Conference\n",
    "This conference is based on the test_iclr_conference_v2.py, with some simplifications\n",
    "\n",
    "Some notes: \n",
    "- Some code cannot be run more than once without giving an error (for example if you withdraw a paper, then withdraw it again, it will give you an error)\n",
    "- Most code depends on all of the code before it being run, since this is simulating a compressed conference workflow"
   ]
  },
  {
   "cell_type": "code",
   "execution_count": 22,
   "metadata": {},
   "outputs": [],
   "source": [
    "from helpers import *\n",
    "import time\n",
    "import openreview\n",
    "import pytest\n",
    "import datetime\n",
    "import re\n",
    "import random\n",
    "import os\n",
    "import csv\n",
    "from selenium.webdriver.common.by import By\n",
    "from selenium.common.exceptions import NoSuchElementException\n",
    "from selenium import webdriver\n",
    "from selenium.webdriver.firefox.options import Options\n",
    "from selenium.webdriver.support.ui import WebDriverWait\n",
    "from selenium.webdriver.support import expected_conditions as EC\n",
    "from selenium.common.exceptions import TimeoutException\n",
    "from selenium.common.exceptions import UnexpectedAlertPresentException\n",
    "selenium = webdriver.Firefox()\n",
    "helpers = Helpers()"
   ]
  },
  {
   "cell_type": "markdown",
   "metadata": {},
   "source": [
    "## Make sample users and create deadline\n",
    "From: test_create_conference()\n",
    "\n",
    "This section connects to the client, sets up variables for deadlines, and makes sample profiles for the conference"
   ]
  },
  {
   "cell_type": "code",
   "execution_count": 23,
   "metadata": {},
   "outputs": [],
   "source": [
    "#Set up deadlines\n",
    "now = datetime.datetime.utcnow()\n",
    "abstract_date = now + datetime.timedelta(days=1)\n",
    "due_date = now + datetime.timedelta(days=3)\n",
    "\n",
    "#connect to client\n",
    "client = openreview.Client(baseurl = 'http://localhost:3000', username = 'openreview.net', password=helpers.strong_password)\n",
    "openreview_client =openreview.Client(baseurl = 'http://localhost:3001', username = 'openreview.net', password=helpers.strong_password)"
   ]
  },
  {
   "cell_type": "code",
   "execution_count": 24,
   "metadata": {},
   "outputs": [
    {
     "data": {
      "text/plain": [
       "<openreview.api.client.OpenReviewClient at 0x121a92a30>"
      ]
     },
     "execution_count": 24,
     "metadata": {},
     "output_type": "execute_result"
    }
   ],
   "source": [
    "# Make PCs\n",
    "helpers.create_user('pc@mail.com', 'Program','Chair')\n",
    "pc_client = openreview.Client(username='pc@mail.com', password=helpers.strong_password)\n",
    "\n",
    "# Make SACs, ACs, Reviewers, and one test author\n",
    "helpers.create_user('sac10@mail.com', 'SAC', 'One')\n",
    "helpers.create_user('sac2@mail.com', 'SAC', 'Two')\n",
    "\n",
    "#Make ACs\n",
    "helpers.create_user('ac1@mail.com', 'AC', 'One')\n",
    "helpers.create_user('ac2@mail.com', 'AC', 'Two')\n",
    "\n",
    "#Make Reviewers\n",
    "helpers.create_user('reviewer1@mail.com', 'Reviewer', 'One')\n",
    "helpers.create_user('reviewer2@mail.com', 'Reviewer', 'Two')\n",
    "\n",
    "#Make Author\n",
    "helpers.create_user('author@mail.com', 'Author', 'One') # Author\n"
   ]
  },
  {
   "cell_type": "markdown",
   "metadata": {},
   "source": [
    "Look at a profile using this url: http://localhost:3030/profile?email=[EMAIL]\n",
    "\n",
    "Example: http://localhost:3030/profile?email=pc@mail.com\n",
    "\n",
    "All profiles use the same password: Or$3cur3P@ssw0rd (also stored in helpers.strong_password)"
   ]
  },
  {
   "cell_type": "markdown",
   "metadata": {},
   "source": [
    "## Set up conference\n",
    "From: test_create_conference()\n",
    "\n",
    "This section sets up the venue request form and deploys it with the settings for the venue. "
   ]
  },
  {
   "cell_type": "code",
   "execution_count": 25,
   "metadata": {},
   "outputs": [],
   "source": [
    "#Post the venue request form and deploty the conference\n",
    "request_form_note = pc_client.post_note(openreview.Note(\n",
    "        invitation='openreview.net/Support/-/Request_Form',\n",
    "        signatures=['~Program_Chair1'],\n",
    "        readers=[\n",
    "            'openreview.net/Support',\n",
    "            '~Program_Chair1'\n",
    "        ],\n",
    "        writers=[],\n",
    "        content={\n",
    "            'title': 'Test Conference', \n",
    "            'Official Venue Name': 'Test Conference', \n",
    "            'Abbreviated Venue Name': 'TC 2024',  \n",
    "            'Official Website URL': 'https//:testconference.com', \n",
    "            'program_chair_emails': ['pc@mail.com'],\n",
    "            'contact_email': 'pc@mail.com', \n",
    "            'publication_chairs':'No, our venue does not have Publication Chairs',\n",
    "            'Area Chairs (Metareviewers)': 'Yes, our venue has Area Chairs',\n",
    "            'senior_area_chairs': 'No, our venue does not have Senior Area Chairs',\n",
    "            'Venue Start Date': '2024/07/01',\n",
    "            'abstract_registration_deadline': abstract_date.strftime('%Y/%m/%d'),\n",
    "            'Submission Deadline': due_date.strftime('%Y/%m/%d'),\n",
    "            'Location': 'Virtual',\n",
    "            'submission_reviewer_assignment': 'Automatic',\n",
    "            'Author and Reviewer Anonymity': 'Double-blind',\n",
    "            'reviewer_identity': ['Program Chairs', 'Assigned Senior Area Chair', 'Assigned Area Chair', 'Assigned Reviewers'],\n",
    "            'area_chair_identity': ['Program Chairs', 'Assigned Senior Area Chair', 'Assigned Area Chair', 'Assigned Reviewers'],\n",
    "            'senior_area_chair_identity': ['Program Chairs', 'Assigned Senior Area Chair', 'Assigned Area Chair', 'Assigned Reviewers'],\n",
    "            'Open Reviewing Policy': 'Submissions and reviews should both be public.',\n",
    "            'submission_readers': 'Everyone (submissions are public)',\n",
    "            'withdrawn_submissions_visibility': 'Yes, withdrawn submissions should be made public.',\n",
    "            'withdrawn_submissions_author_anonymity': 'Yes, author identities of withdrawn submissions should be revealed.',\n",
    "            'desk_rejected_submissions_visibility':'Yes, desk rejected submissions should be made public.',\n",
    "            'desk_rejected_submissions_author_anonymity':'Yes, author identities of desk rejected submissions should be revealed.',\n",
    "            'How did you hear about us?': 'ML conferences',\n",
    "            'Expected Submissions': '100',\n",
    "            'use_recruitment_template': 'Yes',\n",
    "            'api_version': '2',\n",
    "            'submission_license': ['CC BY 4.0', 'CC BY-SA 4.0', 'CC0 1.0'] # Allow authors to select license\n",
    "        }))\n",
    "\n",
    "helpers.await_queue()\n",
    "\n",
    "# Deploy the conference\n",
    "\n",
    "client.post_note(openreview.Note(\n",
    "    content={'venue_id': 'TC/2024/Conference'},\n",
    "    forum=request_form_note.forum,\n",
    "    invitation='openreview.net/Support/-/Request{}/Deploy'.format(request_form_note.number),\n",
    "    readers=['openreview.net/Support'],\n",
    "    referent=request_form_note.forum,\n",
    "    replyto=request_form_note.forum,\n",
    "    signatures=['openreview.net/Support'],\n",
    "    writers=['openreview.net/Support']\n",
    "))\n",
    "\n",
    "helpers.await_queue()\n"
   ]
  },
  {
   "cell_type": "markdown",
   "metadata": {},
   "source": [
    "The venue will be shown here: http://localhost:3030/"
   ]
  },
  {
   "cell_type": "markdown",
   "metadata": {},
   "source": [
    "## Reviewer Recruitment Stage\n",
    "From: test_reviewer_recruitment()\n",
    "\n",
    "This section sets up and runs reviewer recruitment and shows a sample response from a reviewer"
   ]
  },
  {
   "cell_type": "code",
   "execution_count": 26,
   "metadata": {},
   "outputs": [],
   "source": [
    "# Set up reviewer recruitment\n",
    "pc_client=openreview.Client(username='pc@mail.com', password=helpers.strong_password)\n",
    "request_form=pc_client.get_notes(invitation='openreview.net/Support/-/Request_Form')[0]\n",
    "\n",
    "reviewer_details = '''reviewer1@mail.com, Reviewer One\\nreviewer2@mail.com, Reviewer Two'''\n",
    "pc_client.post_note(openreview.Note(\n",
    "    content={\n",
    "        'title': 'Recruitment',\n",
    "        'invitee_role': 'Reviewers',\n",
    "        'invitee_details': reviewer_details,\n",
    "        'allow_accept_with_reduced_load': 'Yes',\n",
    "        'invitee_reduced_load': [\"1\", \"2\", \"3\"],\n",
    "        'invitation_email_subject': 'Invitation to serve as {{invitee_role}}',\n",
    "        'invitation_email_content': 'Dear {{fullname}},\\n\\nYou have been nominated to serve as {{invitee_role}}.\\n\\n{{invitation_url}}\\n\\nCheers!\\n\\nProgram Chairs'\n",
    "    },\n",
    "    forum=request_form.forum,\n",
    "    replyto=request_form.forum,\n",
    "    invitation='openreview.net/Support/-/Request{}/Recruitment'.format(request_form.number),\n",
    "    readers=['TC/2024/Conference/Program_Chairs', 'openreview.net/Support'],\n",
    "    signatures=['~Program_Chair1'],\n",
    "    writers=[]\n",
    "))\n",
    "\n",
    "helpers.await_queue()"
   ]
  },
  {
   "cell_type": "code",
   "execution_count": 27,
   "metadata": {},
   "outputs": [
    {
     "name": "stdout",
     "output_type": "stream",
     "text": [
      "http://localhost:3030/invitation?id=TC/2024/Conference/Reviewers/-/Recruitment&user=reviewer1%40mail.com&key=f9f3bcfda5e52ce7a79c536ab7c0a66b8b1b9cc96161b9fbc09a06b7de61586e\n",
      "http://localhost:3030/invitation?id=TC/2024/Conference/Reviewers/-/Recruitment&user=reviewer2%40mail.com&key=6dbbb139634a4c21a702ff2657eb44d916edb3b00f6d8756f73f0c32998859ed\n"
     ]
    }
   ],
   "source": [
    "#example response: accept invitation with reduced load\n",
    "messages = openreview_client.get_messages(subject = 'Invitation to serve as Reviewer')\n",
    "\n",
    "for message in messages:\n",
    "    text = message['content']['text']\n",
    "    invitation_url = re.search('https://.*\\n', text).group(0).replace('https://openreview.net', 'http://localhost:3030').replace('&amp;', '&')[:-1]\n",
    "    print(invitation_url)\n",
    "    helpers.respond_invitation(selenium, request_page, invitation_url, accept=True, quota=3)\n",
    "\n",
    "helpers.await_queue_edit(openreview_client, invitation='TC/2024/Conference/Reviewers/-/Recruitment', count=2)\n"
   ]
  },
  {
   "cell_type": "markdown",
   "metadata": {},
   "source": [
    "## Make some submissions\n",
    "\n",
    "From: test_submissions()\n",
    "\n",
    "Sets up some sample submissions with the user author@mail.com + one coauthor with different domains. There are 12 sample submissions created.\n",
    "\n"
   ]
  },
  {
   "cell_type": "code",
   "execution_count": 28,
   "metadata": {},
   "outputs": [],
   "source": [
    "#get the author's client\n",
    "test_client = openreview.api.OpenReviewClient(token=test_client().token)\n",
    "request_form=client.get_notes(invitation='openreview.net/Support/-/Request_Form')[0]\n",
    "\n",
    "\n",
    "#post test submissions\n",
    "domains = ['umass.edu', 'amazon.com', 'fb.com', 'cs.umass.edu', 'google.com', 'mit.edu', 'deepmind.com', 'co.ux', 'apple.com', 'nvidia.com']\n",
    "for i in range(1,12):\n",
    "    note = openreview.api.Note(\n",
    "        license = 'CC BY-SA 4.0',\n",
    "        content = {\n",
    "            'title': { 'value': 'Paper title ' + str(i) },\n",
    "            'abstract': { 'value': 'This is an abstract ' + str(i) },\n",
    "            'authorids': { 'value': ['~SomeFirstName_User1', 'author@mail.com', 'andrew@' + domains[i % 10]] },\n",
    "            'authors': { 'value': ['SomeFirstName User', 'First Last', 'Andrew Mc'] },\n",
    "            'keywords': { 'value': ['machine learning', 'nlp'] },\n",
    "            'pdf': {'value': '/pdf/' + 'p' * 40 +'.pdf' },\n",
    "        }\n",
    "    )\n",
    "\n",
    "    test_client.post_note_edit(invitation='TC/2024/Conference/-/Submission',\n",
    "        signatures=['~SomeFirstName_User1'],\n",
    "        note=note)\n",
    "\n",
    "helpers.await_queue_edit(openreview_client, invitation='TC/2024/Conference/-/Submission', count=11)\n"
   ]
  },
  {
   "cell_type": "markdown",
   "metadata": {},
   "source": [
    "## Close abstract submission\n",
    "\n",
    "From: test_post_submission\n",
    "\n",
    "This section uses the Submission stage to close abstract submission- the field abstract_registration_deadline is updated to now - 28 minutes. "
   ]
  },
  {
   "cell_type": "code",
   "execution_count": 29,
   "metadata": {},
   "outputs": [],
   "source": [
    "pc_client=openreview.Client(username='pc@mail.com', password=helpers.strong_password)\n",
    "request_form=pc_client.get_notes(invitation='openreview.net/Support/-/Request_Form')[0]\n",
    "venue = openreview.get_conference(client, request_form.id, support_user='openreview.net/Support')\n",
    "\n",
    "## close abstract submission\n",
    "#update deadline to now\n",
    "now = datetime.datetime.utcnow()\n",
    "abstract_date = now - datetime.timedelta(minutes=28)\n",
    "due_date = now + datetime.timedelta(days=3)       \n",
    "\n",
    "pc_client.post_note(openreview.Note(\n",
    "    content={\n",
    "        'title': 'Test Conference',\n",
    "        'Official Venue Name': 'Test Conference',\n",
    "        'Abbreviated Venue Name': 'TC 2024',\n",
    "        'Official Website URL': 'https://testconference.com',\n",
    "        'program_chair_emails': ['pc@mail.com'],\n",
    "        'contact_email': 'pc@mail.com',\n",
    "        'publication_chairs':'No, our venue does not have Publication Chairs',\n",
    "        'Venue Start Date': '2024/07/01',\n",
    "        'abstract_registration_deadline': abstract_date.strftime('%Y/%m/%d'),\n",
    "        'Submission Deadline': due_date.strftime('%Y/%m/%d'),\n",
    "        'Location': 'Virtual',\n",
    "        'submission_reviewer_assignment': 'Automatic',\n",
    "        'How did you hear about us?': 'ML conferences',\n",
    "        'Expected Submissions': '100',\n",
    "    },\n",
    "    forum=request_form.forum,\n",
    "    invitation='openreview.net/Support/-/Request{}/Revision'.format(request_form.number),\n",
    "    readers=['TC/2024/Conference/Program_Chairs', 'openreview.net/Support'],\n",
    "    referent=request_form.forum,\n",
    "    replyto=request_form.forum,\n",
    "    signatures=['~Program_Chair1'],\n",
    "    writers=[]\n",
    "))\n",
    "\n",
    "helpers.await_queue()\n",
    "helpers.await_queue_edit(openreview_client, 'TC/2024/Conference/-/Post_Submission-0-1', count=2)\n",
    "helpers.await_queue_edit(openreview_client, 'TC/2024/Conference/-/Withdrawal-0-1', count=1)\n",
    "helpers.await_queue_edit(openreview_client, 'TC/2024/Conference/-/Desk_Rejection-0-1', count=1)"
   ]
  },
  {
   "cell_type": "markdown",
   "metadata": {},
   "source": [
    "## Close full paper submission\n",
    "From: test_post_submission\n",
    "\n",
    "The Submission stage is run a second time to close full paper submission- this time the submission deadline is updated."
   ]
  },
  {
   "cell_type": "code",
   "execution_count": 30,
   "metadata": {},
   "outputs": [],
   "source": [
    "## close full paper submission\n",
    "now = datetime.datetime.utcnow()\n",
    "abstract_date = now - datetime.timedelta(days=2)\n",
    "due_date = now - datetime.timedelta(minutes=28)        \n",
    "pc_client.post_note(openreview.Note(\n",
    "    content={\n",
    "        'title': 'Test Conference',\n",
    "        'Official Venue Name': 'Test Conference',\n",
    "        'Abbreviated Venue Name': 'TC 2024',\n",
    "        'Official Website URL': 'https://testconference.com',\n",
    "        'program_chair_emails': ['pc@mail.com'],\n",
    "        'contact_email': 'pc@mail.com',\n",
    "        'publication_chairs':'No, our venue does not have Publication Chairs',\n",
    "        'Venue Start Date': '2024/07/01',\n",
    "        'abstract_registration_deadline': abstract_date.strftime('%Y/%m/%d'),\n",
    "        'Submission Deadline': due_date.strftime('%Y/%m/%d'),\n",
    "        'Location': 'Virtual',\n",
    "        'submission_reviewer_assignment': 'Automatic',\n",
    "        'How did you hear about us?': 'ML conferences',\n",
    "        'Expected Submissions': '100',\n",
    "    },\n",
    "    forum=request_form.forum,\n",
    "    invitation='openreview.net/Support/-/Request{}/Revision'.format(request_form.number),\n",
    "    readers=['TC/2024/Conference/Program_Chairs', 'openreview.net/Support'],\n",
    "    referent=request_form.forum,\n",
    "    replyto=request_form.forum,\n",
    "    signatures=['~Program_Chair1'],\n",
    "    writers=[]\n",
    "))\n",
    "\n",
    "helpers.await_queue()\n",
    "helpers.await_queue_edit(openreview_client, 'TC/2024/Conference/-/Post_Submission-0-1', count=3)\n",
    "helpers.await_queue_edit(openreview_client, 'TC/2024/Conference/-/Withdrawal-0-1', count=2)\n",
    "helpers.await_queue_edit(openreview_client, 'TC/2024/Conference/-/Desk_Rejection-0-1', count=2)"
   ]
  },
  {
   "cell_type": "markdown",
   "metadata": {},
   "source": [
    "## Withdraw a submission / Reverse withdrawal\n",
    "From: test_submission_withdrawal"
   ]
  },
  {
   "cell_type": "code",
   "execution_count": 31,
   "metadata": {},
   "outputs": [],
   "source": [
    "#withdraw a paper\n",
    "test_client = openreview.api.OpenReviewClient(token=test_client.token)\n",
    "\n",
    "withdraw_note = test_client.post_note_edit(invitation='TC/2024/Conference/Submission11/-/Withdrawal',\n",
    "                            signatures=['TC/2024/Conference/Submission11/Authors'],\n",
    "                            note=openreview.api.Note(\n",
    "                                content={\n",
    "                                    'withdrawal_confirmation': { 'value': 'I have read and agree with the venue\\'s withdrawal policy on behalf of myself and my co-authors.' },\n",
    "                                }\n",
    "                            ))\n",
    "\n",
    "helpers.await_queue_edit(openreview_client, edit_id=withdraw_note['id'])\n",
    "\n",
    "note = test_client.get_note(withdraw_note['note']['forum'])\n",
    "\n",
    "helpers.await_queue_edit(openreview_client, invitation='TC/2024/Conference/-/Withdrawn_Submission')\n",
    "\n",
    "pc_openreview_client = openreview.api.OpenReviewClient(username='pc@mail.com', password=helpers.strong_password)\n",
    "\n"
   ]
  },
  {
   "cell_type": "code",
   "execution_count": 32,
   "metadata": {},
   "outputs": [],
   "source": [
    "# reverse withdrawal\n",
    "withdrawal_reversion_note = pc_openreview_client.post_note_edit(invitation='TC/2024/Conference/Submission11/-/Withdrawal_Reversion',\n",
    "                            signatures=['TC/2024/Conference/Program_Chairs'],\n",
    "                            note=openreview.api.Note(\n",
    "                                content={\n",
    "                                    'revert_withdrawal_confirmation': { 'value': 'We approve the reversion of withdrawn submission.' },\n",
    "                                }\n",
    "                            ))\n",
    "\n",
    "helpers.await_queue_edit(openreview_client, edit_id=withdrawal_reversion_note['id'])\n",
    "helpers.await_queue_edit(openreview_client, invitation='TC/2024/Conference/Submission11/-/Withdrawal_Reversion')\n",
    "\n"
   ]
  },
  {
   "cell_type": "markdown",
   "metadata": {},
   "source": [
    "## Desk reject a paper\n",
    "From: test_submission_withdrawal\n",
    "\n",
    "This allows you to reject a paper before it goes through review"
   ]
  },
  {
   "cell_type": "code",
   "execution_count": 33,
   "metadata": {},
   "outputs": [],
   "source": [
    "\n",
    "#desk-reject paper\n",
    "desk_reject_note = pc_openreview_client.post_note_edit(invitation=f'TC/2024/Conference/Submission11/-/Desk_Rejection',\n",
    "                            signatures=['TC/2024/Conference/Program_Chairs'],\n",
    "                            note=openreview.api.Note(\n",
    "                                content={\n",
    "                                    'desk_reject_comments': { 'value': 'Wrong format.' },\n",
    "                                }\n",
    "                            ))\n",
    "\n",
    "helpers.await_queue_edit(openreview_client, edit_id=desk_reject_note['id'])\n",
    "helpers.await_queue_edit(openreview_client, invitation='TC/2024/Conference/-/Desk_Rejected_Submission')\n"
   ]
  },
  {
   "cell_type": "markdown",
   "metadata": {},
   "source": [
    "## Review Stage\n",
    "from: test_review_stage\n",
    "\n",
    "This section sets up the review stage by setting up the stage and posting a test review"
   ]
  },
  {
   "cell_type": "code",
   "execution_count": 34,
   "metadata": {},
   "outputs": [],
   "source": [
    "\n",
    "openreview_client = openreview.api.OpenReviewClient(baseurl = 'http://localhost:3001', username='openreview.net', password=Helpers.strong_password)\n",
    "## add reviewers to group that didn't accept the invite\n",
    "openreview_client.add_members_to_group('TC/2024/Conference/Submission1/Reviewers', ['~Reviewer_One1', '~Reviewer_Two1'])\n",
    "\n",
    "\n",
    "#set up review stage\n",
    "now = datetime.datetime.utcnow()\n",
    "due_date = now + datetime.timedelta(days=3)\n",
    "pc_client=openreview.Client(username='pc@mail.com', password=helpers.strong_password)\n",
    "request_form=pc_client.get_notes(invitation='openreview.net/Support/-/Request_Form')[0]\n",
    "review_stage_note=pc_client.post_note(openreview.Note(\n",
    "    content={\n",
    "        'review_deadline': due_date.strftime('%Y/%m/%d'),\n",
    "        'make_reviews_public': 'No, reviews should NOT be revealed publicly when they are posted',\n",
    "        'release_reviews_to_authors': 'No, reviews should NOT be revealed when they are posted to the paper\\'s authors',\n",
    "        'release_reviews_to_reviewers': 'Review should not be revealed to any reviewer, except to the author of the review',\n",
    "        'email_program_chairs_about_reviews': 'No, do not email program chairs about received reviews',\n",
    "    },\n",
    "    forum=request_form.forum,\n",
    "    invitation='openreview.net/Support/-/Request{}/Review_Stage'.format(request_form.number),\n",
    "    readers=['TC/2024/Conference/Program_Chairs', 'openreview.net/Support'],\n",
    "    replyto=request_form.forum,\n",
    "    referent=request_form.forum,\n",
    "    signatures=['~Program_Chair1'],\n",
    "    writers=[]\n",
    "))\n",
    "helpers.await_queue()"
   ]
  },
  {
   "cell_type": "code",
   "execution_count": 35,
   "metadata": {},
   "outputs": [],
   "source": [
    " #post a test review\n",
    "invitation = openreview_client.get_invitation('TC/2024/Conference/Submission1/-/Official_Review')\n",
    "\n",
    "reviewer_client=openreview.api.OpenReviewClient(username='reviewer1@mail.com', password=helpers.strong_password)\n",
    "\n",
    "anon_groups = reviewer_client.get_groups(prefix='TC/2024/Conference/Submission1/Reviewer_', signatory='~Reviewer_One1')\n",
    "anon_group_id = anon_groups[0].id\n",
    "\n",
    "review_edit = reviewer_client.post_note_edit(\n",
    "    invitation='TC/2024/Conference/Submission1/-/Official_Review',\n",
    "    signatures=[anon_group_id],\n",
    "    note=openreview.api.Note(\n",
    "        content={\n",
    "            'title': { 'value': 'Good paper, accept'},\n",
    "            'review': { 'value': 'Excellent paper, accept'},\n",
    "            'rating': { 'value': 10},\n",
    "            'confidence': { 'value': 5},\n",
    "        }\n",
    "    )\n",
    ")\n",
    "\n",
    "helpers.await_queue_edit(openreview_client, edit_id=review_edit['id'])  "
   ]
  },
  {
   "cell_type": "markdown",
   "metadata": {},
   "source": [
    "## Comment stage\n",
    "from: test_comment_stage\n",
    "\n",
    "The comment stage lets users comment on a paper's forum page, allowing for dicsussion between reviewers, for example, and is often enabled along with the review stage."
   ]
  },
  {
   "cell_type": "code",
   "execution_count": 36,
   "metadata": {},
   "outputs": [],
   "source": [
    "#start the comment stage\n",
    "pc_client=openreview.Client(username='pc@mail.com', password=helpers.strong_password)\n",
    "pc_client_v2=openreview.api.OpenReviewClient(username='pc@mail.com', password=helpers.strong_password)\n",
    "request_form=pc_client.get_notes(invitation='openreview.net/Support/-/Request_Form')[0]\n",
    "\n",
    "# Post an official comment stage note\n",
    "now = datetime.datetime.utcnow()\n",
    "start_date = now - datetime.timedelta(days=2)\n",
    "end_date = now + datetime.timedelta(days=3)\n",
    "comment_stage_note = pc_client.post_note(openreview.Note(\n",
    "    content={\n",
    "        'commentary_start_date': start_date.strftime('%Y/%m/%d'),\n",
    "        'commentary_end_date': end_date.strftime('%Y/%m/%d'),\n",
    "        'participants': ['Program Chairs', 'Assigned Senior Area Chairs', 'Assigned Area Chairs', 'Assigned Reviewers'],\n",
    "        'additional_readers': ['Program Chairs', 'Assigned Senior Area Chairs', 'Assigned Area Chairs', 'Assigned Reviewers', 'Assigned Submitted Reviewers'],\n",
    "        'email_program_chairs_about_official_comments': 'Yes, email PCs for each official comment made in the venue'\n",
    "    },\n",
    "    forum=request_form.forum,\n",
    "    invitation=f'openreview.net/Support/-/Request{request_form.number}/Comment_Stage',\n",
    "    readers=['TC/2024/Conference/Program_Chairs', 'openreview.net/Support'],\n",
    "    replyto=request_form.forum,\n",
    "    referent=request_form.forum,\n",
    "    signatures=['~Program_Chair1'],\n",
    "    writers=[]\n",
    "))"
   ]
  },
  {
   "cell_type": "markdown",
   "metadata": {},
   "source": [
    "## Decision stage\n",
    "from: test_camera_ready_revision_stage\n",
    "\n",
    "After the review deadline has passed. This section programmatically accepts/declines invitations and puts that in a csv that is uploaded and used to send decisions. Then the decision stage is run.\n",
    "\n",
    "Note, this makes the decisions, then the post decision stage is what sends notifications"
   ]
  },
  {
   "cell_type": "code",
   "execution_count": 37,
   "metadata": {},
   "outputs": [],
   "source": [
    "## Programmatically accept / reject papers\n",
    "\n",
    "pc_client=openreview.Client(username='pc@mail.com', password=helpers.strong_password)\n",
    "request_form=pc_client.get_notes(invitation='openreview.net/Support/-/Request_Form')[0]\n",
    "\n",
    "decisions = ['Accept (Oral)', 'Accept (Poster)', 'Reject']\n",
    "comment = {\n",
    "    'Accept (Oral)': 'Congratulations on your acceptance.',\n",
    "    'Accept (Poster)': 'Congratulations on your acceptance.',\n",
    "    'Reject': 'We regret to inform you...'\n",
    "}\n",
    "\n",
    "submissions = openreview_client.get_notes(invitation='TC/2024/Conference/-/Submission', sort='number:asc')\n",
    "\n",
    "with open(os.path.join(os.path.abspath(''), 'data/ICML_decisions.csv'), 'w') as file_handle:\n",
    "    writer = csv.writer(file_handle)\n",
    "    writer.writerow([submissions[0].number, 'Accept (Oral)', comment[\"Accept (Oral)\"]])\n",
    "    writer.writerow([submissions[1].number, 'Accept (Poster)', comment[\"Accept (Poster)\"]])\n",
    "    writer.writerow([submissions[2].number, 'Reject', comment[\"Reject\"]])\n",
    "    for submission in submissions[3:]:\n",
    "        decision = random.choice(decisions)\n",
    "        writer.writerow([submission.number, decision, comment[decision]])\n",
    "\n",
    "decision_stage_invitation = f'openreview.net/Support/-/Request{request_form.number}/Decision_Stage'\n",
    "url = pc_client.put_attachment(os.path.join(os.path.abspath(''), 'data/ICML_decisions.csv'),\n",
    "                                    decision_stage_invitation, 'decisions_file')\n"
   ]
  },
  {
   "cell_type": "code",
   "execution_count": 38,
   "metadata": {},
   "outputs": [
    {
     "data": {
      "text/plain": [
       "Invitation(id = 'openreview.net/Support/-/Request1/Post_Decision_Stage',super = 'openreview.net/Support/-/Post_Decision_Stage',cdate = 1728075760188,ddate = None,duedate = None,expdate = None,readers = ['everyone'],nonreaders = None,writers = None,invitees = ['TC/2024/Conference/Program_Chairs', 'openreview.net/Support'],noninvitees = None,signatures = ['~Super_User1'],multiReply = True,taskCompletionCount = None,reply = {'readers': {'description': 'The users who will be allowed to read the above content.', 'values': ['TC/2024/Conference/Program_Chairs', 'openreview.net/Support']}, 'writers': {'values': []}, 'signatures': {'values-regex': '~.*'}, 'content': {'submission_readers': {'description': 'Please select who should have access to the submissions after the submission deadline. Note that program chairs and paper authors are always readers of submissions.', 'value-radio': ['All program committee (all reviewers, all area chairs, all senior area chairs if applicable)', 'All area chairs only', 'Assigned program committee (assigned reviewers, assigned area chairs, assigned senior area chairs if applicable)', 'Program chairs and paper authors only', 'Everyone (submissions are public)', 'Make accepted submissions public and hide rejected submissions'], 'required': True}, 'reveal_authors': {'description': 'Would you like to release author identities of submissions to the public?', 'value-radio': ['Reveal author identities of all submissions to the public', 'Reveal author identities of only accepted submissions to the public', \"No, I don't want to reveal any author identities.\"], 'required': True}, 'hide_fields': {'values-dropdown': ['keywords', 'TLDR', 'abstract', 'pdf'], 'required': False, 'description': 'Select which submission fields should be hidden. Author names will be hidden for double-blind conferences unless otherwise specified in the \"reveal_authors\" field above. These fields will be hidden from all readers of the submissions, except for program chairs and paper authors.'}, 'send_decision_notifications': {'description': 'Would you like to notify the authors regarding the decision? If yes, please carefully review the template below for each decision option before you click submit to send out the emails. Note that you can only send email notifications from the OpenReview UI once. If you need to send additional emails, you can do so by using the python client.', 'value-radio': ['Yes, send an email notification to the authors', 'No, I will send the emails to the authors'], 'required': True, 'default': 'No, I will send the emails to the authors'}, 'accept_(oral)_email_content': {'value-regex': '[\\\\S\\\\s]{1,10000}', 'description': 'Please carefully review the template below before you click submit to send out the emails. Make sure not to remove the parenthesized tokens.', 'default': 'Dear {{fullname}},\\n\\nThank you for submitting your paper, {{submission_title}}, to TC 2024. We are delighted to inform you that your submission has been accepted. Congratulations!\\nYou can find the final reviews for your paper on the submission page in OpenReview at: {{forum_url}}\\n\\nBest,\\nTC 2024 Program Chairs\\n'}, 'accept_(poster)_email_content': {'value-regex': '[\\\\S\\\\s]{1,10000}', 'description': 'Please carefully review the template below before you click submit to send out the emails. Make sure not to remove the parenthesized tokens.', 'default': 'Dear {{fullname}},\\n\\nThank you for submitting your paper, {{submission_title}}, to TC 2024. We are delighted to inform you that your submission has been accepted. Congratulations!\\nYou can find the final reviews for your paper on the submission page in OpenReview at: {{forum_url}}\\n\\nBest,\\nTC 2024 Program Chairs\\n'}, 'reject_email_content': {'value-regex': '[\\\\S\\\\s]{1,10000}', 'description': 'Please carefully review the template below before you click submit to send out the emails. Make sure not to remove the parenthesized tokens.', 'default': 'Dear {{fullname}},\\n                    \\nThank you for submitting your paper, {{submission_title}}, to TC 2024. We regret to inform you that your submission was not accepted.\\nYou can find the final reviews for your paper on the submission page in OpenReview at: {{forum_url}}\\n\\nBest,\\nTC 2024 Program Chairs\\n'}, 'home_page_tab_names': {'description': 'Change the name of the tab that you would like to use to list the papers by decision, please note the key must match with the decision options', 'value-dict': {}, 'default': {'Accept (Oral)': 'Accept (Oral)', 'Accept (Poster)': 'Accept (Poster)', 'Reject': 'Reject'}, 'required': False}}, 'forum': 'VC5bBQxFhg', 'referent': 'VC5bBQxFhg'},edit = None,tcdate = 1728075759248,tmdate = 1728075760195,bulk = None,details = None,reply_forum_views = [],responseArchiveDate = None,web = None,process = 'def process(client, note, invitation):\\n    import datetime\\n    import traceback\\n    import json\\n\\n    GROUP_PREFIX = \\'openreview.net\\'\\n    SUPPORT_GROUP = GROUP_PREFIX + \\'/Support\\'\\n    invitation_type = invitation.id.split(\\'/\\')[-1]\\n    forum_note = client.get_note(note.forum)\\n\\n    comment_readers = [forum_note.content.get(\\'venue_id\\') + \\'/Program_Chairs\\', SUPPORT_GROUP]\\n\\n    try:\\n        conference = openreview.helpers.get_conference(client, note.forum, SUPPORT_GROUP, setup=True)\\n        short_name = conference.get_short_name()\\n        comment_readers = [conference.get_program_chairs_id(), SUPPORT_GROUP]\\n        if invitation_type in [\\'Bid_Stage\\', \\'Review_Stage\\', \\'Meta_Review_Stage\\', \\'Decision_Stage\\', \\'Submission_Revision_Stage\\', \\'Comment_Stage\\']:\\n            conference.setup_post_submission_stage(hide_fields=forum_note.content.get(\\'hide_fields\\', []))\\n\\n        if invitation_type == \\'Revision\\':\\n            conference.create_submission_stage()\\n            submission_deadline = forum_note.content.get(\\'Submission Deadline\\', \\'\\').strip()\\n            if submission_deadline:\\n                try:\\n                    submission_deadline = datetime.datetime.strptime(submission_deadline, \\'%Y/%m/%d %H:%M\\')\\n                except ValueError:\\n                    submission_deadline = datetime.datetime.strptime(submission_deadline, \\'%Y/%m/%d\\')\\n                matching_invitation = openreview.tools.get_invitation(client, SUPPORT_GROUP + \\'/-/Request\\' + str(forum_note.number) + \\'/Paper_Matching_Setup\\')\\n                if matching_invitation:\\n                    matching_invitation.cdate = openreview.tools.datetime_millis(conference.submission_stage.due_date)\\n                    client.post_invitation(matching_invitation)\\n                revision_invitation = openreview.tools.get_invitation(client, conference.get_invitation_id(\\'Revision\\'))\\n                if revision_invitation and conference.submission_stage.second_due_date and not forum_note.content.get(\\'submission_revision_deadline\\'):\\n                    revision_invitation.duedate = openreview.tools.datetime_millis(submission_deadline)\\n                    revision_invitation.expdate = openreview.tools.datetime_millis(submission_deadline + datetime.timedelta(minutes=openreview.conference.invitation.SHORT_BUFFER_MIN))\\n                    client.post_invitation(revision_invitation)\\n            withdraw_submission_expiration = forum_note.content.get(\\'withdraw_submission_expiration\\', \\'\\').strip()\\n            if withdraw_submission_expiration:\\n                try:\\n                    withdraw_submission_expiration = datetime.datetime.strptime(withdraw_submission_expiration, \\'%Y/%m/%d %H:%M\\')\\n                except ValueError:\\n                    withdraw_submission_expiration = datetime.datetime.strptime(withdraw_submission_expiration, \\'%Y/%m/%d\\')\\n                paper_withdraw_super_invitation = openreview.tools.get_invitation(\\n                    client, conference.get_invitation_id(\\'Withdraw\\')\\n                )\\n                if paper_withdraw_super_invitation:\\n                    paper_withdraw_super_invitation.expdate = openreview.tools.datetime_millis(withdraw_submission_expiration)\\n                    client.post_invitation(paper_withdraw_super_invitation)\\n            recruitment_invitation = openreview.tools.get_invitation(client, SUPPORT_GROUP + \\'/-/Request\\' + str(forum_note.number) + \\'/Recruitment\\')\\n            remind_recruitment_invitation = openreview.tools.get_invitation(client, SUPPORT_GROUP + \\'/-/Request\\' + str(forum_note.number) + \\'/Remind_Recruitment\\')\\n            subject = f\\'[{short_name}] Invitation to serve as {{{{invitee_role}}}}\\'\\n            recruitment_links = f\\'\\'\\'To ACCEPT the invitation, please click on the following link:\\n\\n{{{{accept_url}}}}\\n\\nTo DECLINE the invitation, please click on the following link:\\n\\n{{{{decline_url}}}}\\'\\'\\'\\n\\n            if conference.use_recruitment_template or forum_note.content.get(\\'api_version\\') == \\'2\\':\\n                recruitment_links = f\\'\\'\\'To respond the invitation, please click on the following link:\\n\\n{{{{invitation_url}}}}\\'\\'\\'\\n            content = f\\'\\'\\'Dear {{{{fullname}}}},\\n\\nYou have been nominated by the program chair committee of {short_name} to serve as {{{{invitee_role}}}}. As a respected researcher in the area, we hope you will accept and help us make {short_name} a success.\\n\\nYou are also welcome to submit papers, so please also consider submitting to {short_name}.\\n\\nWe will be using OpenReview.net and a reviewing process that we hope will be engaging and inclusive of the whole community.\\n\\n{recruitment_links}\\n\\nPlease answer within 10 days.\\n\\nIf you accept, please make sure that your OpenReview account is updated and lists all the emails you are using. Visit http://openreview.net/profile after logging in.\\n\\nIf you have any questions, please contact {{{{contact_info}}}}.\\n\\nCheers!\\n\\nProgram Chairs\\n\\'\\'\\'\\n            if f\\'[{short_name}]\\' not in recruitment_invitation.reply[\\'content\\'][\\'invitation_email_subject\\'][\\'default\\']:\\n                recruitment_invitation.reply[\\'content\\'][\\'invitation_email_subject\\'] = {\\n                \\'value-regex\\': \\'.*\\',\\n                \\'description\\': \\'Please carefully review the email subject for the recruitment emails. Make sure not to remove the parenthesized tokens.\\',\\n                \\'order\\': 6,\\n                \\'required\\': True,\\n                \\'default\\': subject\\n                }\\n                recruitment_invitation.reply[\"content\"][\"invitation_email_content\"] ={\\n                \\'value-regex\\': \\'[\\\\\\\\S\\\\\\\\s]{1,10000}\\',\\n                \\'description\\': \\'Please carefully review the template below before you click submit to send out recruitment emails. Make sure not to remove the parenthesized tokens.\\',\\n                \\'order\\': 7,\\n                \\'required\\': True,\\n                \\'default\\': content\\n                }\\n                recruitment_invitation = client.post_invitation(recruitment_invitation)\\n            if f\\'[{short_name}]\\' not in remind_recruitment_invitation.reply[\\'content\\'][\\'invitation_email_subject\\'][\\'default\\']:\\n                remind_recruitment_invitation.reply[\\'content\\'][\\'invitation_email_subject\\'] = {\\n                \\'value-regex\\': \\'.*\\',\\n                \\'description\\': \\'Please carefully review the email subject for the recruitment emails. Make sure not to remove the parenthesized tokens.\\',\\n                \\'order\\': 6,\\n                \\'required\\': True,\\n                \\'default\\': subject\\n                }\\n                remind_recruitment_invitation.reply[\"content\"][\"invitation_email_content\"] ={\\n                \\'value-regex\\': \\'[\\\\\\\\S\\\\\\\\s]{1,10000}\\',\\n                \\'description\\': \\'Please carefully review the template below before you click submit to send out recruitment emails. Make sure not to remove the parenthesized tokens.\\',\\n                \\'order\\': 7,\\n                \\'required\\': True,\\n                \\'default\\': content\\n                }\\n                remind_recruitment_invitation = client.post_invitation(remind_recruitment_invitation)\\n            if max(len(conference.reviewer_roles), len(conference.area_chair_roles), len(conference.senior_area_chair_roles)) > 1:\\n                if recruitment_invitation:\\n                    recruitment_invitation.reply[\\'content\\'][\\'invitee_role\\'][\\'value-dropdown\\'] = conference.get_roles()\\n                    client.post_invitation(recruitment_invitation)\\n\\n                remind_recruitment_invitation = openreview.tools.get_invitation(client, SUPPORT_GROUP + \\'/-/Request\\' + str(forum_note.number) + \\'/Remind_Recruitment\\')\\n                if remind_recruitment_invitation:\\n                    remind_recruitment_invitation.reply[\\'content\\'][\\'invitee_role\\'][\\'value-dropdown\\'] = conference.get_roles()\\n                    client.post_invitation(remind_recruitment_invitation)\\n\\n                paper_matching_invitation = openreview.tools.get_invitation(client, SUPPORT_GROUP + \\'/-/Request\\' + str(forum_note.number) + \\'/Paper_Matching_Setup\\')\\n                if paper_matching_invitation:\\n                    paper_matching_invitation.reply[\\'content\\'][\\'matching_group\\'][\\'value-dropdown\\'] = [conference.get_committee_id(r) for r in conference.reviewer_roles]\\n                    paper_matching_invitation.reply[\\'content\\'][\\'matching_group\\'][\\'value-dropdown\\'] = paper_matching_invitation.reply[\\'content\\'][\\'matching_group\\'][\\'value-dropdown\\'] + [conference.get_committee_id(r) for r in conference.area_chair_roles]\\n                    paper_matching_invitation.reply[\\'content\\'][\\'matching_group\\'][\\'value-dropdown\\'] = paper_matching_invitation.reply[\\'content\\'][\\'matching_group\\'][\\'value-dropdown\\'] + [conference.get_committee_id(r) for r in conference.senior_area_chair_roles]\\n                    client.post_invitation(paper_matching_invitation)\\n\\n            \\n            submission_tracks = conference.submission_tracks()\\n            if submission_tracks:\\n                paper_matching_invitation = openreview.tools.get_invitation(client, SUPPORT_GROUP + \\'/-/Request\\' + str(forum_note.number) + \\'/Paper_Matching_Setup\\')\\n                if paper_matching_invitation:\\n                    paper_matching_invitation.reply[\\'content\\'][\\'submission_track\\'] = {\\n                        \\'value-dropdown\\': submission_tracks,\\n                        \\'required\\': False,\\n                        \\'description\\': \\'Select the submission track that you would like to assign to this paper matching group. If you do not select a track, this group will be assigned to all submissions.\\',\\n                        \\'order\\': 15\\n                    }\\n                    client.post_invitation(paper_matching_invitation)\\n\\n\\n            if conference.use_ethics_chairs or conference.use_ethics_reviewers:\\n                client.post_invitation(openreview.Invitation(\\n                    id = SUPPORT_GROUP + \\'/-/Request\\' + str(forum_note.number) + \\'/Ethics_Review_Stage\\',\\n                    super = SUPPORT_GROUP + \\'/-/Ethics_Review_Stage\\',\\n                    invitees = [conference.get_program_chairs_id(), SUPPORT_GROUP],\\n                    reply = {\\n                        \\'forum\\': forum_note.id,\\n                        \\'referent\\': forum_note.id,\\n                        \\'readers\\': {\\n                            \\'description\\': \\'The users who will be allowed to read the above content.\\',\\n                            \\'values\\' : [conference.get_program_chairs_id(), SUPPORT_GROUP]\\n                        }\\n                    },\\n                    signatures = [\\'~Super_User1\\']\\n                ))\\n\\n                recruitment_invitation = openreview.tools.get_invitation(client, SUPPORT_GROUP + \\'/-/Request\\' + str(forum_note.number) + \\'/Recruitment\\')\\n                if recruitment_invitation:\\n                    recruitment_invitation.reply[\\'content\\'][\\'invitee_role\\'][\\'value-dropdown\\'] = conference.get_roles()\\n                    client.post_invitation(recruitment_invitation)\\n\\n                remind_recruitment_invitation = openreview.tools.get_invitation(client, SUPPORT_GROUP + \\'/-/Request\\' + str(forum_note.number) + \\'/Remind_Recruitment\\')\\n                if remind_recruitment_invitation:\\n                    remind_recruitment_invitation.reply[\\'content\\'][\\'invitee_role\\'][\\'value-dropdown\\'] = conference.get_roles()\\n                    client.post_invitation(remind_recruitment_invitation)\\n            now = datetime.datetime.utcnow()\\n            if (\\n                    conference.submission_stage.second_due_date and conference.submission_stage.second_due_date < now) or (\\n                    conference.submission_stage.due_date and conference.submission_stage.due_date < now):\\n                revision_notes = client.get_references(\\n                    referent=forum_note.id,\\n                    invitation=\\'{support_group}/-/Request{number}/Revision\\'.format(\\n                        support_group=SUPPORT_GROUP, number=forum_note.number),\\n                    limit=2\\n                )\\n                update_withdraw = False\\n                update_desk_reject = False\\n                if len(revision_notes) < 2:\\n                    update_withdraw = True\\n                    update_desk_reject = True\\n                else:\\n                    for key in [\\'withdrawn_submissions_author_anonymity\\', \\'withdrawn_submissions_visibility\\', \\'email_pcs_for_withdrawn_submissions\\']:\\n                        if revision_notes[0].content.get(key) != revision_notes[-1].content.get(key):\\n                            update_withdraw = True\\n                            break\\n                    for key in [\\'desk_rejected_submissions_visibility\\', \\'desk_rejected_submissions_author_anonymity\\']:\\n                        if revision_notes[0].content.get(key) != revision_notes[-1].content.get(key):\\n                            update_desk_reject = True\\n                            break\\n                if update_withdraw:\\n                    conference.create_withdraw_invitations(\\n                        reveal_authors=conference.submission_stage.withdrawn_submission_reveal_authors,\\n                        reveal_submission=conference.submission_stage.withdrawn_submission_public,\\n                        email_pcs=conference.submission_stage.email_pcs_on_withdraw,\\n                        hide_fields=forum_note.content.get(\\'hide_fields\\', [])\\n                    )\\n                if update_desk_reject:\\n                    conference.create_desk_reject_invitations(\\n                        reveal_authors=conference.submission_stage.desk_rejected_submission_reveal_authors,\\n                        reveal_submission=conference.submission_stage.desk_rejected_submission_public,\\n                        hide_fields=forum_note.content.get(\\'hide_fields\\', [])\\n                    )\\n\\n                if forum_note.content.get(\\'api_version\\') == \\'2\\' and forum_note.content.get(\\'publication_chairs\\', \\'No\\') == \\'Yes, our venue has Publication Chairs\\':\\n                    submission_revision_inv = client.get_invitation(f\\'{SUPPORT_GROUP}/-/Request{forum_note.number}/Submission_Revision_Stage\\')\\n                    if conference.get_publication_chairs_id() not in submission_revision_inv.invitees:\\n                        invitees = submission_revision_inv.invitees\\n                        invitees.append(conference.get_publication_chairs_id())\\n                        submission_revision_inv.invitees = invitees\\n                        submission_revision_inv.reply[\\'readers\\'][\\'values\\'] = invitees\\n                        client.post_invitation(submission_revision_inv)\\n\\n            if forum_note.content.get(\\'api_version\\') == \\'2\\':\\n                #update post submission hide_fields\\n                submission_content = conference.submission_stage.get_content(api_version=\\'2\\', conference=conference)\\n                hide_fields = [key for key in submission_content.keys() if key not in [\\'title\\', \\'authors\\', \\'authorids\\', \\'venue\\', \\'venueid\\'] and \\'delete\\' not in submission_content[key]]\\n                second_deadline_fields = forum_note.content.get(\\'second_deadline_additional_options\\', {})\\n                if second_deadline_fields:\\n                    fields = list(second_deadline_fields.keys())\\n                    for field in fields:\\n                        if field not in hide_fields and \\'delete\\' not in second_deadline_fields[field]:\\n                            hide_fields.append(field)\\n                content = {\\n                    \\'submission_readers\\': {\\n                        \\'description\\': \\'Please select who should have access to the submissions after the submission deadline. Note that program chairs and paper authors are always readers of submissions.\\',\\n                        \\'value-radio\\': [\\n                            \\'All program committee (all reviewers, all area chairs, all senior area chairs if applicable)\\',\\n                            \\'All area chairs only\\',\\n                            \\'Assigned program committee (assigned reviewers, assigned area chairs, assigned senior area chairs if applicable)\\',\\n                            \\'Program chairs and paper authors only\\',\\n                            \\'Everyone (submissions are public)\\'\\n                        ],\\n                        \\'required\\': True\\n                    },\\n                    \\'force\\': {\\n                        \\'value-radio\\': [\\'Yes\\', \\'No\\'],\\n                        \\'required\\': True,\\n                        \\'description\\': \\'Force creating blind submissions if conference is double blind\\'\\n                    },\\n                    \\'hide_fields\\': {\\n                        \\'values-dropdown\\': hide_fields,\\n                        \\'required\\': False,\\n                        \\'description\\': \\'Select which submission fields should be hidden if conference is double blind. Author names are already hidden. These fields will be hidden from all readers of the submissions, except for program chairs and paper authors.\\'\\n                    }\\n                }\\n\\n                client.post_invitation(openreview.Invitation(\\n                    id = SUPPORT_GROUP + \\'/-/Request\\' + str(forum_note.number) + \\'/Post_Submission\\',\\n                    super = SUPPORT_GROUP + \\'/-/Post_Submission\\',\\n                    invitees = [conference.get_program_chairs_id(), SUPPORT_GROUP],\\n                    reply = {\\n                        \\'forum\\': forum_note.id,\\n                        \\'referent\\': forum_note.id,\\n                        \\'readers\\': {\\n                            \\'description\\': \\'The users who will be allowed to read the above content.\\',\\n                            \\'values\\' : [conference.get_program_chairs_id(), SUPPORT_GROUP]\\n                        },\\n                        \\'content\\': content\\n                    },\\n                    signatures = [\\'~Super_User1\\']\\n                ))\\n\\n        elif invitation_type == \\'Bid_Stage\\':\\n            conference.create_bid_stages()\\n\\n        elif invitation_type.endswith(\\'_Registration\\'):\\n            conference.create_registration_stages()\\n\\n        elif invitation_type == \\'Review_Stage\\':\\n            conference.create_review_stage()\\n\\n            if forum_note.content.get(\\'api_version\\') == \\'2\\':\\n\\n                review_due_date = forum_note.content.get(\\'review_deadline\\').strip()\\n                cdate = openreview.tools.datetime_millis(datetime.datetime.utcnow())\\n                if review_due_date:\\n                    try:\\n                        review_due_date = datetime.datetime.strptime(review_due_date, \\'%Y/%m/%d %H:%M\\')\\n                    except ValueError:\\n                        review_due_date = datetime.datetime.strptime(review_due_date, \\'%Y/%m/%d\\')\\n                    cdate = openreview.tools.datetime_millis(review_due_date)\\n\\n                client.post_invitation(openreview.Invitation(\\n                    id = SUPPORT_GROUP + \\'/-/Request\\' + str(forum_note.number) + \\'/Rebuttal_Stage\\',\\n                    super = SUPPORT_GROUP + \\'/-/Rebuttal_Stage\\',\\n                    invitees = [conference.get_program_chairs_id(), SUPPORT_GROUP],\\n                    cdate = cdate,\\n                    reply = {\\n                        \\'forum\\': forum_note.id,\\n                        \\'referent\\': forum_note.id,\\n                        \\'readers\\': {\\n                            \\'description\\': \\'The users who will be allowed to read the above content.\\',\\n                            \\'values\\' : [conference.get_program_chairs_id(), SUPPORT_GROUP]\\n                        }\\n                    },\\n                    signatures = [\\'~Super_User1\\']\\n                ))\\n\\n                review_rating_stage_content = {\\n                    \\'review_rating_start_date\\': {\\n                        \\'description\\': \\'When does the review rating stage begin? Please enter a time and date in GMT using the following format: YYYY/MM/DD HH:MM(e.g. 2019/01/31 23:59)\\',\\n                        \\'value-regex\\': r\\'^[0-9]{4}\\\\/([1-9]|0[1-9]|1[0-2])\\\\/([1-9]|0[1-9]|[1-2][0-9]|3[0-1])(\\\\s+)?((2[0-3]|[01][0-9]|[0-9]):[0-5][0-9])?(\\\\s+)?$\\',\\n                        \\'order\\': 1\\n                    },\\n                    \\'review_rating_deadline\\': {\\n                        \\'description\\': \\'When does the review rating stage end? Please enter a time and date in GMT using the following format: YYYY/MM/DD HH:MM (e.g. 2019/01/31 23:59)\\',\\n                        \\'value-regex\\': r\\'^[0-9]{4}\\\\/([1-9]|0[1-9]|1[0-2])\\\\/([1-9]|0[1-9]|[1-2][0-9]|3[0-1])(\\\\s+)?((2[0-3]|[01][0-9]|[0-9]):[0-5][0-9])?(\\\\s+)?$\\',\\n                        \\'required\\': True,\\n                        \\'order\\': 2\\n                    },\\n                    \\'review_rating_expiration_date\\': {\\n                        \\'description\\': \\'After this date, no more review ratings can be submitted. This is the hard deadline users will not be able to see. Please enter a time and date in GMT using the following format: YYYY/MM/DD HH:MM (e.g. 2019/01/31 23:59). Default is 30 minutes after the review rating deadline.\\',\\n                        \\'value-regex\\': r\\'^[0-9]{4}\\\\/([1-9]|0[1-9]|1[0-2])\\\\/([1-9]|0[1-9]|[1-2][0-9]|3[0-1])(\\\\s+)?((2[0-3]|[01][0-9]|[0-9]):[0-5][0-9])?(\\\\s+)?$\\',\\n                        \\'required\\': False,\\n                        \\'order\\': 3\\n                    },\\n                    \\'release_to_senior_area_chairs\\': {\\n                        \\'description\\': \\'Should the review ratings be visible to paper\\\\\\'s senior area chairs immediately upon posting?\\',\\n                        \\'value-radio\\': [\\n                            \\'Yes, review ratings should be revealed when they are posted to the paper\\\\\\'s senior area chairs\\',\\n                            \\'No, review ratings should NOT be revealed when they are posted to the paper\\\\\\'s senior area chairs\\'\\n                        ],\\n                        \\'required\\': True,\\n                        \\'default\\': \\'No, review ratings should NOT be revealed when they are posted to the paper\\\\\\'s senior area chairs\\',\\n                        \\'order\\': 4\\n                    },\\n                    \\'review_rating_form_options\\': {\\n                        \\'order\\': 5,\\n                        \\'value-dict\\': {},\\n                        \\'required\\': True,\\n                        \\'description\\': \\'Configure the fields in the review rating form. Use lowercase for the field names and underscores to represent spaces. The UI will auto-format the names, for example: supplementary_material -> Supplementary Material. Valid JSON expected.\\',\\n                        \\'default\\': {\\n                            \\'review_quality\\': {\\n                                \\'order\\': 1,\\n                                \\'description\\': \\'How helpful is this review?\\',\\n                                \\'value\\': {\\n                                    \\'param\\': {\\n                                        \\'type\\': \\'integer\\',\\n                                        \\'input\\': \\'radio\\',\\n                                        \\'enum\\': [\\n                                            {\\'value\\': 0, \\'description\\': \\'0: below expectations\\'},\\n                                            {\\'value\\': 1, \\'description\\': \\'1: meets expectations\\'},\\n                                            {\\'value\\': 2, \\'description\\': \\'2: exceeds expectations\\'}\\n                                        ]\\n                                    }\\n                                }\\n                            }\\n                        }\\n                    }\\n                }\\n\\n                if \\'No\\' in forum_note.content.get(\\'senior_area_chairs\\', \\'No\\'):\\n                    del review_rating_stage_content[\\'release_to_senior_area_chairs\\']\\n\\n                client.post_invitation(openreview.Invitation(\\n                    id = SUPPORT_GROUP + \\'/-/Request\\' + str(forum_note.number) + \\'/Review_Rating_Stage\\',\\n                    super = SUPPORT_GROUP + \\'/-/Review_Rating_Stage\\',\\n                    invitees = [conference.get_program_chairs_id(), SUPPORT_GROUP],\\n                    cdate = cdate,\\n                    reply = {\\n                        \\'forum\\': forum_note.id,\\n                        \\'referent\\': forum_note.id,\\n                        \\'readers\\' : {\\n                            \\'description\\': \\'The users who will be allowed to read the above content.\\',\\n                            \\'values\\' : [conference.get_program_chairs_id(), SUPPORT_GROUP]\\n                        },\\n                        \\'content\\': review_rating_stage_content\\n                    },\\n                    signatures = [\\'~Super_User1\\']\\n                ))\\n\\n        elif invitation_type == \\'Rebuttal_Stage\\':\\n            conference.create_review_rebuttal_stage()\\n\\n        elif invitation_type == \\'Ethics_Review_Stage\\':\\n            conference.create_ethics_review_stage()\\n\\n        elif invitation_type == \\'Meta_Review_Stage\\':\\n            conference.create_meta_review_stage()\\n\\n        elif invitation_type == \\'Decision_Stage\\':\\n            # check if decisions file has changed from previous revision\\n            decision_stage_notes = client.get_references(\\n                referent=forum_note.id,\\n                invitation=f\\'{SUPPORT_GROUP}/-/Request{forum_note.number}/Decision_Stage\\',\\n                limit=2\\n            )\\n            if len(decision_stage_notes) > 1:\\n                previous_decisions_file = decision_stage_notes[-1].content.get(\\'decisions_file\\', \\'\\')\\n                if previous_decisions_file == forum_note.content.get(\\'decisions_file\\', \\'\\'):\\n                    conference.decision_stage.decisions_file = None\\n            conference.create_decision_stage()\\n\\n            content = {\\n                \\'submission_readers\\': {\\n                    \\'description\\': \\'Please select who should have access to the submissions after the submission deadline. Note that program chairs and paper authors are always readers of submissions.\\',\\n                    \\'value-radio\\': [\\n                        \\'All program committee (all reviewers, all area chairs, all senior area chairs if applicable)\\',\\n                        \\'All area chairs only\\',\\n                        \\'Assigned program committee (assigned reviewers, assigned area chairs, assigned senior area chairs if applicable)\\',\\n                        \\'Program chairs and paper authors only\\',\\n                        \\'Everyone (submissions are public)\\',\\n                        \\'Make accepted submissions public and hide rejected submissions\\'\\n                    ],\\n                    \\'required\\': True\\n                }\\n            }\\n\\n            if (forum_note.content.get(\\'Author and Reviewer Anonymity\\', \\'\\') == \"Double-blind\"):\\n                content[\\'reveal_authors\\'] = {\\n                    \\'description\\': \\'Would you like to release author identities of submissions to the public?\\',\\n                    \\'value-radio\\': [\\n                        \\'Reveal author identities of all submissions to the public\\',\\n                        \\'Reveal author identities of only accepted submissions to the public\\',\\n                        \\'No, I don\\\\\\'t want to reveal any author identities.\\'],\\n                    \\'required\\': True\\n                }\\n\\n            if forum_note.content.get(\\'api_version\\') == \\'2\\':\\n                #update post decision hide_fields\\n                submission_content = conference.submission_stage.get_content(api_version=\\'2\\', conference=conference)\\n                hide_fields = [key for key in submission_content.keys() if key not in [\\'title\\', \\'authors\\', \\'authorids\\', \\'venue\\', \\'venueid\\'] and \\'delete\\' not in submission_content[key]]\\n                content[\\'hide_fields\\'] = {\\n                    \\'values-dropdown\\': hide_fields,\\n                    \\'required\\': False,\\n                    \\'description\\': \\'Select which submission fields should be hidden. Author names will be hidden for double-blind conferences unless otherwise specified in the \"reveal_authors\" field above. These fields will be hidden from all readers of the submissions, except for program chairs and paper authors.\\'\\n                }\\n\\n            decision_options = forum_note.content.get(\\'decision_options\\')\\n            if decision_options:\\n                decision_options = [s.translate(str.maketrans(\\'\\', \\'\\', \\'\"\\\\\\'\\')).strip() for s in decision_options.split(\\',\\')]\\n            else:\\n                decision_options = [\\'Accept (Oral)\\', \\'Accept (Poster)\\', \\'Reject\\']\\n\\n            accept_decision_options = forum_note.content.get(\\'accept_decision_options\\')\\n            if accept_decision_options:\\n                accept_decision_options = [s.translate(str.maketrans(\\'\\', \\'\\', \\'\"\\\\\\'\\')).strip() for s in accept_decision_options.split(\\',\\')]\\n\\n            content[\\'send_decision_notifications\\'] = {\\n                \\'description\\': \\'Would you like to notify the authors regarding the decision? If yes, please carefully review the template below for each decision option before you click submit to send out the emails. Note that you can only send email notifications from the OpenReview UI once. If you need to send additional emails, you can do so by using the python client.\\',\\n                \\'value-radio\\': [\\n                    \\'Yes, send an email notification to the authors\\',\\n                    \\'No, I will send the emails to the authors\\'\\n                ],\\n                \\'required\\': True,\\n                \\'default\\': \\'No, I will send the emails to the authors\\'\\n            }\\n\\n            for decision in decision_options:\\n                if openreview.tools.is_accept_decision(decision, accept_decision_options):\\n                    content[f\\'{decision.lower().replace(\" \", \"_\")}_email_content\\'] = {\\n                        \\'value-regex\\': \\'[\\\\\\\\S\\\\\\\\s]{1,10000}\\',\\n                        \\'description\\': \\'Please carefully review the template below before you click submit to send out the emails. Make sure not to remove the parenthesized tokens.\\',\\n                        \\'default\\': f\\'\\'\\'Dear {{{{fullname}}}},\\n\\nThank you for submitting your paper, {{{{submission_title}}}}, to {short_name}. We are delighted to inform you that your submission has been accepted. Congratulations!\\nYou can find the final reviews for your paper on the submission page in OpenReview at: {{{{forum_url}}}}\\n\\nBest,\\n{short_name} Program Chairs\\n\\'\\'\\'\\n                    }\\n                else:\\n                    content[f\\'{decision.lower().replace(\" \", \"_\")}_email_content\\'] = {\\n                        \\'value-regex\\': \\'[\\\\\\\\S\\\\\\\\s]{1,10000}\\',\\n                        \\'description\\': \\'Please carefully review the template below before you click submit to send out the emails. Make sure not to remove the parenthesized tokens.\\',\\n                        \\'default\\': f\\'\\'\\'Dear {{{{fullname}}}},\\n                    \\nThank you for submitting your paper, {{{{submission_title}}}}, to {short_name}. We regret to inform you that your submission was not accepted.\\nYou can find the final reviews for your paper on the submission page in OpenReview at: {{{{forum_url}}}}\\n\\nBest,\\n{short_name} Program Chairs\\n\\'\\'\\'\\n                    }\\n\\n            content[\\'home_page_tab_names\\'] = {\\n                \\'description\\': \\'Change the name of the tab that you would like to use to list the papers by decision, please note the key must match with the decision options\\',\\n                \\'value-dict\\': {},\\n                \\'default\\': { o:o for o in decision_options},\\n                \\'required\\': False\\n            }\\n\\n            decision_due_date = forum_note.content.get(\\'decision_deadline\\').strip()\\n            cdate = datetime.datetime.utcnow()\\n            if decision_due_date:\\n                try:\\n                    decision_due_date = datetime.datetime.strptime(decision_due_date, \\'%Y/%m/%d %H:%M\\')\\n                except ValueError:\\n                    decision_due_date = datetime.datetime.strptime(decision_due_date, \\'%Y/%m/%d\\')\\n                cdate = openreview.tools.datetime_millis(decision_due_date)\\n\\n            client.post_invitation(openreview.Invitation(\\n                id = SUPPORT_GROUP + \\'/-/Request\\' + str(forum_note.number) + \\'/Post_Decision_Stage\\',\\n                super = SUPPORT_GROUP + \\'/-/Post_Decision_Stage\\',\\n                invitees = [conference.get_program_chairs_id(), SUPPORT_GROUP],\\n                cdate = cdate,\\n                reply = {\\n                    \\'forum\\': forum_note.id,\\n                    \\'referent\\': forum_note.id,\\n                    \\'readers\\' : {\\n                        \\'description\\': \\'The users who will be allowed to read the above content.\\',\\n                        \\'values\\' : [conference.get_program_chairs_id(), SUPPORT_GROUP]\\n                    },\\n                    \\'content\\': content\\n                },\\n                signatures = [\\'~Super_User1\\']\\n            ))\\n\\n        elif invitation_type == \\'Submission_Revision_Stage\\':\\n            submission_revision_stage_notes = client.get_references(\\n                referent=forum_note.id,\\n                invitation=\\'{support_group}/-/Request{number}/Submission_Revision_Stage\\'.format(\\n                    support_group=SUPPORT_GROUP, number=forum_note.number),\\n                limit=2\\n            )\\n            if len(submission_revision_stage_notes) > 1:\\n                last_submission_revision_stage_note = submission_revision_stage_notes[-1]\\n                expire_revision_stage_name = last_submission_revision_stage_note.content.get(\\'submission_revision_name\\',\\n                                                                                             \\'Revision\\')\\n                expire_revision_stage_name = expire_revision_stage_name.replace(\" \", \"_\")\\n            else:\\n                expire_revision_stage_name = \\'Revision\\'\\n            if expire_revision_stage_name != forum_note.content.get(\\'submission_revision_name\\', \\'\\').strip().replace(\" \", \"_\"):\\n                conference.expire_invitation(conference.get_invitation_id(expire_revision_stage_name))\\n            conference.create_submission_revision_stage()\\n\\n        elif invitation_type == \\'Comment_Stage\\':\\n            conference.create_comment_stage()\\n\\n        elif invitation_type == \\'Post_Decision_Stage\\':\\n            #expire post_submission invitation\\n            post_submission_inv = openreview.tools.get_invitation(client, SUPPORT_GROUP + \\'/-/Request\\' + str(forum_note.number) + \\'/Post_Submission\\')\\n            if post_submission_inv:\\n                post_submission_inv.expdate = openreview.tools.datetime_millis(datetime.datetime.now())\\n                client.post_invitation(post_submission_inv)\\n\\n            reveal_all_authors=reveal_authors_accepted=False\\n            submission_readers=None\\n            if \\'reveal_authors\\' in forum_note.content:\\n                reveal_all_authors=forum_note.content.get(\\'reveal_authors\\') == \\'Reveal author identities of all submissions to the public\\'\\n                reveal_authors_accepted=forum_note.content.get(\\'reveal_authors\\') == \\'Reveal author identities of only accepted submissions to the public\\'\\n            if \\'release_submissions\\' in forum_note.content:\\n                if \\'Release only accepted submission to the public\\' in forum_note.content[\\'release_submissions\\']:\\n                    submission_readers=[openreview.stages.SubmissionStage.Readers.EVERYONE_BUT_REJECTED]\\n                elif \\'Release all submissions to the public\\' in forum_note.content[\\'release_submissions\\']:\\n                    submission_readers=[openreview.stages.SubmissionStage.Readers.EVERYONE]\\n                elif \\'No, I don\\\\\\'t want to release any submissions\\' in forum_note.content[\\'release_submissions\\']:\\n                    submission_readers=[openreview.stages.SubmissionStage.Readers.SENIOR_AREA_CHAIRS_ASSIGNED, openreview.stages.SubmissionStage.Readers.AREA_CHAIRS_ASSIGNED, openreview.stages.SubmissionStage.Readers.REVIEWERS_ASSIGNED]\\n\\n            conference.post_decision_stage(reveal_all_authors,reveal_authors_accepted,decision_heading_map=forum_note.content.get(\\'home_page_tab_names\\'), submission_readers=submission_readers, hide_fields=forum_note.content.get(\\'hide_fields\\', []))\\n            if note.content.get(\\'send_decision_notifications\\') == \\'Yes, send an email notification to the authors\\':\\n                decision_options = forum_note.content.get(\\n                    \\'decision_options\\',\\n                    \\'Accept (Oral), Accept (Poster), Reject\\'\\n                )\\n                decision_options = [s.translate(str.maketrans(\\'\\', \\'\\', \\'\"\\\\\\'\\')).strip() for s in decision_options.split(\\',\\')]\\n                email_messages = {\\n                    decision: note.content[f\\'{decision.lower().replace(\" \", \"_\")}_email_content\\']\\n                    for decision in decision_options\\n                }\\n                conference.send_decision_notifications(decision_options, email_messages)\\n\\n                if forum_note.content.get(\\'api_version\\', \\'1\\') == \\'2\\':\\n\\n                    notes = client.get_notes(invitation=SUPPORT_GROUP+\\'/-/Request\\'+str(forum_note.number)+\\'/Comment\\')\\n                    posted_status = False\\n                    for note in notes:\\n                        if note.content.get(\\'title\\', \\'\\') == \\'Decision Notification Status\\':\\n                            posted_status = True\\n                            break\\n\\n                    if not posted_status:\\n                        comment_note = openreview.Note(\\n                            invitation = SUPPORT_GROUP + \\'/-/Request\\' + str(forum_note.number) + \\'/Comment\\',\\n                            forum = forum_note.id,\\n                            replyto = forum_note.id,\\n                            readers = comment_readers,\\n                            writers = [SUPPORT_GROUP],\\n                            signatures = [SUPPORT_GROUP],\\n                            content = {\\n                                \\'title\\': \\'Decision Notification Status\\',\\n                                \\'comment\\': f\\'Decision notifications have been sent to the authors. You can check the status of the emails by clicking on this link: https://openreview.net/messages?parentGroup={conference.id}/Authors\\',\\n                            }\\n                        )\\n                        client.post_note(comment_note)\\n\\n            if forum_note.content.get(\\'accepted_submissions_only\\', \\'\\') == \\'Enable revision for accepted submissions only\\':\\n                conference.create_submission_revision_stage()\\n\\n            # update Submission_Revision_stage invitation\\n            if forum_note.content.get(\\'reveal_authors\\') == \\'Reveal author identities of only accepted submissions to the public\\':\\n                revision_stage_inv = openreview.tools.get_invitation(client, SUPPORT_GROUP + \\'/-/Request\\' + str(forum_note.number) + \\'/Submission_Revision_Stage\\')\\n                if revision_stage_inv:\\n                    content = revision_stage_inv.reply[\\'content\\']\\n                    content[\\'accepted_submissions_only\\'] = {\\n                        \\'description\\': \\'At this point, revisions can only be enabled for accepted submissions. If you would like to enable revisions for rejected submissions as well, please contact us at info@openreview.net.\\',\\n                        \\'value-radio\\': [\\n                            \\'Enable revision for accepted submissions only\\',\\n                        ],\\n                        \\'default\\': \\'Enable revision for accepted submissions only\\',\\n                        \\'required\\': True,\\n                        \\'order\\': 4\\n                    }\\n                    client.post_invitation(openreview.Invitation(\\n                        id = SUPPORT_GROUP + \\'/-/Request\\' + str(forum_note.number) + \\'/Submission_Revision_Stage\\',\\n                        super = SUPPORT_GROUP + \\'/-/Submission_Revision_Stage\\',\\n                        invitees = [conference.get_program_chairs_id(), SUPPORT_GROUP],\\n                        reply = {\\n                            \\'forum\\': forum_note.id,\\n                            \\'referent\\': forum_note.id,\\n                            \\'readers\\' : revision_stage_inv.reply[\\'readers\\'],\\n                            \\'content\\': content\\n                        },\\n                        signatures = [\\'~Super_User1\\']\\n                    ))\\n\\n        elif invitation_type == \\'Review_Rating_Stage\\':\\n\\n            conference.create_custom_stage()\\n\\n        submission_content = conference.submission_stage.get_content(forum_note.content.get(\\'api_version\\', \\'1\\'))\\n        submission_revision_invitation = client.get_invitation(SUPPORT_GROUP + \\'/-/Request\\' + str(forum_note.number) + \\'/Submission_Revision_Stage\\')\\n\\n        remove_options = [key for key in submission_content]\\n        submission_revision_invitation.reply[\\'content\\'][\\'submission_revision_remove_options\\'][\\'values-dropdown\\'] = remove_options\\n        client.post_invitation(submission_revision_invitation)\\n\\n        print(\\'Conference: \\', conference.get_id())\\n        comment_note = openreview.Note(\\n            invitation=SUPPORT_GROUP + \\'/-/Request\\' + str(forum_note.number) + \\'/Comment\\',\\n            forum=forum_note.id,\\n            replyto=forum_note.id,\\n            readers=comment_readers,\\n            writers=[SUPPORT_GROUP],\\n            signatures=[SUPPORT_GROUP],\\n            content={\\n                \\'title\\': f\\'{invitation_type.replace(\"_\", \" \")} Process Completed\\',\\n                \\'comment\\': f\\'\\'\\'\\nThe {invitation_type.replace(\"_\", \" \")} process has been completed.\\n\\nMore details: https://api.openreview.net/references?id={note.id}\\'\\'\\'\\n            }\\n        )\\n\\n        client.post_note(comment_note)        \\n    except Exception as e:\\n        forum_note = client.get_note(note.forum)\\n\\n        from openreview import OpenReviewException\\n        error_status = json.dumps(e.args[0], indent=2) if isinstance(e, OpenReviewException) else repr(e)\\n        comment_note = openreview.Note(\\n            invitation=SUPPORT_GROUP + \\'/-/Request\\' + str(forum_note.number) + \\'/Stage_Error_Status\\',\\n            forum=forum_note.id,\\n            replyto=forum_note.id,\\n            readers=comment_readers,\\n            writers=[SUPPORT_GROUP],\\n            signatures=[SUPPORT_GROUP],\\n            content={\\n                \\'title\\': \\'{invitation} Process Failed\\'.format(invitation=invitation_type.replace(\"_\", \" \")),\\n                \\'error\\': f\\'\\'\\'\\n```python\\n{error_status[:199980]}\\n```\\n\\'\\'\\',\\n                \\'reference_url\\': f\\'\\'\\'https://api.openreview.net/references?id={note.id}\\'\\'\\',\\n                \\'stage_name\\': \\'{invitation}\\'.format(invitation=invitation_type.replace(\"_\", \" \"))\\n            }\\n        )\\n\\n        client.post_note(comment_note)\\n',preprocess = None,transform = None)"
      ]
     },
     "execution_count": 38,
     "metadata": {},
     "output_type": "execute_result"
    }
   ],
   "source": [
    "## start decision stage\n",
    "now = datetime.datetime.utcnow()\n",
    "end_date = now + datetime.timedelta(days=3)\n",
    "decision_stage_note = pc_client.post_note(openreview.Note(\n",
    "    content={\n",
    "        'decision_deadline': end_date.strftime('%Y/%m/%d'),\n",
    "        'make_decisions_public': \"No, decisions should NOT be revealed publicly when they are posted\",\n",
    "        'release_decisions_to_authors': 'Yes, decisions should be revealed when they are posted to the paper\\'s authors',\n",
    "        'release_decisions_to_reviewers': 'Yes, decisions should be immediately revealed to the paper\\'s reviewers',\n",
    "        'release_decisions_to_area_chairs': 'Yes, decisions should be immediately revealed to the paper\\'s area chairs',\n",
    "        'decisions_file': url\n",
    "    },\n",
    "    forum=request_form.forum,\n",
    "    invitation=f'openreview.net/Support/-/Request{request_form.number}/Decision_Stage',\n",
    "    readers=['TC/2024/Conference/Program_Chairs', 'openreview.net/Support'],\n",
    "    replyto=request_form.forum,\n",
    "    referent=request_form.forum,\n",
    "    signatures=['~Program_Chair1'],\n",
    "    writers=[]\n",
    "))\n",
    "\n",
    "helpers.await_queue()\n",
    "\n",
    "invitation = client.get_invitation(f'openreview.net/Support/-/Request{request_form.number}/Post_Decision_Stage')\n",
    "invitation.cdate = openreview.tools.datetime_millis(datetime.datetime.utcnow())\n",
    "client.post_invitation(invitation)"
   ]
  },
  {
   "cell_type": "markdown",
   "metadata": {},
   "source": [
    "## Post Decision Stage\n",
    "\n",
    "Sends the emails to notify authors, and releases papers publicly"
   ]
  },
  {
   "cell_type": "code",
   "execution_count": 40,
   "metadata": {},
   "outputs": [],
   "source": [
    "# post a post decision stage note\n",
    "short_name = 'TC 2024'\n",
    "post_decision_stage_note = pc_client.post_note(openreview.Note(\n",
    "    content={\n",
    "        'reveal_authors': 'Reveal author identities of only accepted submissions to the public',\n",
    "        'submission_readers': 'Everyone (submissions are public)',\n",
    "        'home_page_tab_names': {\n",
    "            'Accept (Oral)': 'Accept (Oral)',\n",
    "            'Accept (Poster)': 'Accept (Poster)',\n",
    "            'Reject': 'Submitted'\n",
    "        },\n",
    "        'send_decision_notifications': 'No, I will send the emails to the authors',\n",
    "        'accept_(oral)_email_content': f'''Dear {{{{fullname}}}},\n",
    "\n",
    "Thank you for submitting your paper, {{{{submission_title}}}}, to {short_name}. We are delighted to inform you that your submission has been accepted. Congratulations!\n",
    "You can find the final reviews for your paper on the submission page in OpenReview at: {{{{forum_url}}}}\n",
    "\n",
    "Best,\n",
    "{short_name} Program Chairs\n",
    "''',\n",
    "        'accept_(poster)_email_content': f'''Dear {{{{fullname}}}},\n",
    "\n",
    "Thank you for submitting your paper, {{{{submission_title}}}}, to {short_name}. We are delighted to inform you that your submission has been accepted. Congratulations!\n",
    "You can find the final reviews for your paper on the submission page in OpenReview at: {{{{forum_url}}}}\n",
    "\n",
    "Best,\n",
    "{short_name} Program Chairs\n",
    "''',\n",
    "        'reject_email_content': f'''Dear {{{{fullname}}}},\n",
    "\n",
    "Thank you for submitting your paper, {{{{submission_title}}}}, to {short_name}. We regret to inform you that your submission was not accepted.\n",
    "You can find the final reviews for your paper on the submission page in OpenReview at: {{{{forum_url}}}}\n",
    "\n",
    "Best,\n",
    "{short_name} Program Chairs\n",
    "'''\n",
    "    },\n",
    "    forum=request_form.forum,\n",
    "    invitation=f'openreview.net/Support/-/Request{request_form.number}/Post_Decision_Stage',\n",
    "    readers=['TC/2024/Conference/Program_Chairs', 'openreview.net/Support'],\n",
    "    replyto=request_form.forum,\n",
    "    referent=request_form.forum,\n",
    "    signatures=['~Program_Chair1'],\n",
    "    writers=[]\n",
    "))\n",
    "assert post_decision_stage_note\n",
    "helpers.await_queue()"
   ]
  },
  {
   "cell_type": "markdown",
   "metadata": {},
   "source": [
    "## Start Camera Ready Revision\n",
    "from test_camera_ready\n",
    "\n",
    "This allows users to edit their submission after recieving the decision and until due_date"
   ]
  },
  {
   "cell_type": "code",
   "execution_count": 28,
   "metadata": {},
   "outputs": [],
   "source": [
    "# Post revision stage note\n",
    "now = datetime.datetime.utcnow()\n",
    "start_date = now - datetime.timedelta(days=2)\n",
    "due_date = now + datetime.timedelta(days=5)\n",
    "revision_stage_note = pc_client.post_note(openreview.Note(\n",
    "    content={\n",
    "        'submission_revision_name': 'Camera_Ready_Revision',\n",
    "        'submission_revision_start_date': start_date.strftime('%Y/%m/%d'),\n",
    "        'submission_revision_deadline': due_date.strftime('%Y/%m/%d'),\n",
    "        'accepted_submissions_only': 'Enable revision for accepted submissions only',\n",
    "        'submission_author_edition': 'Allow reorder of existing authors only',\n",
    "        'submission_revision_additional_options': {\n",
    "            \"submission_type\": {\n",
    "                \"value\": {\n",
    "                    \"param\": {\n",
    "                        \"type\": \"string\",\n",
    "                        \"enum\": [\n",
    "                            \"Regular Long Paper\",\n",
    "                            \"Regular Short Paper\"\n",
    "                        ],\n",
    "                        \"input\": \"select\"\n",
    "                    }\n",
    "                },\n",
    "                \"description\": \"Please enter the category under which the submission should be reviewed. This cannot be changed after the abstract submission deadline.\",\n",
    "                \"order\": 20\n",
    "            }\n",
    "        },\n",
    "        'submission_revision_remove_options': ['keywords']\n",
    "    },\n",
    "    forum=request_form.forum,\n",
    "    invitation=f'openreview.net/Support/-/Request{request_form.number}/Submission_Revision_Stage',\n",
    "    readers=['TC/2024/Conference/Program_Chairs', 'openreview.net/Support'],\n",
    "    referent=request_form.forum,\n",
    "    replyto=request_form.forum,\n",
    "    signatures=['~Program_Chair1'],\n",
    "    writers=[]\n",
    "))\n",
    "helpers.await_queue()\n"
   ]
  }
 ],
 "metadata": {
  "kernelspec": {
   "display_name": "python39",
   "language": "python",
   "name": "python3"
  },
  "language_info": {
   "codemirror_mode": {
    "name": "ipython",
    "version": 3
   },
   "file_extension": ".py",
   "mimetype": "text/x-python",
   "name": "python",
   "nbconvert_exporter": "python",
   "pygments_lexer": "ipython3",
   "version": "3.9.18"
  }
 },
 "nbformat": 4,
 "nbformat_minor": 2
}
