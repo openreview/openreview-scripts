{
 "cells": [
  {
   "cell_type": "code",
   "execution_count": 1,
   "metadata": {
    "collapsed": false
   },
   "outputs": [],
   "source": [
    "import openreview\n",
    "import update_records\n",
    "\n",
    "client = openreview.Client(username='OpenReview.net', password='OpenReview_beta', baseurl='http://localhost:3000')"
   ]
  },
  {
   "cell_type": "code",
   "execution_count": 2,
   "metadata": {
    "collapsed": false
   },
   "outputs": [],
   "source": [
    "## Make sure that you run superuser-init.py first\n",
    "dblp_inv = client.get_invitation('DBLP.org/-/paper')"
   ]
  },
  {
   "cell_type": "code",
   "execution_count": 3,
   "metadata": {
    "collapsed": false
   },
   "outputs": [],
   "source": [
    "## Define some DBLP dummy data (based on data Ari collected)\n",
    "data = [\n",
    "    {\n",
    "        u'_id': {u'$oid': u'58c1619b43d57693325354dd'},\n",
    "        u'authors': [u'a/Alaoui:Ahmed_El', u'r/Ramdas:Aaditya', u'k/Krzakala:Florent', u'z/Zdeborov=aacute=:Lenka', u'j/Jordan:Michael_I='],\n",
    "        u'dblp_coref_emails': [u'UNK', u'aramdas@cs.berkeley.edu', u'UNK', u'UNK', u'UNK'],\n",
    "        u'key': u'journals/corr/AlaouiRKZJ17',\n",
    "        u'names_readable': [u'UNK', u'Aaditya Ramdas', u'UNK', u'UNK', u'UNK'],\n",
    "        u'pub_key': u'ramdas|decoding_from_pooled_data:_phase_transitions_of_message_passing.',\n",
    "        u'title': u'Decoding from Pooled Data: Phase Transitions of Message Passing.',\n",
    "        u'venue': [],\n",
    "        u'year': u'2017'\n",
    "    }\n",
    "]"
   ]
  },
  {
   "cell_type": "code",
   "execution_count": 4,
   "metadata": {
    "collapsed": false
   },
   "outputs": [],
   "source": [
    "## Not all data from DBLP exactly fits the invitation we've defined, so we need to rename a few fields.\n",
    "def process_content(d):\n",
    "    if 'dblp_coref_emails' in d: d['authorids'] = d.pop('dblp_coref_emails')\n",
    "    if 'names_readable' in d: d['authors'] = d.pop('names_readable')\n",
    "    if 'venue' in d: d['journal'] = d.pop('venue')\n",
    "    return d\n",
    "\n",
    "content = process_content(data[0])"
   ]
  },
  {
   "cell_type": "code",
   "execution_count": 5,
   "metadata": {
    "collapsed": false
   },
   "outputs": [
    {
     "name": "stdout",
     "output_type": "stream",
     "text": [
      "pub_key not found. Creating new note.\n",
      "New note created.\n"
     ]
    }
   ],
   "source": [
    "## Use the post_or_update function to post a new record\n",
    "dblp_record = update_records.post_or_update(client, content)"
   ]
  },
  {
   "cell_type": "code",
   "execution_count": 6,
   "metadata": {
    "collapsed": false
   },
   "outputs": [
    {
     "name": "stdout",
     "output_type": "stream",
     "text": [
      "[u'UNK', u'aramdas@cs.berkeley.edu', u'UNK', u'UNK', u'UNK']\n",
      "[u'UNK', u'Aaditya Ramdas', u'UNK', u'UNK', u'UNK']\n"
     ]
    }
   ],
   "source": [
    "## Check the record. Notice that authors and authorids have a lot of missing values.\n",
    "print dblp_record.content['authorids']\n",
    "print dblp_record.content['authors']"
   ]
  },
  {
   "cell_type": "code",
   "execution_count": 7,
   "metadata": {
    "collapsed": false
   },
   "outputs": [],
   "source": [
    "## Suppose you later find the identity of the first author of this paper \n",
    "content['authorids'][0] = 'spector@cs.umass.edu'\n",
    "content['authors'][0] = 'Michael Spector'"
   ]
  },
  {
   "cell_type": "code",
   "execution_count": 8,
   "metadata": {
    "collapsed": false
   },
   "outputs": [
    {
     "name": "stdout",
     "output_type": "stream",
     "text": [
      "pub_key found. Adding revision to ramdas|decoding_from_pooled_data:_phase_transitions_of_message_passing.\n",
      "Existing note revised.\n"
     ]
    }
   ],
   "source": [
    "## Use the post_or_update function again to revise the record\n",
    "revised_note = update_records.post_or_update(client, content)"
   ]
  },
  {
   "cell_type": "code",
   "execution_count": 9,
   "metadata": {
    "collapsed": false
   },
   "outputs": [
    {
     "name": "stdout",
     "output_type": "stream",
     "text": [
      "[u'spector@cs.umass.edu', u'aramdas@cs.berkeley.edu', u'UNK', u'UNK', u'UNK']\n",
      "[u'Michael Spector', u'Aaditya Ramdas', u'UNK', u'UNK', u'UNK']\n"
     ]
    }
   ],
   "source": [
    "## Check the revised record. Notice that authors and authorids have been updated.\n",
    "print revised_note.content['authorids']\n",
    "print revised_note.content['authors']"
   ]
  },
  {
   "cell_type": "code",
   "execution_count": null,
   "metadata": {
    "collapsed": true
   },
   "outputs": [],
   "source": []
  }
 ],
 "metadata": {
  "kernelspec": {
   "display_name": "Python (openreview)",
   "language": "python",
   "name": "openreview"
  },
  "language_info": {
   "codemirror_mode": {
    "name": "ipython",
    "version": 2
   },
   "file_extension": ".py",
   "mimetype": "text/x-python",
   "name": "python",
   "nbconvert_exporter": "python",
   "pygments_lexer": "ipython2",
   "version": "2.7.12"
  }
 },
 "nbformat": 4,
 "nbformat_minor": 0
}
