{
 "cells": [
  {
   "cell_type": "code",
   "execution_count": 1,
   "metadata": {
    "collapsed": true
   },
   "outputs": [],
   "source": [
    "import openreview\n",
    "import re\n",
    "import unicodecsv as csv\n",
    "import os\n",
    "import requests"
   ]
  },
  {
   "cell_type": "code",
   "execution_count": 3,
   "metadata": {
    "collapsed": false
   },
   "outputs": [],
   "source": [
    "client = openreview.Client(baseurl=\"https://openreview.net\")\n",
    "\n",
    "outputdir = './tpms-dump-final'"
   ]
  },
  {
   "cell_type": "code",
   "execution_count": null,
   "metadata": {
    "collapsed": true
   },
   "outputs": [],
   "source": [
    "def get_profiles(groupname):\n",
    "    print \"groupname:\",groupname\n",
    "    members = client.get_group(groupname).members\n",
    "    \n",
    "    p = re.compile('~.*')\n",
    "\n",
    "    canonical_ids = []\n",
    "    missing_users = []\n",
    "    for m in members:\n",
    "        m = m.strip()\n",
    "        try:\n",
    "            print('m:',m)\n",
    "            client.get_group(m)\n",
    "            g = client.get_group(m)\n",
    "            groupmembers = [member for member in g.members if p.match(member)]\n",
    "\n",
    "            if len(groupmembers) ==0:\n",
    "                print \"No canonical IDs found for member \",m\n",
    "                missing_users.append(m)\n",
    "            else:\n",
    "                if len(groupmembers) > 1:\n",
    "                    print \"More than one canonical ID found for member \",m,\"; Using first ID in the list.\"\n",
    "\n",
    "                tildeId = groupmembers[0]\n",
    "                canonical_ids.append(tildeId)\n",
    "\n",
    "        except openreview.OpenReviewException as e:\n",
    "            missing_users.append(m)\n",
    "            print e\n",
    "\n",
    "    profiles = []\n",
    "\n",
    "    for id in canonical_ids:\n",
    "        print \"id: \",id\n",
    "        profiles.append(client.get_note(id).to_json())\n",
    "    \n",
    "    return profiles,missing_users"
   ]
  },
  {
   "cell_type": "code",
   "execution_count": null,
   "metadata": {
    "collapsed": true
   },
   "outputs": [],
   "source": [
    "def dump_names(profiles,outfilename,missingTuple=None):\n",
    "    if not os.path.exists(outputdir):\n",
    "        os.makedirs(outputdir)\n",
    "\n",
    "    with open(outputdir+'/'+outfilename,'wb') as outfile:\n",
    "        csvwriter = csv.writer(outfile, delimiter=',')\n",
    "        for profile in profiles:\n",
    "            p = profile['content']\n",
    "            name = p['names'][0]\n",
    "            firstname = name['first']\n",
    "            lastname = name['last']\n",
    "            email = p['emails'][0]\n",
    "            csvwriter.writerow([email,firstname,lastname])\n",
    "        if missingTuple !=None:\n",
    "            missingList = missingTuple[0]\n",
    "            missingMap = missingTuple[1]\n",
    "            for email in missingList:\n",
    "                try:\n",
    "                    csvwriter.writerow([email,missingMap[email][0],missingMap[email][1]])\n",
    "                except KeyError as e:\n",
    "                    print \"Key error found on email \",email,': ',e"
   ]
  },
  {
   "cell_type": "code",
   "execution_count": 7,
   "metadata": {
    "collapsed": true
   },
   "outputs": [],
   "source": [
    "def write_pdfs(papers):\n",
    "    external = re.compile('http.*')\n",
    "    internal = re.compile('\\/pdf\\/.*')\n",
    "    for s in papers:\n",
    "        if external.match(s['content']['pdf']):\n",
    "            r = requests.get(s['content']['pdf'])\n",
    "        elif(internal.match(s['content']['pdf'])):\n",
    "            r = requests.get(client.baseurl+'/pdf?id='+s['id'], headers=client.headers)\n",
    "        else:\n",
    "            print \"Couldn't get PDF for note \",s['id']\n",
    "            \n",
    "        print \"number\",s['number'],\"response\",r\n",
    "        if not os.path.exists(outputdir+'/pdfs'):\n",
    "            os.makedirs(outputdir+'/pdfs')\n",
    "        with open(outputdir+'/pdfs/paper'+str(s['number'])+'.pdf', 'wb') as f:\n",
    "            f.write(r.content)\n",
    "            f.close()"
   ]
  },
  {
   "cell_type": "code",
   "execution_count": null,
   "metadata": {
    "collapsed": true
   },
   "outputs": [],
   "source": [
    "def get_conflicts(profile):\n",
    "    conflicts = set()\n",
    "    for h in profile['content']['history']:\n",
    "        conflicts.add(h['institution']['domain'])\n",
    "    for e in profile['content']['emails']:\n",
    "        domain = e.split('@')[1]\n",
    "        conflicts.add(domain)\n",
    "    return conflicts"
   ]
  },
  {
   "cell_type": "code",
   "execution_count": null,
   "metadata": {
    "collapsed": false
   },
   "outputs": [],
   "source": [
    "def dump_conflicts(profiles, missing, papers, outfilename):\n",
    "    with open(outputdir+'/'+outfilename,'wb') as outfile:\n",
    "        csvwriter=csv.writer(outfile,delimiter=',')\n",
    "        for profile in profiles:\n",
    "            email = profile['content']['emails'][0]\n",
    "            profile_conflicts = get_conflicts(profile)\n",
    "            for paper in papers:\n",
    "                paper_id = str(paper['number'])\n",
    "                if not profile_conflicts.isdisjoint(paper['content']['conflicts']):\n",
    "                    print \"conflict detected:\",email,profile_conflicts,paper['content']['conflicts']\n",
    "                    csvwriter.writerow([paper_id,email])\n",
    "        \n",
    "        for email in missing:\n",
    "            domain = email.split('@')[1]\n",
    "            for paper in papers:\n",
    "                paper_id = str(paper['number'])\n",
    "                if domain in paper['content']['conflicts']:\n",
    "                    csvwriter.writerow([paper_id,email])"
   ]
  },
  {
   "cell_type": "code",
   "execution_count": null,
   "metadata": {
    "collapsed": true
   },
   "outputs": [],
   "source": [
    "def dump_missing(list):\n",
    "    with open(outputdir+'/missing-dump.csv','wb') as outfile:\n",
    "        for email in list:\n",
    "            csvwriter=csv.writer(outfile,delimiter=',')\n",
    "            first = all_reviewers[email][0]\n",
    "            last = all_reviewers[email][1]\n",
    "            csvwriter.writerow([])"
   ]
  },
  {
   "cell_type": "code",
   "execution_count": null,
   "metadata": {
    "collapsed": false
   },
   "outputs": [],
   "source": [
    "client.user"
   ]
  },
  {
   "cell_type": "code",
   "execution_count": null,
   "metadata": {
    "collapsed": false
   },
   "outputs": [],
   "source": [
    "reviewer_profiles,missing_reviewers = get_profiles(\"ICLR.cc/2017/conference/reviewers\")"
   ]
  },
  {
   "cell_type": "code",
   "execution_count": null,
   "metadata": {
    "collapsed": false
   },
   "outputs": [],
   "source": [
    "reviewer_profiles"
   ]
  },
  {
   "cell_type": "code",
   "execution_count": null,
   "metadata": {
    "collapsed": false
   },
   "outputs": [],
   "source": [
    "areachair_profiles,missing_areachairs = get_profiles(\"ICLR.cc/2017/areachairs\")\n"
   ]
  },
  {
   "cell_type": "code",
   "execution_count": null,
   "metadata": {
    "collapsed": false
   },
   "outputs": [],
   "source": [
    "missing_areachairs"
   ]
  },
  {
   "cell_type": "code",
   "execution_count": null,
   "metadata": {
    "collapsed": false
   },
   "outputs": [],
   "source": [
    "missingReviewerMap = {}\n",
    "with open('./iclr_all_reviewers.csv', 'rb') as csvfile:\n",
    "    reader = csv.reader(csvfile, delimiter=',', quotechar='|')\n",
    "    c=0\n",
    "    for row in reader:\n",
    "        if c>0:\n",
    "            print row\n",
    "            missingReviewerMap[str(row[2])]=row[0:2]\n",
    "        c+=1\n",
    "        \n",
    "missingAreachairMap = {}\n",
    "with open('./iclr_area_chairs.csv', 'rb') as csvfile:\n",
    "    reader = csv.reader(csvfile, delimiter=',', quotechar='|')\n",
    "    c=0\n",
    "    for row in reader:\n",
    "        if c>0:\n",
    "            print row\n",
    "            missingAreachairMap[str(row[2])]=row[0:2]\n",
    "        c+=1\n",
    "      "
   ]
  },
  {
   "cell_type": "code",
   "execution_count": null,
   "metadata": {
    "collapsed": false
   },
   "outputs": [],
   "source": [
    "papers = [s.to_json() for s in client.get_notes(invitation='ICLR.cc/2017/conference/-/submission')]\n",
    "\n",
    "        \n",
    "dump_names(reviewer_profiles,\"reviewer-dump.csv\",(missing_reviewers,missingReviewerMap))\n",
    "dump_names(areachair_profiles,\"areachair-dump.csv\",(missing_areachairs,missingAreachairMap))\n",
    "write_pdfs(papers)\n",
    "dump_conflicts(reviewer_profiles,missing_reviewers+missing_areachairs,papers,\"conflicts-dump.csv\")"
   ]
  },
  {
   "cell_type": "code",
   "execution_count": 4,
   "metadata": {
    "collapsed": true
   },
   "outputs": [],
   "source": [
    "papers = [s.to_json() for s in client.get_notes(invitation='ICLR.cc/2017/conference/-/submission')]"
   ]
  },
  {
   "cell_type": "code",
   "execution_count": 5,
   "metadata": {
    "collapsed": false
   },
   "outputs": [
    {
     "data": {
      "text/plain": [
       "490"
      ]
     },
     "execution_count": 5,
     "metadata": {},
     "output_type": "execute_result"
    }
   ],
   "source": [
    "len(papers)"
   ]
  },
  {
   "cell_type": "code",
   "execution_count": 8,
   "metadata": {
    "collapsed": false
   },
   "outputs": [
    {
     "name": "stdout",
     "output_type": "stream",
     "text": [
      "number 610 response <Response [200]>\n",
      "number 609 response <Response [200]>\n",
      "number 608 response <Response [200]>\n",
      "number 607 response <Response [200]>\n",
      "number 606 response <Response [200]>\n"
     ]
    }
   ],
   "source": [
    "write_pdfs(papers[:5])"
   ]
  },
  {
   "cell_type": "code",
   "execution_count": 10,
   "metadata": {
    "collapsed": false
   },
   "outputs": [],
   "source": [
    "acceptances = client.get_notes(invitation = 'ICLR.cc/2017/conference/-/paper.*/acceptance')"
   ]
  },
  {
   "cell_type": "code",
   "execution_count": 19,
   "metadata": {
    "collapsed": false
   },
   "outputs": [],
   "source": [
    "oral_acceptances = [n.forum for n in acceptances if n.content['decision'] == 'Accept (Oral)']"
   ]
  },
  {
   "cell_type": "code",
   "execution_count": 20,
   "metadata": {
    "collapsed": false
   },
   "outputs": [
    {
     "data": {
      "text/plain": [
       "15"
      ]
     },
     "execution_count": 20,
     "metadata": {},
     "output_type": "execute_result"
    }
   ],
   "source": [
    "len(oral_acceptances)"
   ]
  },
  {
   "cell_type": "code",
   "execution_count": 21,
   "metadata": {
    "collapsed": true
   },
   "outputs": [],
   "source": [
    "poster_acceptances = [n.forum for n in acceptances if n.content['decision'] == 'Accept (Poster)']"
   ]
  },
  {
   "cell_type": "code",
   "execution_count": 22,
   "metadata": {
    "collapsed": false
   },
   "outputs": [
    {
     "data": {
      "text/plain": [
       "183"
      ]
     },
     "execution_count": 22,
     "metadata": {},
     "output_type": "execute_result"
    }
   ],
   "source": [
    "len(poster_acceptances)"
   ]
  },
  {
   "cell_type": "code",
   "execution_count": 24,
   "metadata": {
    "collapsed": false
   },
   "outputs": [],
   "source": [
    "oral_papers = [n for n in papers if n['id'] in oral_acceptances]"
   ]
  },
  {
   "cell_type": "code",
   "execution_count": 25,
   "metadata": {
    "collapsed": false
   },
   "outputs": [
    {
     "data": {
      "text/plain": [
       "15"
      ]
     },
     "execution_count": 25,
     "metadata": {},
     "output_type": "execute_result"
    }
   ],
   "source": [
    "len(oral_papers)"
   ]
  },
  {
   "cell_type": "code",
   "execution_count": 26,
   "metadata": {
    "collapsed": false
   },
   "outputs": [
    {
     "name": "stdout",
     "output_type": "stream",
     "text": [
      "number 597 response <Response [200]>\n",
      "number 573 response <Response [200]>\n",
      "number 472 response <Response [200]>\n",
      "number 428 response <Response [200]>\n",
      "number 415 response <Response [200]>\n",
      "number 386 response <Response [200]>\n",
      "number 270 response <Response [200]>\n",
      "number 259 response <Response [200]>\n",
      "number 251 response <Response [200]>\n",
      "number 170 response <Response [200]>\n",
      "number 116 response <Response [200]>\n",
      "number 76 response <Response [200]>\n",
      "number 45 response <Response [200]>\n",
      "number 29 response <Response [200]>\n",
      "number 10 response <Response [200]>\n"
     ]
    }
   ],
   "source": [
    "write_pdfs(oral_papers)"
   ]
  },
  {
   "cell_type": "code",
   "execution_count": 27,
   "metadata": {
    "collapsed": true
   },
   "outputs": [],
   "source": [
    "poster_papers = [n for n in papers if n['id'] in poster_acceptances]"
   ]
  },
  {
   "cell_type": "code",
   "execution_count": 28,
   "metadata": {
    "collapsed": false
   },
   "outputs": [
    {
     "data": {
      "text/plain": [
       "183"
      ]
     },
     "execution_count": 28,
     "metadata": {},
     "output_type": "execute_result"
    }
   ],
   "source": [
    "len(poster_papers)"
   ]
  },
  {
   "cell_type": "code",
   "execution_count": 29,
   "metadata": {
    "collapsed": false
   },
   "outputs": [
    {
     "name": "stdout",
     "output_type": "stream",
     "text": [
      "number 610 response <Response [200]>\n",
      "number 606 response <Response [200]>\n",
      "number 601 response <Response [200]>\n",
      "number 595 response <Response [200]>\n",
      "number 593 response <Response [200]>\n",
      "number 590 response <Response [200]>\n",
      "number 589 response <Response [200]>\n",
      "number 585 response <Response [200]>\n",
      "number 584 response <Response [200]>\n",
      "number 582 response <Response [200]>\n",
      "number 580 response <Response [200]>\n",
      "number 578 response <Response [200]>\n",
      "number 571 response <Response [200]>\n",
      "number 566 response <Response [200]>\n",
      "number 555 response <Response [200]>\n",
      "number 553 response <Response [200]>\n",
      "number 549 response <Response [200]>\n",
      "number 548 response <Response [200]>\n",
      "number 541 response <Response [200]>\n",
      "number 539 response <Response [200]>\n",
      "number 534 response <Response [200]>\n",
      "number 533 response <Response [200]>\n",
      "number 531 response <Response [200]>\n",
      "number 525 response <Response [200]>\n",
      "number 520 response <Response [200]>\n",
      "number 519 response <Response [200]>\n",
      "number 516 response <Response [200]>\n",
      "number 513 response <Response [200]>\n",
      "number 512 response <Response [200]>\n",
      "number 511 response <Response [200]>\n",
      "number 510 response <Response [200]>\n",
      "number 508 response <Response [200]>\n",
      "number 505 response <Response [200]>\n",
      "number 504 response <Response [200]>\n",
      "number 503 response <Response [200]>\n",
      "number 501 response <Response [200]>\n",
      "number 499 response <Response [200]>\n",
      "number 498 response <Response [200]>\n",
      "number 497 response <Response [200]>\n",
      "number 495 response <Response [200]>\n",
      "number 494 response <Response [200]>\n",
      "number 492 response <Response [200]>\n",
      "number 488 response <Response [200]>\n",
      "number 483 response <Response [200]>\n",
      "number 481 response <Response [200]>\n",
      "number 480 response <Response [200]>\n",
      "number 478 response <Response [200]>\n",
      "number 477 response <Response [200]>\n",
      "number 469 response <Response [200]>\n",
      "number 468 response <Response [200]>\n",
      "number 467 response <Response [200]>\n",
      "number 465 response <Response [200]>\n",
      "number 462 response <Response [200]>\n",
      "number 459 response <Response [200]>\n",
      "number 454 response <Response [200]>\n",
      "number 453 response <Response [200]>\n",
      "number 448 response <Response [200]>\n",
      "number 447 response <Response [200]>\n",
      "number 443 response <Response [200]>\n",
      "number 442 response <Response [200]>\n",
      "number 440 response <Response [200]>\n",
      "number 434 response <Response [200]>\n",
      "number 427 response <Response [200]>\n",
      "number 421 response <Response [200]>\n",
      "number 419 response <Response [200]>\n",
      "number 417 response <Response [200]>\n",
      "number 414 response <Response [200]>\n",
      "number 411 response <Response [200]>\n",
      "number 409 response <Response [200]>\n",
      "number 399 response <Response [200]>\n",
      "number 393 response <Response [200]>\n",
      "number 392 response <Response [200]>\n",
      "number 391 response <Response [200]>\n",
      "number 390 response <Response [200]>\n",
      "number 379 response <Response [200]>\n",
      "number 378 response <Response [200]>\n",
      "number 377 response <Response [200]>\n",
      "number 373 response <Response [200]>\n",
      "number 369 response <Response [200]>\n",
      "number 368 response <Response [200]>\n",
      "number 364 response <Response [200]>\n",
      "number 362 response <Response [200]>\n",
      "number 360 response <Response [200]>\n",
      "number 359 response <Response [200]>\n",
      "number 356 response <Response [200]>\n",
      "number 355 response <Response [200]>\n",
      "number 354 response <Response [200]>\n",
      "number 352 response <Response [200]>\n",
      "number 349 response <Response [200]>\n",
      "number 347 response <Response [200]>\n",
      "number 346 response <Response [200]>\n",
      "number 331 response <Response [200]>\n",
      "number 329 response <Response [200]>\n",
      "number 326 response <Response [200]>\n",
      "number 322 response <Response [200]>\n",
      "number 319 response <Response [200]>\n",
      "number 318 response <Response [200]>\n",
      "number 317 response <Response [200]>\n",
      "number 311 response <Response [200]>\n",
      "number 303 response <Response [200]>\n",
      "number 302 response <Response [200]>\n",
      "number 301 response <Response [200]>\n",
      "number 300 response <Response [200]>\n",
      "number 296 response <Response [200]>\n",
      "number 293 response <Response [200]>\n",
      "number 292 response <Response [200]>\n",
      "number 291 response <Response [200]>\n",
      "number 289 response <Response [200]>\n",
      "number 285 response <Response [200]>\n",
      "number 281 response <Response [200]>\n",
      "number 280 response <Response [200]>\n",
      "number 279 response <Response [200]>\n",
      "number 277 response <Response [200]>\n",
      "number 271 response <Response [200]>\n",
      "number 269 response <Response [200]>\n",
      "number 264 response <Response [200]>\n",
      "number 263 response <Response [200]>\n",
      "number 260 response <Response [200]>\n",
      "number 255 response <Response [200]>\n",
      "number 254 response <Response [200]>\n",
      "number 252 response <Response [200]>\n",
      "number 249 response <Response [200]>\n",
      "number 246 response <Response [200]>\n",
      "number 241 response <Response [200]>\n",
      "number 240 response <Response [200]>\n",
      "number 235 response <Response [200]>\n",
      "number 223 response <Response [200]>\n",
      "number 222 response <Response [200]>\n",
      "number 220 response <Response [200]>\n",
      "number 215 response <Response [200]>\n",
      "number 214 response <Response [200]>\n",
      "number 211 response <Response [200]>\n",
      "number 207 response <Response [200]>\n",
      "number 206 response <Response [200]>\n",
      "number 203 response <Response [200]>\n",
      "number 202 response <Response [200]>\n",
      "number 200 response <Response [200]>\n",
      "number 194 response <Response [200]>\n",
      "number 189 response <Response [200]>\n",
      "number 185 response <Response [200]>\n",
      "number 184 response <Response [200]>\n",
      "number 180 response <Response [200]>\n",
      "number 176 response <Response [200]>\n",
      "number 172 response <Response [200]>\n",
      "number 166 response <Response [200]>\n",
      "number 164 response <Response [200]>\n",
      "number 160 response <Response [200]>\n",
      "number 156 response <Response [200]>\n",
      "number 153 response <Response [200]>\n",
      "number 148 response <Response [200]>\n",
      "number 134 response <Response [200]>\n",
      "number 129 response <Response [200]>\n",
      "number 124 response <Response [200]>\n",
      "number 122 response <Response [200]>\n",
      "number 121 response <Response [200]>\n",
      "number 109 response <Response [200]>\n",
      "number 103 response <Response [200]>\n",
      "number 102 response <Response [200]>\n",
      "number 98 response <Response [200]>\n",
      "number 97 response <Response [200]>\n",
      "number 95 response <Response [200]>\n",
      "number 94 response <Response [200]>\n",
      "number 92 response <Response [200]>\n",
      "number 84 response <Response [200]>\n",
      "number 83 response <Response [200]>\n",
      "number 81 response <Response [200]>\n",
      "number 75 response <Response [200]>\n",
      "number 72 response <Response [200]>\n",
      "number 71 response <Response [200]>\n",
      "number 62 response <Response [200]>\n",
      "number 60 response <Response [200]>\n",
      "number 59 response <Response [200]>\n",
      "number 48 response <Response [200]>\n",
      "number 47 response <Response [200]>\n",
      "number 46 response <Response [200]>\n",
      "number 42 response <Response [200]>\n",
      "number 31 response <Response [200]>\n",
      "number 12 response <Response [200]>\n",
      "number 11 response <Response [200]>\n",
      "number 9 response <Response [200]>\n",
      "number 8 response <Response [200]>\n",
      "number 7 response <Response [200]>\n",
      "number 1 response <Response [200]>\n"
     ]
    }
   ],
   "source": [
    "write_pdfs(poster_papers)"
   ]
  },
  {
   "cell_type": "code",
   "execution_count": null,
   "metadata": {
    "collapsed": true
   },
   "outputs": [],
   "source": []
  }
 ],
 "metadata": {
  "kernelspec": {
   "display_name": "Python 2",
   "language": "python",
   "name": "python2"
  },
  "language_info": {
   "codemirror_mode": {
    "name": "ipython",
    "version": 2
   },
   "file_extension": ".py",
   "mimetype": "text/x-python",
   "name": "python",
   "nbconvert_exporter": "python",
   "pygments_lexer": "ipython2",
   "version": "2.7.9"
  }
 },
 "nbformat": 4,
 "nbformat_minor": 0
}
