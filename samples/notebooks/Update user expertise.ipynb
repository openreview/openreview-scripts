{
 "cells": [
  {
   "cell_type": "code",
   "execution_count": 1,
   "metadata": {
    "collapsed": true
   },
   "outputs": [],
   "source": [
    "from openreview import *"
   ]
  },
  {
   "cell_type": "code",
   "execution_count": 2,
   "metadata": {
    "collapsed": false
   },
   "outputs": [
    {
     "name": "stdout",
     "output_type": "stream",
     "text": [
      "Please provide your OpenReview username (e.g. username@umass.edu): OpenReview.net\n",
      "Please provide your OpenReview password: ········\n"
     ]
    }
   ],
   "source": [
    "openreview = Client(baseurl='http://dev.openreview.net')"
   ]
  },
  {
   "cell_type": "code",
   "execution_count": 4,
   "metadata": {
    "collapsed": false
   },
   "outputs": [],
   "source": [
    "group = openreview.get_group(id='mccallum@cs.umass.edu')"
   ]
  },
  {
   "cell_type": "code",
   "execution_count": 7,
   "metadata": {
    "collapsed": false
   },
   "outputs": [],
   "source": [
    "profileId = group.members[0]"
   ]
  },
  {
   "cell_type": "code",
   "execution_count": 8,
   "metadata": {
    "collapsed": true
   },
   "outputs": [],
   "source": [
    "profile_note = openreview.get_note(profileId)"
   ]
  },
  {
   "cell_type": "code",
   "execution_count": 18,
   "metadata": {
    "collapsed": false
   },
   "outputs": [],
   "source": [
    "profile_note.content['expertise'].append({ 'start': None, 'end': None, 'keywords': ['keyword1', 'keyword2']})"
   ]
  },
  {
   "cell_type": "code",
   "execution_count": 19,
   "metadata": {
    "collapsed": false
   },
   "outputs": [
    {
     "data": {
      "text/plain": [
       "[{u'end': None,\n",
       "  u'keywords': [u'deep learning',\n",
       "   u'word embeddings',\n",
       "   u'natural language processing',\n",
       "   u'parsing',\n",
       "   u'named entity extraction'],\n",
       "  u'start': 2013},\n",
       " {u'end': None,\n",
       "  u'keywords': [u'automated knowledge base construction',\n",
       "   u'universal schema',\n",
       "   u'relation extraction',\n",
       "   u'tensor factorization'],\n",
       "  u'start': 2005},\n",
       " {u'end': None,\n",
       "  u'keywords': [u'machine learning',\n",
       "   u'natural language processing',\n",
       "   u'information integration'],\n",
       "  u'start': 1995},\n",
       " {u'end': 2010,\n",
       "  u'keywords': [u'social network analysis', u'topic models'],\n",
       "  u'start': 2005},\n",
       " {'end': None, 'keywords': ['keyword1', 'keyword2'], 'start': None}]"
      ]
     },
     "execution_count": 19,
     "metadata": {},
     "output_type": "execute_result"
    }
   ],
   "source": [
    "profile_note.content['expertise']"
   ]
  },
  {
   "cell_type": "code",
   "execution_count": 22,
   "metadata": {
    "collapsed": false
   },
   "outputs": [
    {
     "data": {
      "text/plain": [
       "<openreview.openreview.Note at 0x106518fd0>"
      ]
     },
     "execution_count": 22,
     "metadata": {},
     "output_type": "execute_result"
    }
   ],
   "source": [
    "profile_note.content['homepage'] = ''\n",
    "profile_note.content['linkedin'] = ''\n",
    "openreview.post_note(profile_note)"
   ]
  },
  {
   "cell_type": "code",
   "execution_count": 23,
   "metadata": {
    "collapsed": false
   },
   "outputs": [],
   "source": [
    "saved_profile_note = openreview.get_note(profileId)"
   ]
  },
  {
   "cell_type": "code",
   "execution_count": 24,
   "metadata": {
    "collapsed": false
   },
   "outputs": [
    {
     "data": {
      "text/plain": [
       "[{u'end': None,\n",
       "  u'keywords': [u'deep learning',\n",
       "   u'word embeddings',\n",
       "   u'natural language processing',\n",
       "   u'parsing',\n",
       "   u'named entity extraction'],\n",
       "  u'start': 2013},\n",
       " {u'end': None,\n",
       "  u'keywords': [u'automated knowledge base construction',\n",
       "   u'universal schema',\n",
       "   u'relation extraction',\n",
       "   u'tensor factorization'],\n",
       "  u'start': 2005},\n",
       " {u'end': None,\n",
       "  u'keywords': [u'machine learning',\n",
       "   u'natural language processing',\n",
       "   u'information integration'],\n",
       "  u'start': 1995},\n",
       " {u'end': 2010,\n",
       "  u'keywords': [u'social network analysis', u'topic models'],\n",
       "  u'start': 2005},\n",
       " {u'end': None, u'keywords': [u'keyword1', u'keyword2'], u'start': None}]"
      ]
     },
     "execution_count": 24,
     "metadata": {},
     "output_type": "execute_result"
    }
   ],
   "source": [
    "saved_profile_note.content['expertise']"
   ]
  },
  {
   "cell_type": "code",
   "execution_count": null,
   "metadata": {
    "collapsed": true
   },
   "outputs": [],
   "source": []
  }
 ],
 "metadata": {
  "kernelspec": {
   "display_name": "Python 2",
   "language": "python",
   "name": "python2"
  },
  "language_info": {
   "codemirror_mode": {
    "name": "ipython",
    "version": 2
   },
   "file_extension": ".py",
   "mimetype": "text/x-python",
   "name": "python",
   "nbconvert_exporter": "python",
   "pygments_lexer": "ipython2",
   "version": "2.7.12"
  }
 },
 "nbformat": 4,
 "nbformat_minor": 0
}
