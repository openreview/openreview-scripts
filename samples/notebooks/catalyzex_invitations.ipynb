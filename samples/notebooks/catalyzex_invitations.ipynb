{
 "cells": [
  {
   "attachments": {},
   "cell_type": "markdown",
   "metadata": {},
   "source": [
    "# Post CatalyzeX Invitations"
   ]
  },
  {
   "cell_type": "code",
   "execution_count": 1,
   "metadata": {},
   "outputs": [],
   "source": [
    "# Imports\n",
    "\n",
    "from openreview.api import Invitation\n",
    "from openreview.api import OpenReviewClient\n",
    "from openreview import tools\n",
    "from os import getenv\n",
    "from openreview import OpenReviewException"
   ]
  },
  {
   "cell_type": "code",
   "execution_count": 2,
   "metadata": {},
   "outputs": [],
   "source": [
    "# Initialize clients\n",
    "\n",
    "# local_client = OpenReviewClient(baseurl='http://localhost:3001', username='OpenReview.net', password='')\n",
    "dev_client = OpenReviewClient(baseurl='https://devapi2.openreview.net', username='OpenReview.net', password='')\n",
    "# live_client = OpenReviewClient(baseurl='https://api2.openreview.net', username='OpenReview.net', password='')"
   ]
  },
  {
   "cell_type": "code",
   "execution_count": 3,
   "metadata": {},
   "outputs": [],
   "source": [
    "# Config vars\n",
    "\n",
    "client = dev_client"
   ]
  },
  {
   "cell_type": "code",
   "execution_count": 7,
   "metadata": {},
   "outputs": [
    {
     "name": "stdout",
     "output_type": "stream",
     "text": [
      "Posting CatalyzeX invitation for ICLR.cc/2024/Conference/-/Submission\n",
      "Done!\n"
     ]
    }
   ],
   "source": [
    "# Post invitations\n",
    "\n",
    "def post(venue_id, submission_invitation_id):\n",
    "    formatted_venue_id = venue_id.replace('/', '_')\n",
    "\n",
    "    return client.post_invitation_edit(\n",
    "        invitations=f'{venue_id}/-/Edit',\n",
    "        readers = [venue_id, 'CatalyzeX.com'],\n",
    "        writers = [venue_id, 'CatalyzeX.com'],\n",
    "        signatures = ['OpenReview.net'],\n",
    "        invitation = Invitation(\n",
    "            id = f'{venue_id}/-/CatalyzeX',\n",
    "            invitees = ['CatalyzeX.com'],\n",
    "            readers = ['CatalyzeX.com'],\n",
    "            writers = ['CatalyzeX.com'],\n",
    "            signatures = ['CatalyzeX.com'],\n",
    "            edit = {\n",
    "                'readers': ['everyone'],\n",
    "                'signatures': ['CatalyzeX.com'],\n",
    "                'note': {\n",
    "                    'id': {\n",
    "                        'param': {\n",
    "                            'withInvitation': submission_invitation_id\n",
    "                        }\n",
    "                    },\n",
    "                    'writers': ['CatalyzeX.com'],\n",
    "                    'content': {\n",
    "                        'community_implementations': {\n",
    "                            'order': 1,\n",
    "                            'description': 'Optional link to open source implementations',\n",
    "                            'value': {\n",
    "                                'param': {\n",
    "                                    'type': 'string',\n",
    "                                    'maxLength': 500,\n",
    "                                    'input': 'text',\n",
    "                                    'optional': True,\n",
    "                                    'deletable': True,\n",
    "                                    'markdown': True\n",
    "                                }\n",
    "                            }\n",
    "                        }\n",
    "                    }\n",
    "                },\n",
    "                'ddate': {\n",
    "                    'param': {\n",
    "                        'range': [ 0, 9999999999999 ],\n",
    "                        'optional': True,\n",
    "                        'deletable': True\n",
    "                    }\n",
    "                }\n",
    "            },\n",
    "            duedate = 2556143999000\n",
    "        )\n",
    "    )\n",
    "\n",
    "with open('venue-ids-01052024.txt') as f:\n",
    "    for line in f:\n",
    "        group_id = line.strip()\n",
    "        if group_id == '':\n",
    "            continue\n",
    "\n",
    "        try:\n",
    "            group = client.get_group(group_id)\n",
    "        except OpenReviewException as e:\n",
    "            print(f'Group not found: {group_id}')\n",
    "            continue\n",
    "\n",
    "        # Get the submission invitation\n",
    "        submission_invitation = None\n",
    "        submission_invitation_name = group.get_content_value('submission_name', default_value='Submission')\n",
    "        try:\n",
    "            submission_invitation = client.get_invitation(f'{group_id}/-/{submission_invitation_name}')\n",
    "        except OpenReviewException as e:\n",
    "            print(f'Submission invitation not found for {group_id}')\n",
    "            continue\n",
    "\n",
    "        # Post the CatalyzeX invitation\n",
    "        print(f'Posting CatalyzeX invitation for {submission_invitation.id}')\n",
    "        post(group_id, submission_invitation.id)\n",
    "\n",
    "print('Done!')"
   ]
  }
 ],
 "metadata": {
  "kernelspec": {
   "display_name": "Python 3",
   "language": "python",
   "name": "python3"
  },
  "language_info": {
   "codemirror_mode": {
    "name": "ipython",
    "version": 3
   },
   "file_extension": ".py",
   "mimetype": "text/x-python",
   "name": "python",
   "nbconvert_exporter": "python",
   "pygments_lexer": "ipython3",
   "version": "3.11.7"
  },
  "orig_nbformat": 4
 },
 "nbformat": 4,
 "nbformat_minor": 2
}
