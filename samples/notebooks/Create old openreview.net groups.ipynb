{
 "cells": [
  {
   "cell_type": "code",
   "execution_count": 1,
   "metadata": {
    "collapsed": true
   },
   "outputs": [],
   "source": [
    "from openreview import *"
   ]
  },
  {
   "cell_type": "code",
   "execution_count": 98,
   "metadata": {
    "collapsed": true
   },
   "outputs": [],
   "source": [
    "openreview = Client(baseurl='http://openreview.net')"
   ]
  },
  {
   "cell_type": "code",
   "execution_count": 81,
   "metadata": {
    "collapsed": false
   },
   "outputs": [],
   "source": [
    "iclr2014        = Group('ICLR.cc/2014', \n",
    "    readers     = ['everyone'],       \n",
    "            writers     = ['ICLR.cc','ICLR.cc/2014'],  \n",
    "            signatures  = ['ICLR.cc'], \n",
    "            signatories = ['ICLR.cc/2014'], \n",
    "            members     = [], \n",
    "            web         = './iclr2013/iclr2014_webfield.html')"
   ]
  },
  {
   "cell_type": "code",
   "execution_count": 82,
   "metadata": {
    "collapsed": false
   },
   "outputs": [
    {
     "data": {
      "text/plain": [
       "<openreview.openreview.Group at 0x104336590>"
      ]
     },
     "execution_count": 82,
     "metadata": {},
     "output_type": "execute_result"
    }
   ],
   "source": [
    "openreview.post_group(iclr2014)"
   ]
  },
  {
   "cell_type": "code",
   "execution_count": 83,
   "metadata": {
    "collapsed": false
   },
   "outputs": [
    {
     "data": {
      "text/plain": [
       "<openreview.openreview.Group at 0x104371a50>"
      ]
     },
     "execution_count": 83,
     "metadata": {},
     "output_type": "execute_result"
    }
   ],
   "source": [
    "openreview.post_group(openreview.get_group('host').add_member('ICLR.cc/2014'))"
   ]
  },
  {
   "cell_type": "code",
   "execution_count": 84,
   "metadata": {
    "collapsed": false
   },
   "outputs": [],
   "source": [
    "iclr2013        = Group('ICLR.cc/2013', \n",
    "    readers     = ['everyone'],       \n",
    "            writers     = ['ICLR.cc','ICLR.cc/2013'],  \n",
    "            signatures  = ['ICLR.cc'], \n",
    "            signatories = ['ICLR.cc/2013'], \n",
    "            members     = [], \n",
    "            web         = './iclr2013/iclr2013_webfield.html')"
   ]
  },
  {
   "cell_type": "code",
   "execution_count": 85,
   "metadata": {
    "collapsed": false
   },
   "outputs": [
    {
     "data": {
      "text/plain": [
       "<openreview.openreview.Group at 0x104336e50>"
      ]
     },
     "execution_count": 85,
     "metadata": {},
     "output_type": "execute_result"
    }
   ],
   "source": [
    "openreview.post_group(iclr2013)"
   ]
  },
  {
   "cell_type": "code",
   "execution_count": 86,
   "metadata": {
    "collapsed": false
   },
   "outputs": [
    {
     "data": {
      "text/plain": [
       "<openreview.openreview.Group at 0x10431a090>"
      ]
     },
     "execution_count": 86,
     "metadata": {},
     "output_type": "execute_result"
    }
   ],
   "source": [
    "openreview.post_group(openreview.get_group('host').add_member('ICLR.cc/2013'))"
   ]
  },
  {
   "cell_type": "code",
   "execution_count": 87,
   "metadata": {
    "collapsed": false
   },
   "outputs": [
    {
     "data": {
      "text/plain": [
       "<openreview.openreview.Group at 0x104336110>"
      ]
     },
     "execution_count": 87,
     "metadata": {},
     "output_type": "execute_result"
    }
   ],
   "source": [
    "icml            = Group('ICML.cc',      \n",
    "            readers     = ['OpenReview.net'], \n",
    "            writers     = ['OpenReview.net'], \n",
    "            signatures  = ['OpenReview.net'], \n",
    "            signatories = ['ICML.cc'], \n",
    "            members     = [] )\n",
    "openreview.post_group(icml)    "
   ]
  },
  {
   "cell_type": "code",
   "execution_count": 88,
   "metadata": {
    "collapsed": false
   },
   "outputs": [
    {
     "data": {
      "text/plain": [
       "<openreview.openreview.Group at 0x10430fed0>"
      ]
     },
     "execution_count": 88,
     "metadata": {},
     "output_type": "execute_result"
    }
   ],
   "source": [
    "icml2013        = Group('ICML.cc/2013', \n",
    "    readers     = ['everyone'],       \n",
    "            writers     = ['ICML.cc','ICML.cc/2013'],  \n",
    "            signatures  = ['ICML.cc'], \n",
    "            signatories = ['ICML.cc/2013'], \n",
    "            members     = [])\n",
    "openreview.post_group(icml2013) "
   ]
  },
  {
   "cell_type": "code",
   "execution_count": 89,
   "metadata": {
    "collapsed": false
   },
   "outputs": [
    {
     "data": {
      "text/plain": [
       "<openreview.openreview.Group at 0x10430fc90>"
      ]
     },
     "execution_count": 89,
     "metadata": {},
     "output_type": "execute_result"
    }
   ],
   "source": [
    "icml2013inferning        = Group('ICML.cc/2013/Inferning', \n",
    "    readers     = ['everyone'],       \n",
    "            writers     = ['ICML.cc/2013','ICML.cc/2013/Inferning'],  \n",
    "            signatures  = ['ICML.cc/2013'], \n",
    "            signatories = ['ICML.cc/2013/Inferning'], \n",
    "            members     = [],\n",
    "            web = './icml2013/icmlinferning2013_webfield.html')\n",
    "openreview.post_group(icml2013inferning)\n",
    "openreview.post_group(openreview.get_group('host').add_member('ICML.cc/2013/Inferning'))"
   ]
  },
  {
   "cell_type": "code",
   "execution_count": 90,
   "metadata": {
    "collapsed": false
   },
   "outputs": [
    {
     "data": {
      "text/plain": [
       "<openreview.openreview.Group at 0x10430fd90>"
      ]
     },
     "execution_count": 90,
     "metadata": {},
     "output_type": "execute_result"
    }
   ],
   "source": [
    "icml2013peerreview        = Group('ICML.cc/2013/PeerReview', \n",
    "    readers     = ['everyone'],       \n",
    "            writers     = ['ICML.cc/2013','ICML.cc/2013/PeerReview'],  \n",
    "            signatures  = ['ICML.cc/2013'], \n",
    "            signatories = ['ICML.cc/2013/PeerReview'], \n",
    "            members     = [],\n",
    "            web = './icml2013/icmlpeerreview2013_webfield.html')\n",
    "openreview.post_group(icml2013peerreview)\n",
    "openreview.post_group(openreview.get_group('host').add_member('ICML.cc/2013/PeerReview'))"
   ]
  },
  {
   "cell_type": "code",
   "execution_count": 97,
   "metadata": {
    "collapsed": false
   },
   "outputs": [
    {
     "data": {
      "text/plain": [
       "<openreview.openreview.Group at 0x1043b14d0>"
      ]
     },
     "execution_count": 97,
     "metadata": {},
     "output_type": "execute_result"
    }
   ],
   "source": [
    "akbc            = Group('AKBC.cc',      \n",
    "            readers     = ['OpenReview.net'], \n",
    "            writers     = ['OpenReview.net'], \n",
    "            signatures  = ['OpenReview.net'], \n",
    "            signatories = ['AKBC.cc'], \n",
    "            members     = [] )\n",
    "openreview.post_group(akbc) "
   ]
  },
  {
   "cell_type": "code",
   "execution_count": 93,
   "metadata": {
    "collapsed": false
   },
   "outputs": [
    {
     "data": {
      "text/plain": [
       "<openreview.openreview.Group at 0x10430f1d0>"
      ]
     },
     "execution_count": 93,
     "metadata": {},
     "output_type": "execute_result"
    }
   ],
   "source": [
    "akbc2013        = Group('AKBC.cc/2013', \n",
    "    readers     = ['everyone'],       \n",
    "            writers     = ['AKBC.cc','AKBC.cc/2013'],  \n",
    "            signatures  = ['AKBC.cc'], \n",
    "            signatories = ['AKBC.cc/2013'], \n",
    "            members     = [], \n",
    "            web         = './akbc2013/akbc2013_webfield.html')\n",
    "openreview.post_group(akbc2013)\n",
    "openreview.post_group(openreview.get_group('host').add_member('AKBC.cc/2013'))"
   ]
  },
  {
   "cell_type": "code",
   "execution_count": 99,
   "metadata": {
    "collapsed": false
   },
   "outputs": [
    {
     "data": {
      "text/plain": [
       "<openreview.openreview.Group at 0x1043b1750>"
      ]
     },
     "execution_count": 99,
     "metadata": {},
     "output_type": "execute_result"
    }
   ],
   "source": [
    "host = Group('host',\n",
    "    readers     = ['everyone'],       \n",
    "    writers     = ['OpenReview.net'],  \n",
    "    signatures  = ['OpenReview.net'], \n",
    "    signatories = ['OpenReview.net'], \n",
    "    members     = [\n",
    "\"ICLR.cc/2017\",\n",
    "\"NIPS.cc/2016/Deep_Learning_Symposium\",\n",
    "\"NIPS.cc/2016/workshop/NAMPI\",\n",
    "\"NIPS.cc/2016/workshop/MLITS\",\n",
    "\"ECCV2016.org/BNMW\",\n",
    "\"ICLR.cc/2016/workshop\",\n",
    "\"ICLR.cc/2014\",\n",
    "\"ICLR.cc/2013\",\n",
    "\"ICML.cc/2013/Inferning\",\n",
    "\"ICML.cc/2013/PeerReview\",\n",
    "\"AKBC.cc/2013\"])\n",
    "openreview.post_group(host)"
   ]
  },
  {
   "cell_type": "code",
   "execution_count": 38,
   "metadata": {
    "collapsed": true
   },
   "outputs": [],
   "source": [
    "import requests\n",
    "import json"
   ]
  },
  {
   "cell_type": "code",
   "execution_count": 77,
   "metadata": {
    "collapsed": false
   },
   "outputs": [
    {
     "name": "stdout",
     "output_type": "stream",
     "text": [
      "{'to': 'melisabok@gmail.com', 'text': 'line1\\nline2\\nhttp://www.google.com.ar\\n\\nline3\\n', 'from': 'melisa@mail.com', 'subject': 'subjcet'}\n",
      "{u'message': u'success'}\n"
     ]
    }
   ],
   "source": [
    "docHeaders = {\n",
    "    'Content-Type': 'text/plain; charset=UTF-8',\n",
    "    'Content-Transfer-Encoding': 'quoted-printable'\n",
    "}\n",
    "text = \"\"\"line1\n",
    "line2\n",
    "http://www.google.com.ar\n",
    "\n",
    "line3\n",
    "\"\"\"\n",
    "jsonDoc = {\n",
    "    'from': 'melisa@mail.com',\n",
    "    'to': 'melisabok@gmail.com',\n",
    "    'subject': 'subjcet',\n",
    "    'text': text\n",
    "}\n",
    "json2 = {\n",
    "    \"personalizations\": [\n",
    "        {\"to\": [\n",
    "                {\"email\": \"melisabok@gmail.com\"}\n",
    "            ]\n",
    "        }\n",
    "    ],\n",
    "    \"from\": \n",
    "        {\"email\": \"example@example.com\"},\n",
    "    \"subject\": \"Hello, World!\",\n",
    "    \"content\": [{\"type\": \"text/plain\", \"value\": \"Heya!\\n\\nline2\"}]\n",
    "}\n",
    "headers = {\n",
    "    'Authorization': ''\n",
    "}\n",
    "\n",
    "print jsonDoc\n",
    "response = requests.post('https://api.sendgrid.com/api/mail.send.json', data=jsonDoc, headers=headers)\n",
    "print response.json()"
   ]
  },
  {
   "cell_type": "code",
   "execution_count": null,
   "metadata": {
    "collapsed": true
   },
   "outputs": [],
   "source": []
  }
 ],
 "metadata": {
  "kernelspec": {
   "display_name": "Python 2",
   "language": "python",
   "name": "python2"
  },
  "language_info": {
   "codemirror_mode": {
    "name": "ipython",
    "version": 2
   },
   "file_extension": ".py",
   "mimetype": "text/x-python",
   "name": "python",
   "nbconvert_exporter": "python",
   "pygments_lexer": "ipython2",
   "version": "2.7.12"
  }
 },
 "nbformat": 4,
 "nbformat_minor": 0
}
