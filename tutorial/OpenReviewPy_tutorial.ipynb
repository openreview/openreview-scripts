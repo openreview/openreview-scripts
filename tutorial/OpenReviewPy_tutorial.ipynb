{
 "cells": [
  {
   "cell_type": "markdown",
   "metadata": {},
   "source": [
    "# OpenReviewPy Tutorial\n",
    "\n",
    "\n",
    "This tutorial will demonstrate how to use the OpenReviewPy library to manage your conference.\n",
    "\n",
    "\n"
   ]
  },
  {
   "cell_type": "markdown",
   "metadata": {},
   "source": [
    "### Getting Started\n",
    "\n",
    "Before you begin, make sure that you've installed the latest version of OpenReviewPy using pip:\n",
    "\n",
    "```\n",
    "pip install openreviewpy\n",
    "```\n"
   ]
  },
  {
   "cell_type": "code",
   "execution_count": null,
   "metadata": {
    "collapsed": true
   },
   "outputs": [],
   "source": [
    "# Start by importing all four OpenReviewPy classes\n",
    "import openreview"
   ]
  },
  {
   "cell_type": "markdown",
   "metadata": {},
   "source": [
    "### OpenReviewPy classes\n",
    "OpenReviewPy includes four classes:\n",
    "- **Client**: used to interact with the OpenReview servers.\n",
    "- **Group**: represents an OpenReview *entity* \n",
    "    - E.g. organizations, conferences, individuals, reviewers, program committees, etc.\n",
    "- **Note**: represents a *record* within OpenReview \n",
    "    - E.g. paper submissions, comments, reviews, etc.\n",
    "- **Invitation**: represents an *invitation for users to submit notes*\n",
    "    - E.g. a call for paper submissions, an invitation open to the public to submit comments, an invitation to only the program committee to submit a review, etc."
   ]
  },
  {
   "cell_type": "code",
   "execution_count": null,
   "metadata": {
    "collapsed": true
   },
   "outputs": [],
   "source": [
    "# Let's start by initializing the Client with our username, password, and base URL\n",
    "openreview_client = openreview.Client(username='your_username',password='your_password',baseurl='http://openreview.net')"
   ]
  },
  {
   "cell_type": "code",
   "execution_count": null,
   "metadata": {
    "collapsed": false
   },
   "outputs": [],
   "source": [
    "# Get the list of accepted reviewers\n",
    "reviewers = openreview_client.get_group('ICLR.cc/2017/conference/reviewers')\n",
    "print reviewers"
   ]
  },
  {
   "cell_type": "code",
   "execution_count": null,
   "metadata": {
    "collapsed": false
   },
   "outputs": [],
   "source": [
    "# Try to get the total list of invited reviewers\n",
    "reviewers_invited = openreview_client.get_group('ICLR.cc/2017/conference/reviewers-invited')\n",
    "\n",
    "# ...but fail because you don't have permission!\n",
    "print reviewers_invited"
   ]
  },
  {
   "cell_type": "markdown",
   "metadata": {},
   "source": [
    "### More to come..."
   ]
  }
 ],
 "metadata": {
  "kernelspec": {
   "display_name": "Python (openreview)",
   "language": "python",
   "name": "openreview"
  },
  "language_info": {
   "codemirror_mode": {
    "name": "ipython",
    "version": 2
   },
   "file_extension": ".py",
   "mimetype": "text/x-python",
   "name": "python",
   "nbconvert_exporter": "python",
   "pygments_lexer": "ipython2",
   "version": "2.7.12"
  }
 },
 "nbformat": 4,
 "nbformat_minor": 0
}
